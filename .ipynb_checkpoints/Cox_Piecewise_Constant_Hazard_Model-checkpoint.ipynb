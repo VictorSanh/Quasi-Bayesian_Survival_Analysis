{
 "cells": [
  {
   "cell_type": "markdown",
   "metadata": {},
   "source": [
    "# Quasi-Bayesian Approach"
   ]
  },
  {
   "cell_type": "code",
   "execution_count": 54,
   "metadata": {},
   "outputs": [
    {
     "name": "stdout",
     "output_type": "stream",
     "text": [
      "Once deleted, variables cannot be recovered. Proceed (y/[n])? y\n"
     ]
    }
   ],
   "source": [
    "%reset"
   ]
  },
  {
   "cell_type": "code",
   "execution_count": 55,
   "metadata": {},
   "outputs": [],
   "source": [
    "%matplotlib inline\n",
    "\n",
    "from matplotlib import pyplot as plt\n",
    "import numpy as np\n",
    "import pymc3 as pm\n",
    "from pymc3.distributions.timeseries import GaussianRandomWalk\n",
    "import seaborn as sns\n",
    "from statsmodels import datasets\n",
    "from theano import tensor as T\n",
    "\n",
    "from construct_data import construct_data, quasi_posterior\n",
    "import pandas"
   ]
  },
  {
   "cell_type": "code",
   "execution_count": 56,
   "metadata": {},
   "outputs": [],
   "source": [
    "beta_true = np.array([0.15, -25])\n",
    "N = 1000\n",
    "C = 100\n",
    "\n",
    "data, Y, delta_list = construct_data(beta_true, N, C)\n",
    "data = pandas.DataFrame(data)\n",
    "data = data.rename(index=str, columns={0: \"a\", 1: \"b\"})\n",
    "\n",
    "Y = pandas.DataFrame(Y)\n",
    "Y = Y.rename(index=str, columns={0: \"time\"}) #death time\n",
    "\n",
    "delta_list = np.array(delta_list)"
   ]
  },
  {
   "cell_type": "code",
   "execution_count": 57,
   "metadata": {},
   "outputs": [
    {
     "ename": "NameError",
     "evalue": "name 'J' is not defined",
     "output_type": "error",
     "traceback": [
      "\u001b[0;31m---------------------------------------------------------------------------\u001b[0m",
      "\u001b[0;31mNameError\u001b[0m                                 Traceback (most recent call last)",
      "\u001b[0;32m<ipython-input-57-815c42bb18d2>\u001b[0m in \u001b[0;36m<module>\u001b[0;34m()\u001b[0m\n\u001b[1;32m      1\u001b[0m \u001b[0;31m#s_0 = 0, s_1 = 1, s_2 = 2, ... s_99 = 99, s_100 = 1e4 (+\\infty)\u001b[0m\u001b[0;34m\u001b[0m\u001b[0;34m\u001b[0m\u001b[0m\n\u001b[1;32m      2\u001b[0m \u001b[0;31m#s -> shape J+1\u001b[0m\u001b[0;34m\u001b[0m\u001b[0;34m\u001b[0m\u001b[0m\n\u001b[0;32m----> 3\u001b[0;31m \u001b[0ms\u001b[0m \u001b[0;34m=\u001b[0m \u001b[0mnp\u001b[0m\u001b[0;34m.\u001b[0m\u001b[0marange\u001b[0m\u001b[0;34m(\u001b[0m\u001b[0;36m0\u001b[0m\u001b[0;34m,\u001b[0m \u001b[0mJ\u001b[0m\u001b[0;34m,\u001b[0m \u001b[0;36m1\u001b[0m\u001b[0;34m)\u001b[0m\u001b[0;34m\u001b[0m\u001b[0m\n\u001b[0m\u001b[1;32m      4\u001b[0m \u001b[0ms\u001b[0m\u001b[0;34m,\u001b[0m \u001b[0ms\u001b[0m\u001b[0;34m[\u001b[0m\u001b[0mJ\u001b[0m\u001b[0;34m-\u001b[0m\u001b[0;36m1\u001b[0m\u001b[0;34m]\u001b[0m\u001b[0;34m,\u001b[0m \u001b[0mnp\u001b[0m\u001b[0;34m.\u001b[0m\u001b[0mappend\u001b[0m\u001b[0;34m(\u001b[0m\u001b[0ms\u001b[0m\u001b[0;34m,\u001b[0m \u001b[0;36m10\u001b[0m\u001b[0;34m)\u001b[0m\u001b[0;34m\u001b[0m\u001b[0m\n",
      "\u001b[0;31mNameError\u001b[0m: name 'J' is not defined"
     ]
    }
   ],
   "source": [
    "#s_0 = 0, s_1 = 1, s_2 = 2, ... s_99 = 99, s_100 = 1e4 (+\\infty)\n",
    "#s -> shape J+1\n",
    "s = np.arange(0, J, 1)\n",
    "s, s[J-1], np.append(s, 10)"
   ]
  },
  {
   "cell_type": "markdown",
   "metadata": {},
   "source": [
    "\\begin{equation}\n",
    "\\begin{split}\n",
    "    \\hat{Y} &= \\sum_{j=1}^{J-1} \\Bigg[ \\frac{ \\exp \\Big( e^{x' \\beta} \\big(\\lambda_j s_{j-1} - \\sum_{i=1}^{j-1} \\lambda_i (s_i - s_{i-1})\\big) \\Big) }{\\lambda_j e^{x' \\beta}} \\\\\n",
    "    &\\qquad \\times \\Big( \\exp(-\\lambda_j e^{x' \\beta} s_{j-1}) (1 + \\lambda_j e^{x' \\beta} s_{j-1}) - \\exp(-\\lambda_j e^{x' \\beta} s_j) (1 + \\lambda_j  e^{x' \\beta} s_j)  \\Big) \\Bigg] \\\\\n",
    "            &\\quad + \\Bigg[ \\frac{ \\exp \\Big( e^{x' \\beta} \\big(\\lambda_J s_{J-1} - \\sum_{i=1}^{J-1} \\lambda_i (s_i - s_{i-1})\\big) \\Big) }{\\lambda_J e^{x' \\beta}} \\\\\n",
    "            &\\qquad \\times \\Big( \\exp(-\\lambda_J e^{x' \\beta} s_{J-1})(1+\\lambda_J e^{x' \\beta} s_{J-1}) - \\exp(-\\lambda_J e^{x' \\beta} C)(1+\\lambda_J e^{x' \\beta} C) \\Big) \\Bigg]\\\\\n",
    "            &\\quad + \\exp \\Big( e^{x' \\beta} \\big(\\lambda_J s_{J-1} - \\sum_{i=1}^{J-1} \\lambda_i (s_i - s_{i-1})\\big) \\Big)\\Big( \\exp(-\\lambda_J e^{x' \\beta} C) - \\exp(-\\lambda_J e^{x' \\beta} s_J) \\Big)\n",
    "\\end{split}\n",
    "\\end{equation}"
   ]
  },
  {
   "cell_type": "code",
   "execution_count": null,
   "metadata": {},
   "outputs": [],
   "source": [
    "    A = lambda_[J-1]*s[J-1] - (lambda_*DeltaS)[:(J-1)].sum()\n",
    "    A = T.exp(regression*A)\n",
    "\n",
    "    B = lambda_[J-1]*np.exp(beta0*data.a + beta1*data.b)\n",
    "\n",
    "    E = T.exp(-lambda_[J-1]*regression*s[J-1])\n",
    "    E *= 1 + lambda_[J-1]*regression*s[J-1]\n",
    "    D = T.exp(-lambda_[J-1]*regression*C)\n",
    "    D *= 1 + lambda_[J-1]*regression*C\n",
    "    \n",
    "    Y_hat += A/B*(E-D)\n",
    "    \n",
    "    E = T.exp(-lambda_[J-1]*regression*C)\n",
    "    D = T.exp(-lambda_[J-1]*regression*s[J])\n",
    "    Y_hat += A*(E - D)"
   ]
  },
  {
   "cell_type": "code",
   "execution_count": 117,
   "metadata": {},
   "outputs": [
    {
     "name": "stdout",
     "output_type": "stream",
     "text": [
      "Model Created\n"
     ]
    }
   ],
   "source": [
    "alpha = 0.01\n",
    "J = 100\n",
    "s = np.append(np.arange(0, J, 1), 1e5)\n",
    "DeltaS = s[1:] - s[:J]\n",
    "\n",
    "with pm.Model() as cox_quasi_bayesian:\n",
    "    #Regressors\n",
    "    lambda_ = pm.Uniform('lambda0', -10., 10., shape = J)\n",
    "    \n",
    "    beta0 = pm.Gamma('beta0', alpha= 1, beta = 10)\n",
    "    beta1 = pm.Uniform('beta1', -60., 0.)\n",
    "    \n",
    "    regression = pm.Deterministic('regressor', T.exp(beta0*data.a + beta1*data.b))\n",
    "    \n",
    "    Y_hat = 0\n",
    "    for j in range(1, J):\n",
    "        #A = 0\n",
    "        #for i in range(1, j):\n",
    "        #    A += lambda_[i-1]*(s[i] - s[i-1])\n",
    "        A = lambda_[j-1]*s[j-1] - (lambda_*DeltaS)[:(j-1)].sum()\n",
    "        A = np.exp(A*regression)\n",
    "        \n",
    "        B = lambda_[j-1]*regression\n",
    "        \n",
    "        E = T.exp(-lambda_[j-1]*regression*s[j-1])\n",
    "        E *= 1 + lambda_[j-1]*regression*s[j-1]\n",
    "        D = T.exp(-lambda_[j-1]*regression*s[j])\n",
    "        D *= 1 + lambda_[j-1]*regression*s[j]\n",
    "        \n",
    "        Y_hat += A/B*(E-D)\n",
    "    \n",
    "    #A = 0\n",
    "    #for i in range(1, J):\n",
    "    #    A += lambda_[i-1]*(s[i] - s[i-1])\n",
    "\n",
    "    A = lambda_[J-1]*s[J-1] - (lambda_*DeltaS)[:(J-1)].sum()\n",
    "    A = T.exp(regression*A)\n",
    "\n",
    "    B = lambda_[J-1]*np.exp(beta0*data.a + beta1*data.b)\n",
    "\n",
    "    E = T.exp(-lambda_[J-1]*regression*s[J-1])\n",
    "    E *= 1 + lambda_[J-1]*regression*s[J-1]\n",
    "    D = T.exp(-lambda_[J-1]*regression*C)\n",
    "    D *= 1 + lambda_[J-1]*regression*C\n",
    "    \n",
    "    Y_hat += A/B*(E-D)\n",
    "    \n",
    "    E = T.exp(-lambda_[J-1]*regression*C)\n",
    "    D = T.exp(-lambda_[J-1]*regression*s[J])\n",
    "    Y_hat += A*(E - D)\n",
    "    \n",
    "    def log_exp_risk(failure):\n",
    "        out = ((Y_hat - failure)**2).mean()\n",
    "        return -alpha*out\n",
    "    \n",
    "    exp_surv = pm.DensityDist('exp_surv', log_exp_risk, observed={'failure':Y.time})\n",
    "    \n",
    "    \n",
    "print(\"Model Created\")"
   ]
  },
  {
   "cell_type": "code",
   "execution_count": 119,
   "metadata": {},
   "outputs": [
    {
     "name": "stderr",
     "output_type": "stream",
     "text": [
      "INFO (theano.gof.compilelock): Refreshing lock /home/victor/.theano/compiledir_Linux-4.10--generic-x86_64-with-Ubuntu-16.04-xenial-x86_64-3.5.2-64/lock_dir/lock\n",
      "INFO (theano.gof.compilelock): Refreshing lock /home/victor/.theano/compiledir_Linux-4.10--generic-x86_64-with-Ubuntu-16.04-xenial-x86_64-3.5.2-64/lock_dir/lock\n",
      "100%|██████████| 5500/5500 [01:31<00:00, 59.86it/s]\n"
     ]
    }
   ],
   "source": [
    "n_samples = 5000\n",
    "burn = 1000\n",
    "thin = 10\n",
    "\n",
    "with cox_quasi_bayesian:\n",
    "    step = pm.Metropolis()\n",
    "    trace = pm.sample(n_samples, step)\n",
    "    \n",
    "trace = trace[burn::thin]"
   ]
  },
  {
   "cell_type": "code",
   "execution_count": 121,
   "metadata": {},
   "outputs": [
    {
     "name": "stdout",
     "output_type": "stream",
     "text": [
      "beta0 mean a quasi posteriori :  0.1\n",
      "beta1 mean a quasi posteriori :  -30.0\n"
     ]
    },
    {
     "data": {
      "image/png": "[encoded data removed]",
      "text/plain": [
       "<matplotlib.figure.Figure at 0x7f07df1992e8>"
      ]
     },
     "metadata": {},
     "output_type": "display_data"
    }
   ],
   "source": [
    "pm.traceplot(trace)\n",
    "print(\"beta0 mean a quasi posteriori : \", trace['beta0'].mean())\n",
    "print(\"beta1 mean a quasi posteriori : \", trace['beta1'].mean())"
   ]
  },
  {
   "cell_type": "code",
   "execution_count": 127,
   "metadata": {},
   "outputs": [
    {
     "data": {
      "text/plain": [
       "array([ 0.,  0.,  0.,  0.,  0.,  0.,  0.,  0.,  0.,  0.,  0.,  0.,  0.,\n",
       "        0.,  0.,  0.,  0.,  0.,  0.,  0.,  0.,  0.,  0.,  0.,  0.,  0.,\n",
       "        0.,  0.,  0.,  0.,  0.,  0.,  0.,  0.,  0.,  0.,  0.,  0.,  0.,\n",
       "        0.,  0.,  0.,  0.,  0.,  0.,  0.,  0.,  0.,  0.,  0.,  0.,  0.,\n",
       "        0.,  0.,  0.,  0.,  0.,  0.,  0.,  0.,  0.,  0.,  0.,  0.,  0.,\n",
       "        0.,  0.,  0.,  0.,  0.,  0.,  0.,  0.,  0.,  0.,  0.,  0.,  0.,\n",
       "        0.,  0.,  0.,  0.,  0.,  0.,  0.,  0.,  0.,  0.,  0.,  0.,  0.,\n",
       "        0.,  0.,  0.,  0.,  0.,  0.,  0.,  0.,  0.])"
      ]
     },
     "execution_count": 127,
     "metadata": {},
     "output_type": "execute_result"
    }
   ],
   "source": [
    "trace['lambda0'].mean(axis=0)"
   ]
  },
  {
   "cell_type": "code",
   "execution_count": 79,
   "metadata": {},
   "outputs": [
    {
     "data": {
      "text/plain": [
       "-1.6817958319683668"
      ]
     },
     "execution_count": 79,
     "metadata": {},
     "output_type": "execute_result"
    }
   ],
   "source": [
    "j = 3\n",
    "lambda_ = np.random.randn(J)\n",
    "A = 0\n",
    "for i in range(1, j):\n",
    "    A += lambda_[i-1]*(s[i] - s[i-1])\n",
    "A"
   ]
  },
  {
   "cell_type": "code",
   "execution_count": 75,
   "metadata": {},
   "outputs": [
    {
     "data": {
      "text/plain": [
       "0.4626155359083966"
      ]
     },
     "execution_count": 75,
     "metadata": {},
     "output_type": "execute_result"
    }
   ],
   "source": [
    "(lambda_*DeltaS)[:(j-1)].sum()"
   ]
  },
  {
   "cell_type": "code",
   "execution_count": 80,
   "metadata": {},
   "outputs": [
    {
     "data": {
      "text/plain": [
       "array([-0.02856632, -1.65322951, -0.83164891, -0.59408609, -0.19872589,\n",
       "       -0.12914782, -0.19878631,  1.5036649 , -1.73615414, -1.23944593,\n",
       "       -0.8396486 , -0.20755713, -0.24046259,  1.33229678,  0.06931003,\n",
       "        0.94151568,  1.70584262,  0.62956712, -2.42219166, -1.57601867,\n",
       "        1.36980769, -0.56946935,  0.26115058, -0.90374094,  0.7877814 ,\n",
       "        2.48551841, -0.22205993, -1.55091885,  0.24208655, -0.37611612,\n",
       "       -1.90761602, -0.88289609, -0.37230047,  0.90246748,  0.95482036,\n",
       "       -0.23538176, -0.50560347, -1.48005588,  0.45213059, -1.31238694,\n",
       "        0.3190116 , -1.12329295, -0.39034268, -0.17100462, -0.65395107,\n",
       "       -0.292121  , -1.24184794, -0.63854875,  0.03210615,  0.61210307,\n",
       "       -2.24689017,  0.54669881,  1.05992793,  0.15147239, -1.17932042,\n",
       "        0.81644898, -0.52116622, -0.01959949, -0.36244975,  0.24552435,\n",
       "       -0.26825068,  0.03321837,  0.22787397, -2.2590847 , -0.56107645,\n",
       "       -0.12244869, -0.29615003, -0.12746853,  1.33548226, -0.32425642,\n",
       "        1.10887455, -0.82712565,  1.21718727,  1.72729935,  0.27009401,\n",
       "        0.99479131, -0.60475905,  0.38328989, -1.29500216, -0.91159053,\n",
       "       -0.70789861,  1.36819379, -1.49374246, -0.13905164, -0.99029143,\n",
       "       -1.35603327,  0.5566687 , -1.49033175, -0.47473775, -1.44457901,\n",
       "        0.35313002, -0.80901219,  0.20768888,  0.06135258, -1.85732973,\n",
       "        0.74055781,  1.42347767,  0.26363032,  1.20489644, -0.57481979])"
      ]
     },
     "execution_count": 80,
     "metadata": {},
     "output_type": "execute_result"
    }
   ],
   "source": [
    "lambda_"
   ]
  },
  {
   "cell_type": "code",
   "execution_count": 100,
   "metadata": {},
   "outputs": [
    {
     "data": {
      "text/plain": [
       "array([ 23, 484,  11,  34, 346, 418,  98, 474,  35,   2,  33, 177, 476,\n",
       "       465, 323, 107, 447,  93, 325, 197, 496,  54, 474, 409, 389, 178,\n",
       "       426, 161, 197, 381, 441, 219, 486, 318, 379, 486, 221, 193, 165,\n",
       "       292, 279, 313, 373,  52, 292, 270, 460, 453, 356, 436, 442, 155,\n",
       "       490, 136, 272, 232, 222, 406, 278,  73, 404, 313, 398, 121,  16,\n",
       "       363, 322, 485, 456,  84, 440,  78,  69,   1,  84, 217, 204, 402,\n",
       "       344, 328, 247, 489, 188, 344, 321, 436, 275, 169, 411, 176,  21,\n",
       "       442, 118, 222, 173, 386, 329, 122, 378, 430,  23])"
      ]
     },
     "execution_count": 100,
     "metadata": {},
     "output_type": "execute_result"
    }
   ],
   "source": [
    "s = np.random.randint(500, size=J+1)\n",
    "DeltaS = s[1:] - s[:J]\n",
    "lambda_ = np.random.randn(J)\n"
   ]
  },
  {
   "cell_type": "code",
   "execution_count": 103,
   "metadata": {},
   "outputs": [
    {
     "data": {
      "text/plain": [
       "array([ 461, -473,   23,  312,   72, -320,  376, -439,  -33,   31,  144,\n",
       "        299,  -11, -142, -216,  340, -354,  232, -128,  299, -442,  420,\n",
       "        -65,  -20, -211,  248, -265,   36,  184,   60, -222,  267, -168,\n",
       "         61,  107, -265,  -28,  -28,  127,  -13,   34,   60, -321,  240,\n",
       "        -22,  190,   -7,  -97,   80,    6, -287,  335, -354,  136,  -40,\n",
       "        -10,  184, -128, -205,  331,  -91,   85, -277, -105,  347,  -41,\n",
       "        163,  -29, -372,  356, -362,   -9,  -68,   83,  133,  -13,  198,\n",
       "        -58,  -16,  -81,  242, -301,  156,  -23,  115, -161, -106,  242,\n",
       "       -235, -155,  421, -324,  104,  -49,  213,  -57, -207,  256,   52,\n",
       "       -407])"
      ]
     },
     "execution_count": 103,
     "metadata": {},
     "output_type": "execute_result"
    }
   ],
   "source": [
    "DeltaS"
   ]
  },
  {
   "cell_type": "code",
   "execution_count": 104,
   "metadata": {},
   "outputs": [
    {
     "data": {
      "text/plain": [
       "461"
      ]
     },
     "execution_count": 104,
     "metadata": {},
     "output_type": "execute_result"
    }
   ],
   "source": []
  },
  {
   "cell_type": "code",
   "execution_count": 105,
   "metadata": {},
   "outputs": [
    {
     "data": {
      "text/plain": [
       "(100,)"
      ]
     },
     "execution_count": 105,
     "metadata": {},
     "output_type": "execute_result"
    }
   ],
   "source": []
  },
  {
   "cell_type": "code",
   "execution_count": null,
   "metadata": {},
   "outputs": [],
   "source": []
  }
 ],
 "metadata": {
  "kernelspec": {
   "display_name": "Python 3",
   "language": "python",
   "name": "python3"
  },
  "language_info": {
   "codemirror_mode": {
    "name": "ipython",
    "version": 3
   },
   "file_extension": ".py",
   "mimetype": "text/x-python",
   "name": "python",
   "nbconvert_exporter": "python",
   "pygments_lexer": "ipython3",
   "version": "3.5.2"
  }
 },
 "nbformat": 4,
 "nbformat_minor": 2
}
