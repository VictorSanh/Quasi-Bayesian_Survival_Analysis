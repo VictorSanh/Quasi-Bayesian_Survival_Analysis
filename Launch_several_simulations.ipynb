{
 "cells": [
  {
   "cell_type": "code",
   "execution_count": 1,
   "metadata": {},
   "outputs": [
    {
     "name": "stdout",
     "output_type": "stream",
     "text": [
      "Once deleted, variables cannot be recovered. Proceed (y/[n])? y\n"
     ]
    }
   ],
   "source": [
    "%reset"
   ]
  },
  {
   "cell_type": "code",
   "execution_count": 2,
   "metadata": {
    "scrolled": true
   },
   "outputs": [],
   "source": [
    "from exponential_model import *"
   ]
  },
  {
   "cell_type": "markdown",
   "metadata": {},
   "source": [
    "# Influence de Alpha"
   ]
  },
  {
   "cell_type": "code",
   "execution_count": 4,
   "metadata": {
    "scrolled": true
   },
   "outputs": [
    {
     "name": "stderr",
     "output_type": "stream",
     "text": [
      "100%|██████████| 20500/20500 [00:09<00:00, 2245.62it/s]\n"
     ]
    },
    {
     "name": "stdout",
     "output_type": "stream",
     "text": [
      "beta0 mean a quasi posteriori :  0.151728703826\n",
      "beta1 mean a quasi posteriori :  -24.7455133562\n"
     ]
    },
    {
     "name": "stderr",
     "output_type": "stream",
     "text": [
      "100%|██████████| 20500/20500 [00:07<00:00, 2613.82it/s]\n"
     ]
    },
    {
     "name": "stdout",
     "output_type": "stream",
     "text": [
      "beta0 mean a quasi posteriori :  0.152055812776\n",
      "beta1 mean a quasi posteriori :  -24.7794438818\n"
     ]
    },
    {
     "name": "stderr",
     "output_type": "stream",
     "text": [
      "100%|██████████| 20500/20500 [00:07<00:00, 2656.75it/s]\n"
     ]
    },
    {
     "name": "stdout",
     "output_type": "stream",
     "text": [
      "beta0 mean a quasi posteriori :  0.151704924098\n",
      "beta1 mean a quasi posteriori :  -24.7452687953\n"
     ]
    },
    {
     "name": "stderr",
     "output_type": "stream",
     "text": [
      "100%|██████████| 20500/20500 [00:07<00:00, 2693.02it/s]\n"
     ]
    },
    {
     "name": "stdout",
     "output_type": "stream",
     "text": [
      "beta0 mean a quasi posteriori :  0.151663207565\n",
      "beta1 mean a quasi posteriori :  -24.7385448138\n"
     ]
    }
   ],
   "source": [
    "C = 100\n",
    "beta_true = np.array([0.15, -25])\n",
    "size_data_list = [1000]\n",
    "\n",
    "beta0_prior_list = [['Gamma', 1., 10.]] #[['Uniform', 0., 1.], ['Uniform', -1., 1.], ['Gamma', 1, 10]]\n",
    "beta1_prior_list = [['Normal', -25., 5.]]#[['Uniform', -60., 0.], ['Uniform', -30., -20.], ['Uniform', -40., -20.], ['Gaussian', -25., 10]]\n",
    "alpha_prior_list = [['Constant', 100.]]#[['Constant', 0.01], ['Uniform', 0., 0.1], ['Constant', 1.], ['Constant', 10.],\n",
    "                    \n",
    "\n",
    "n_samples = 20000\n",
    "burn = 10000\n",
    "n_iter = 4\n",
    "\n",
    "params = run_several_expo(n_iter, beta_true, size_data_list, C, beta0_prior_list,\n",
    "                     beta1_prior_list, alpha_prior_list, n_samples, burn, plot=True, thin=20)"
   ]
  },
  {
   "cell_type": "code",
   "execution_count": 5,
   "metadata": {},
   "outputs": [],
   "source": [
    "params['alpha_prior'] = params['alpha_prior'].astype(str)\n",
    "params['beta0_prior'] = params['beta0_prior'].astype(str)\n",
    "params['beta1_prior'] = params['beta1_prior'].astype(str)"
   ]
  },
  {
   "cell_type": "code",
   "execution_count": 6,
   "metadata": {},
   "outputs": [
    {
     "data": {
      "text/html": [
       "<div>\n",
       "<style scoped>\n",
       "    .dataframe tbody tr th:only-of-type {\n",
       "        vertical-align: middle;\n",
       "    }\n",
       "\n",
       "    .dataframe tbody tr th {\n",
       "        vertical-align: top;\n",
       "    }\n",
       "\n",
       "    .dataframe thead th {\n",
       "        text-align: right;\n",
       "    }\n",
       "</style>\n",
       "<table border=\"1\" class=\"dataframe\">\n",
       "  <thead>\n",
       "    <tr style=\"text-align: right;\">\n",
       "      <th></th>\n",
       "      <th>N</th>\n",
       "      <th>alpha_prior</th>\n",
       "      <th>beta0_MQP</th>\n",
       "      <th>beta0_prior</th>\n",
       "      <th>beta1_MQP</th>\n",
       "      <th>beta1_prior</th>\n",
       "      <th>n_iter</th>\n",
       "    </tr>\n",
       "  </thead>\n",
       "  <tbody>\n",
       "    <tr>\n",
       "      <th>0</th>\n",
       "      <td>1000</td>\n",
       "      <td>['Constant', 100.0]</td>\n",
       "      <td>0.151729</td>\n",
       "      <td>['Gamma', 1.0, 10.0]</td>\n",
       "      <td>-24.745513</td>\n",
       "      <td>['Normal', -25.0, 5.0]</td>\n",
       "      <td>0</td>\n",
       "    </tr>\n",
       "    <tr>\n",
       "      <th>1</th>\n",
       "      <td>1000</td>\n",
       "      <td>['Constant', 100.0]</td>\n",
       "      <td>0.152056</td>\n",
       "      <td>['Gamma', 1.0, 10.0]</td>\n",
       "      <td>-24.779444</td>\n",
       "      <td>['Normal', -25.0, 5.0]</td>\n",
       "      <td>1</td>\n",
       "    </tr>\n",
       "    <tr>\n",
       "      <th>2</th>\n",
       "      <td>1000</td>\n",
       "      <td>['Constant', 100.0]</td>\n",
       "      <td>0.151705</td>\n",
       "      <td>['Gamma', 1.0, 10.0]</td>\n",
       "      <td>-24.745269</td>\n",
       "      <td>['Normal', -25.0, 5.0]</td>\n",
       "      <td>2</td>\n",
       "    </tr>\n",
       "    <tr>\n",
       "      <th>3</th>\n",
       "      <td>1000</td>\n",
       "      <td>['Constant', 100.0]</td>\n",
       "      <td>0.151663</td>\n",
       "      <td>['Gamma', 1.0, 10.0]</td>\n",
       "      <td>-24.738545</td>\n",
       "      <td>['Normal', -25.0, 5.0]</td>\n",
       "      <td>3</td>\n",
       "    </tr>\n",
       "  </tbody>\n",
       "</table>\n",
       "</div>"
      ],
      "text/plain": [
       "      N          alpha_prior  beta0_MQP           beta0_prior  beta1_MQP  \\\n",
       "0  1000  ['Constant', 100.0]   0.151729  ['Gamma', 1.0, 10.0] -24.745513   \n",
       "1  1000  ['Constant', 100.0]   0.152056  ['Gamma', 1.0, 10.0] -24.779444   \n",
       "2  1000  ['Constant', 100.0]   0.151705  ['Gamma', 1.0, 10.0] -24.745269   \n",
       "3  1000  ['Constant', 100.0]   0.151663  ['Gamma', 1.0, 10.0] -24.738545   \n",
       "\n",
       "              beta1_prior  n_iter  \n",
       "0  ['Normal', -25.0, 5.0]       0  \n",
       "1  ['Normal', -25.0, 5.0]       1  \n",
       "2  ['Normal', -25.0, 5.0]       2  \n",
       "3  ['Normal', -25.0, 5.0]       3  "
      ]
     },
     "execution_count": 6,
     "metadata": {},
     "output_type": "execute_result"
    }
   ],
   "source": [
    "params"
   ]
  },
  {
   "cell_type": "code",
   "execution_count": 7,
   "metadata": {},
   "outputs": [
    {
     "data": {
      "text/html": [
       "<div>\n",
       "<style scoped>\n",
       "    .dataframe tbody tr th:only-of-type {\n",
       "        vertical-align: middle;\n",
       "    }\n",
       "\n",
       "    .dataframe tbody tr th {\n",
       "        vertical-align: top;\n",
       "    }\n",
       "\n",
       "    .dataframe thead th {\n",
       "        text-align: right;\n",
       "    }\n",
       "</style>\n",
       "<table border=\"1\" class=\"dataframe\">\n",
       "  <thead>\n",
       "    <tr style=\"text-align: right;\">\n",
       "      <th></th>\n",
       "      <th>N</th>\n",
       "      <th>alpha_prior</th>\n",
       "      <th>beta0_prior</th>\n",
       "      <th>beta1_prior</th>\n",
       "      <th>beta0_MQP</th>\n",
       "      <th>beta1_MQP</th>\n",
       "      <th>n_iter</th>\n",
       "    </tr>\n",
       "  </thead>\n",
       "  <tbody>\n",
       "    <tr>\n",
       "      <th>0</th>\n",
       "      <td>1000</td>\n",
       "      <td>['Constant', 100.0]</td>\n",
       "      <td>['Gamma', 1.0, 10.0]</td>\n",
       "      <td>['Normal', -25.0, 5.0]</td>\n",
       "      <td>0.151788</td>\n",
       "      <td>-24.752193</td>\n",
       "      <td>1.5</td>\n",
       "    </tr>\n",
       "  </tbody>\n",
       "</table>\n",
       "</div>"
      ],
      "text/plain": [
       "      N          alpha_prior           beta0_prior             beta1_prior  \\\n",
       "0  1000  ['Constant', 100.0]  ['Gamma', 1.0, 10.0]  ['Normal', -25.0, 5.0]   \n",
       "\n",
       "   beta0_MQP  beta1_MQP  n_iter  \n",
       "0   0.151788 -24.752193     1.5  "
      ]
     },
     "execution_count": 7,
     "metadata": {},
     "output_type": "execute_result"
    }
   ],
   "source": [
    "params.groupby(['N', 'alpha_prior', 'beta0_prior', 'beta1_prior'], as_index=False).mean()"
   ]
  },
  {
   "cell_type": "code",
   "execution_count": 8,
   "metadata": {},
   "outputs": [
    {
     "data": {
      "text/html": [
       "<div>\n",
       "<style scoped>\n",
       "    .dataframe tbody tr th:only-of-type {\n",
       "        vertical-align: middle;\n",
       "    }\n",
       "\n",
       "    .dataframe tbody tr th {\n",
       "        vertical-align: top;\n",
       "    }\n",
       "\n",
       "    .dataframe thead th {\n",
       "        text-align: right;\n",
       "    }\n",
       "</style>\n",
       "<table border=\"1\" class=\"dataframe\">\n",
       "  <thead>\n",
       "    <tr style=\"text-align: right;\">\n",
       "      <th></th>\n",
       "      <th>alpha_prior</th>\n",
       "      <th>beta0_MQP</th>\n",
       "      <th>beta1_MQP</th>\n",
       "    </tr>\n",
       "  </thead>\n",
       "  <tbody>\n",
       "    <tr>\n",
       "      <th>0</th>\n",
       "      <td>['Constant', 100.0]</td>\n",
       "      <td>0.151788</td>\n",
       "      <td>-24.752193</td>\n",
       "    </tr>\n",
       "  </tbody>\n",
       "</table>\n",
       "</div>"
      ],
      "text/plain": [
       "           alpha_prior  beta0_MQP  beta1_MQP\n",
       "0  ['Constant', 100.0]   0.151788 -24.752193"
      ]
     },
     "execution_count": 8,
     "metadata": {},
     "output_type": "execute_result"
    }
   ],
   "source": [
    "# Impact de alpha\n",
    "params.groupby(['alpha_prior'], as_index=False)[['beta0_MQP', 'beta1_MQP']].mean()"
   ]
  },
  {
   "cell_type": "code",
   "execution_count": 9,
   "metadata": {},
   "outputs": [
    {
     "name": "stderr",
     "output_type": "stream",
     "text": [
      "100%|██████████| 20500/20500 [00:07<00:00, 2608.42it/s]\n"
     ]
    },
    {
     "name": "stdout",
     "output_type": "stream",
     "text": [
      "beta0 mean a quasi posteriori :  0.139126841859\n",
      "beta1 mean a quasi posteriori :  -24.3266353296\n"
     ]
    },
    {
     "name": "stderr",
     "output_type": "stream",
     "text": [
      "100%|██████████| 20500/20500 [00:10<00:00, 1933.23it/s]\n"
     ]
    },
    {
     "name": "stdout",
     "output_type": "stream",
     "text": [
      "beta0 mean a quasi posteriori :  0.12020800783\n",
      "beta1 mean a quasi posteriori :  -24.5215349875\n"
     ]
    },
    {
     "name": "stderr",
     "output_type": "stream",
     "text": [
      "100%|██████████| 20500/20500 [00:07<00:00, 2662.55it/s]\n"
     ]
    },
    {
     "name": "stdout",
     "output_type": "stream",
     "text": [
      "beta0 mean a quasi posteriori :  0.160282478226\n",
      "beta1 mean a quasi posteriori :  -26.3560344308\n"
     ]
    },
    {
     "name": "stderr",
     "output_type": "stream",
     "text": [
      "100%|██████████| 20500/20500 [00:07<00:00, 2665.18it/s]\n"
     ]
    },
    {
     "name": "stdout",
     "output_type": "stream",
     "text": [
      "beta0 mean a quasi posteriori :  0.153865132715\n",
      "beta1 mean a quasi posteriori :  -25.6376076838\n"
     ]
    }
   ],
   "source": [
    "C = 100\n",
    "beta_true = np.array([0.15, -25])\n",
    "size_data_list = [1000]\n",
    "\n",
    "beta0_prior_list = [['Gamma', 1., 10.]] #[['Uniform', 0., 1.], ['Uniform', -1., 1.], ['Gamma', 1, 10]]\n",
    "beta1_prior_list = [['Normal', -25., 5.]]#[['Uniform', -60., 0.], ['Uniform', -30., -20.], ['Uniform', -40., -20.], ['Gaussian', -25., 10]]\n",
    "alpha_prior_list = [['Constant', 0.01], ['Uniform', 0., 0.1], ['Constant', 1.], ['Constant', 10.]]\n",
    "                    \n",
    "\n",
    "n_samples = 20000\n",
    "burn = 10000\n",
    "n_iter = 1\n",
    "\n",
    "params = run_several_expo(n_iter, beta_true, size_data_list, C, beta0_prior_list,\n",
    "                     beta1_prior_list, alpha_prior_list, n_samples, burn, plot=True, thin=20)"
   ]
  },
  {
   "cell_type": "code",
   "execution_count": 10,
   "metadata": {},
   "outputs": [
    {
     "data": {
      "text/html": [
       "<div>\n",
       "<style scoped>\n",
       "    .dataframe tbody tr th:only-of-type {\n",
       "        vertical-align: middle;\n",
       "    }\n",
       "\n",
       "    .dataframe tbody tr th {\n",
       "        vertical-align: top;\n",
       "    }\n",
       "\n",
       "    .dataframe thead th {\n",
       "        text-align: right;\n",
       "    }\n",
       "</style>\n",
       "<table border=\"1\" class=\"dataframe\">\n",
       "  <thead>\n",
       "    <tr style=\"text-align: right;\">\n",
       "      <th></th>\n",
       "      <th>N</th>\n",
       "      <th>alpha_prior</th>\n",
       "      <th>beta0_MQP</th>\n",
       "      <th>beta0_prior</th>\n",
       "      <th>beta1_MQP</th>\n",
       "      <th>beta1_prior</th>\n",
       "      <th>n_iter</th>\n",
       "    </tr>\n",
       "  </thead>\n",
       "  <tbody>\n",
       "    <tr>\n",
       "      <th>0</th>\n",
       "      <td>1000</td>\n",
       "      <td>[Constant, 0.01]</td>\n",
       "      <td>0.139127</td>\n",
       "      <td>[Gamma, 1.0, 10.0]</td>\n",
       "      <td>-24.326635</td>\n",
       "      <td>[Normal, -25.0, 5.0]</td>\n",
       "      <td>0</td>\n",
       "    </tr>\n",
       "    <tr>\n",
       "      <th>1</th>\n",
       "      <td>1000</td>\n",
       "      <td>[Uniform, 0.0, 0.1]</td>\n",
       "      <td>0.120208</td>\n",
       "      <td>[Gamma, 1.0, 10.0]</td>\n",
       "      <td>-24.521535</td>\n",
       "      <td>[Normal, -25.0, 5.0]</td>\n",
       "      <td>0</td>\n",
       "    </tr>\n",
       "    <tr>\n",
       "      <th>2</th>\n",
       "      <td>1000</td>\n",
       "      <td>[Constant, 1.0]</td>\n",
       "      <td>0.160282</td>\n",
       "      <td>[Gamma, 1.0, 10.0]</td>\n",
       "      <td>-26.356034</td>\n",
       "      <td>[Normal, -25.0, 5.0]</td>\n",
       "      <td>0</td>\n",
       "    </tr>\n",
       "    <tr>\n",
       "      <th>3</th>\n",
       "      <td>1000</td>\n",
       "      <td>[Constant, 10.0]</td>\n",
       "      <td>0.153865</td>\n",
       "      <td>[Gamma, 1.0, 10.0]</td>\n",
       "      <td>-25.637608</td>\n",
       "      <td>[Normal, -25.0, 5.0]</td>\n",
       "      <td>0</td>\n",
       "    </tr>\n",
       "  </tbody>\n",
       "</table>\n",
       "</div>"
      ],
      "text/plain": [
       "      N          alpha_prior  beta0_MQP         beta0_prior  beta1_MQP  \\\n",
       "0  1000     [Constant, 0.01]   0.139127  [Gamma, 1.0, 10.0] -24.326635   \n",
       "1  1000  [Uniform, 0.0, 0.1]   0.120208  [Gamma, 1.0, 10.0] -24.521535   \n",
       "2  1000      [Constant, 1.0]   0.160282  [Gamma, 1.0, 10.0] -26.356034   \n",
       "3  1000     [Constant, 10.0]   0.153865  [Gamma, 1.0, 10.0] -25.637608   \n",
       "\n",
       "            beta1_prior  n_iter  \n",
       "0  [Normal, -25.0, 5.0]       0  \n",
       "1  [Normal, -25.0, 5.0]       0  \n",
       "2  [Normal, -25.0, 5.0]       0  \n",
       "3  [Normal, -25.0, 5.0]       0  "
      ]
     },
     "execution_count": 10,
     "metadata": {},
     "output_type": "execute_result"
    }
   ],
   "source": [
    "params"
   ]
  },
  {
   "cell_type": "markdown",
   "metadata": {},
   "source": [
    "# Influence de N"
   ]
  },
  {
   "cell_type": "code",
   "execution_count": 15,
   "metadata": {
    "scrolled": false
   },
   "outputs": [
    {
     "name": "stderr",
     "output_type": "stream",
     "text": [
      "100%|██████████| 20500/20500 [00:06<00:00, 2979.33it/s]\n",
      "/usr/local/lib/python3.5/dist-packages/matplotlib/pyplot.py:523: RuntimeWarning: More than 20 figures have been opened. Figures created through the pyplot interface (`matplotlib.pyplot.figure`) are retained until explicitly closed and may consume too much memory. (To control this warning, see the rcParam `figure.max_open_warning`).\n",
      "  max_open_warning, RuntimeWarning)\n"
     ]
    },
    {
     "name": "stdout",
     "output_type": "stream",
     "text": [
      "beta0 mean a quasi posteriori :  0.0665190647306\n",
      "beta1 mean a quasi posteriori :  -14.6054289237\n"
     ]
    },
    {
     "name": "stderr",
     "output_type": "stream",
     "text": [
      "100%|██████████| 20500/20500 [00:03<00:00, 5766.46it/s]\n"
     ]
    },
    {
     "name": "stdout",
     "output_type": "stream",
     "text": [
      "beta0 mean a quasi posteriori :  0.0672343378279\n",
      "beta1 mean a quasi posteriori :  -14.6657321916\n"
     ]
    },
    {
     "name": "stderr",
     "output_type": "stream",
     "text": [
      "100%|██████████| 20500/20500 [00:03<00:00, 5887.04it/s]\n"
     ]
    },
    {
     "name": "stdout",
     "output_type": "stream",
     "text": [
      "beta0 mean a quasi posteriori :  0.0556842722632\n",
      "beta1 mean a quasi posteriori :  -13.7316282494\n"
     ]
    },
    {
     "name": "stderr",
     "output_type": "stream",
     "text": [
      "100%|██████████| 20500/20500 [00:03<00:00, 5336.33it/s]\n"
     ]
    },
    {
     "name": "stdout",
     "output_type": "stream",
     "text": [
      "beta0 mean a quasi posteriori :  0.0456695523422\n",
      "beta1 mean a quasi posteriori :  -12.9111425708\n"
     ]
    },
    {
     "name": "stderr",
     "output_type": "stream",
     "text": [
      "100%|██████████| 20500/20500 [00:03<00:00, 5293.21it/s]\n"
     ]
    },
    {
     "name": "stdout",
     "output_type": "stream",
     "text": [
      "beta0 mean a quasi posteriori :  0.156440133561\n",
      "beta1 mean a quasi posteriori :  -25.9070075211\n"
     ]
    },
    {
     "name": "stderr",
     "output_type": "stream",
     "text": [
      "100%|██████████| 20500/20500 [00:03<00:00, 5451.37it/s]\n"
     ]
    },
    {
     "name": "stdout",
     "output_type": "stream",
     "text": [
      "beta0 mean a quasi posteriori :  0.153243246781\n",
      "beta1 mean a quasi posteriori :  -25.5575007337\n"
     ]
    },
    {
     "name": "stderr",
     "output_type": "stream",
     "text": [
      "100%|██████████| 20500/20500 [00:03<00:00, 5537.68it/s]\n"
     ]
    },
    {
     "name": "stdout",
     "output_type": "stream",
     "text": [
      "beta0 mean a quasi posteriori :  0.175792998279\n",
      "beta1 mean a quasi posteriori :  -28.0677570972\n"
     ]
    },
    {
     "name": "stderr",
     "output_type": "stream",
     "text": [
      "100%|██████████| 20500/20500 [00:03<00:00, 5629.29it/s]\n"
     ]
    },
    {
     "name": "stdout",
     "output_type": "stream",
     "text": [
      "beta0 mean a quasi posteriori :  0.165867139689\n",
      "beta1 mean a quasi posteriori :  -26.9514182502\n"
     ]
    },
    {
     "name": "stderr",
     "output_type": "stream",
     "text": [
      "100%|██████████| 20500/20500 [00:03<00:00, 5439.41it/s]\n"
     ]
    },
    {
     "name": "stdout",
     "output_type": "stream",
     "text": [
      "beta0 mean a quasi posteriori :  0.203294715682\n",
      "beta1 mean a quasi posteriori :  -29.03934599\n"
     ]
    },
    {
     "name": "stderr",
     "output_type": "stream",
     "text": [
      "100%|██████████| 20500/20500 [00:03<00:00, 5560.05it/s]\n"
     ]
    },
    {
     "name": "stdout",
     "output_type": "stream",
     "text": [
      "beta0 mean a quasi posteriori :  0.20288708124\n",
      "beta1 mean a quasi posteriori :  -28.9977750865\n"
     ]
    },
    {
     "name": "stderr",
     "output_type": "stream",
     "text": [
      "100%|██████████| 20500/20500 [00:03<00:00, 5389.98it/s]\n"
     ]
    },
    {
     "name": "stdout",
     "output_type": "stream",
     "text": [
      "beta0 mean a quasi posteriori :  0.207553404524\n",
      "beta1 mean a quasi posteriori :  -29.4455667161\n"
     ]
    },
    {
     "name": "stderr",
     "output_type": "stream",
     "text": [
      "100%|██████████| 20500/20500 [00:03<00:00, 5288.54it/s]\n"
     ]
    },
    {
     "name": "stdout",
     "output_type": "stream",
     "text": [
      "beta0 mean a quasi posteriori :  0.208178393712\n",
      "beta1 mean a quasi posteriori :  -29.510420069\n"
     ]
    },
    {
     "name": "stderr",
     "output_type": "stream",
     "text": [
      "100%|██████████| 20500/20500 [00:04<00:00, 4958.00it/s]\n"
     ]
    },
    {
     "name": "stdout",
     "output_type": "stream",
     "text": [
      "beta0 mean a quasi posteriori :  0.264669254522\n",
      "beta1 mean a quasi posteriori :  -37.8292522977\n"
     ]
    },
    {
     "name": "stderr",
     "output_type": "stream",
     "text": [
      "100%|██████████| 20500/20500 [00:04<00:00, 5045.67it/s]\n"
     ]
    },
    {
     "name": "stdout",
     "output_type": "stream",
     "text": [
      "beta0 mean a quasi posteriori :  0.274109779039\n",
      "beta1 mean a quasi posteriori :  -38.8618753885\n"
     ]
    },
    {
     "name": "stderr",
     "output_type": "stream",
     "text": [
      "100%|██████████| 20500/20500 [00:04<00:00, 4533.06it/s]\n"
     ]
    },
    {
     "name": "stdout",
     "output_type": "stream",
     "text": [
      "beta0 mean a quasi posteriori :  0.273834803362\n",
      "beta1 mean a quasi posteriori :  -38.8588274266\n"
     ]
    },
    {
     "name": "stderr",
     "output_type": "stream",
     "text": [
      "100%|██████████| 20500/20500 [00:04<00:00, 4820.38it/s]\n"
     ]
    },
    {
     "name": "stdout",
     "output_type": "stream",
     "text": [
      "beta0 mean a quasi posteriori :  0.273034076376\n",
      "beta1 mean a quasi posteriori :  -38.7551948725\n"
     ]
    },
    {
     "name": "stderr",
     "output_type": "stream",
     "text": [
      "100%|██████████| 20500/20500 [00:04<00:00, 4333.34it/s]\n"
     ]
    },
    {
     "name": "stdout",
     "output_type": "stream",
     "text": [
      "beta0 mean a quasi posteriori :  0.140932378937\n",
      "beta1 mean a quasi posteriori :  -23.8568513427\n"
     ]
    },
    {
     "name": "stderr",
     "output_type": "stream",
     "text": [
      "100%|██████████| 20500/20500 [00:04<00:00, 4425.94it/s]\n"
     ]
    },
    {
     "name": "stdout",
     "output_type": "stream",
     "text": [
      "beta0 mean a quasi posteriori :  0.141031331779\n",
      "beta1 mean a quasi posteriori :  -23.8710330632\n"
     ]
    },
    {
     "name": "stderr",
     "output_type": "stream",
     "text": [
      "100%|██████████| 20500/20500 [00:04<00:00, 4506.38it/s]\n"
     ]
    },
    {
     "name": "stdout",
     "output_type": "stream",
     "text": [
      "beta0 mean a quasi posteriori :  0.141143069172\n",
      "beta1 mean a quasi posteriori :  -23.8720027537\n"
     ]
    },
    {
     "name": "stderr",
     "output_type": "stream",
     "text": [
      "100%|██████████| 20500/20500 [00:04<00:00, 4483.77it/s]\n"
     ]
    },
    {
     "name": "stdout",
     "output_type": "stream",
     "text": [
      "beta0 mean a quasi posteriori :  0.137090328603\n",
      "beta1 mean a quasi posteriori :  -23.4320527452\n"
     ]
    },
    {
     "name": "stderr",
     "output_type": "stream",
     "text": [
      "100%|██████████| 20500/20500 [00:05<00:00, 3613.13it/s]\n"
     ]
    },
    {
     "name": "stdout",
     "output_type": "stream",
     "text": [
      "beta0 mean a quasi posteriori :  0.168048745368\n",
      "beta1 mean a quasi posteriori :  -27.4961403224\n"
     ]
    },
    {
     "name": "stderr",
     "output_type": "stream",
     "text": [
      "100%|██████████| 20500/20500 [00:05<00:00, 3615.77it/s]\n"
     ]
    },
    {
     "name": "stdout",
     "output_type": "stream",
     "text": [
      "beta0 mean a quasi posteriori :  0.169338905805\n",
      "beta1 mean a quasi posteriori :  -27.6387838907\n"
     ]
    },
    {
     "name": "stderr",
     "output_type": "stream",
     "text": [
      "100%|██████████| 20500/20500 [00:05<00:00, 3483.48it/s]\n"
     ]
    },
    {
     "name": "stdout",
     "output_type": "stream",
     "text": [
      "beta0 mean a quasi posteriori :  0.168059570779\n",
      "beta1 mean a quasi posteriori :  -27.4925942621\n"
     ]
    },
    {
     "name": "stderr",
     "output_type": "stream",
     "text": [
      "100%|██████████| 20500/20500 [00:05<00:00, 3633.96it/s]\n"
     ]
    },
    {
     "name": "stdout",
     "output_type": "stream",
     "text": [
      "beta0 mean a quasi posteriori :  0.173485546506\n",
      "beta1 mean a quasi posteriori :  -28.1052910331\n"
     ]
    }
   ],
   "source": [
    "C = 100\n",
    "beta_true = np.array([0.15, -25])\n",
    "size_data_list = [5, 25, 50, 100, 250, 500]\n",
    "\n",
    "beta0_prior_list = [['Gamma', 1., 10.]] #[['Uniform', 0., 1.], ['Uniform', -1., 1.], ['Gamma', 1, 10]]\n",
    "beta1_prior_list = [['Normal', -25., 5.]]#[['Uniform', -60., 0.], ['Uniform', -30., -20.], ['Uniform', -40., -20.], ['Gaussian', -25., 10]]\n",
    "alpha_prior_list = [['Constant', 1.]]#[['Constant', 0.01], ['Uniform', 0., 0.1], ['Constant', 1.], ['Constant', 10.],\n",
    "                    \n",
    "\n",
    "n_samples = 20000\n",
    "burn = 10000\n",
    "n_iter = 4\n",
    "\n",
    "params = run_several_expo(n_iter, beta_true, size_data_list, C, beta0_prior_list,\n",
    "                     beta1_prior_list, alpha_prior_list, n_samples, burn, plot=True, thin=20)"
   ]
  },
  {
   "cell_type": "code",
   "execution_count": 16,
   "metadata": {},
   "outputs": [
    {
     "data": {
      "text/html": [
       "<div>\n",
       "<style scoped>\n",
       "    .dataframe tbody tr th:only-of-type {\n",
       "        vertical-align: middle;\n",
       "    }\n",
       "\n",
       "    .dataframe tbody tr th {\n",
       "        vertical-align: top;\n",
       "    }\n",
       "\n",
       "    .dataframe thead th {\n",
       "        text-align: right;\n",
       "    }\n",
       "</style>\n",
       "<table border=\"1\" class=\"dataframe\">\n",
       "  <thead>\n",
       "    <tr style=\"text-align: right;\">\n",
       "      <th></th>\n",
       "      <th>N</th>\n",
       "      <th>alpha_prior</th>\n",
       "      <th>beta0_MQP</th>\n",
       "      <th>beta0_prior</th>\n",
       "      <th>beta1_MQP</th>\n",
       "      <th>beta1_prior</th>\n",
       "      <th>n_iter</th>\n",
       "    </tr>\n",
       "  </thead>\n",
       "  <tbody>\n",
       "    <tr>\n",
       "      <th>0</th>\n",
       "      <td>5</td>\n",
       "      <td>['Constant', 1.0]</td>\n",
       "      <td>0.066519</td>\n",
       "      <td>['Gamma', 1.0, 10.0]</td>\n",
       "      <td>-14.605429</td>\n",
       "      <td>['Normal', -25.0, 5.0]</td>\n",
       "      <td>0</td>\n",
       "    </tr>\n",
       "    <tr>\n",
       "      <th>1</th>\n",
       "      <td>5</td>\n",
       "      <td>['Constant', 1.0]</td>\n",
       "      <td>0.067234</td>\n",
       "      <td>['Gamma', 1.0, 10.0]</td>\n",
       "      <td>-14.665732</td>\n",
       "      <td>['Normal', -25.0, 5.0]</td>\n",
       "      <td>1</td>\n",
       "    </tr>\n",
       "    <tr>\n",
       "      <th>2</th>\n",
       "      <td>5</td>\n",
       "      <td>['Constant', 1.0]</td>\n",
       "      <td>0.055684</td>\n",
       "      <td>['Gamma', 1.0, 10.0]</td>\n",
       "      <td>-13.731628</td>\n",
       "      <td>['Normal', -25.0, 5.0]</td>\n",
       "      <td>2</td>\n",
       "    </tr>\n",
       "    <tr>\n",
       "      <th>3</th>\n",
       "      <td>5</td>\n",
       "      <td>['Constant', 1.0]</td>\n",
       "      <td>0.045670</td>\n",
       "      <td>['Gamma', 1.0, 10.0]</td>\n",
       "      <td>-12.911143</td>\n",
       "      <td>['Normal', -25.0, 5.0]</td>\n",
       "      <td>3</td>\n",
       "    </tr>\n",
       "    <tr>\n",
       "      <th>4</th>\n",
       "      <td>25</td>\n",
       "      <td>['Constant', 1.0]</td>\n",
       "      <td>0.156440</td>\n",
       "      <td>['Gamma', 1.0, 10.0]</td>\n",
       "      <td>-25.907008</td>\n",
       "      <td>['Normal', -25.0, 5.0]</td>\n",
       "      <td>0</td>\n",
       "    </tr>\n",
       "    <tr>\n",
       "      <th>5</th>\n",
       "      <td>25</td>\n",
       "      <td>['Constant', 1.0]</td>\n",
       "      <td>0.153243</td>\n",
       "      <td>['Gamma', 1.0, 10.0]</td>\n",
       "      <td>-25.557501</td>\n",
       "      <td>['Normal', -25.0, 5.0]</td>\n",
       "      <td>1</td>\n",
       "    </tr>\n",
       "    <tr>\n",
       "      <th>6</th>\n",
       "      <td>25</td>\n",
       "      <td>['Constant', 1.0]</td>\n",
       "      <td>0.175793</td>\n",
       "      <td>['Gamma', 1.0, 10.0]</td>\n",
       "      <td>-28.067757</td>\n",
       "      <td>['Normal', -25.0, 5.0]</td>\n",
       "      <td>2</td>\n",
       "    </tr>\n",
       "    <tr>\n",
       "      <th>7</th>\n",
       "      <td>25</td>\n",
       "      <td>['Constant', 1.0]</td>\n",
       "      <td>0.165867</td>\n",
       "      <td>['Gamma', 1.0, 10.0]</td>\n",
       "      <td>-26.951418</td>\n",
       "      <td>['Normal', -25.0, 5.0]</td>\n",
       "      <td>3</td>\n",
       "    </tr>\n",
       "    <tr>\n",
       "      <th>8</th>\n",
       "      <td>50</td>\n",
       "      <td>['Constant', 1.0]</td>\n",
       "      <td>0.203295</td>\n",
       "      <td>['Gamma', 1.0, 10.0]</td>\n",
       "      <td>-29.039346</td>\n",
       "      <td>['Normal', -25.0, 5.0]</td>\n",
       "      <td>0</td>\n",
       "    </tr>\n",
       "    <tr>\n",
       "      <th>9</th>\n",
       "      <td>50</td>\n",
       "      <td>['Constant', 1.0]</td>\n",
       "      <td>0.202887</td>\n",
       "      <td>['Gamma', 1.0, 10.0]</td>\n",
       "      <td>-28.997775</td>\n",
       "      <td>['Normal', -25.0, 5.0]</td>\n",
       "      <td>1</td>\n",
       "    </tr>\n",
       "    <tr>\n",
       "      <th>10</th>\n",
       "      <td>50</td>\n",
       "      <td>['Constant', 1.0]</td>\n",
       "      <td>0.207553</td>\n",
       "      <td>['Gamma', 1.0, 10.0]</td>\n",
       "      <td>-29.445567</td>\n",
       "      <td>['Normal', -25.0, 5.0]</td>\n",
       "      <td>2</td>\n",
       "    </tr>\n",
       "    <tr>\n",
       "      <th>11</th>\n",
       "      <td>50</td>\n",
       "      <td>['Constant', 1.0]</td>\n",
       "      <td>0.208178</td>\n",
       "      <td>['Gamma', 1.0, 10.0]</td>\n",
       "      <td>-29.510420</td>\n",
       "      <td>['Normal', -25.0, 5.0]</td>\n",
       "      <td>3</td>\n",
       "    </tr>\n",
       "    <tr>\n",
       "      <th>12</th>\n",
       "      <td>100</td>\n",
       "      <td>['Constant', 1.0]</td>\n",
       "      <td>0.264669</td>\n",
       "      <td>['Gamma', 1.0, 10.0]</td>\n",
       "      <td>-37.829252</td>\n",
       "      <td>['Normal', -25.0, 5.0]</td>\n",
       "      <td>0</td>\n",
       "    </tr>\n",
       "    <tr>\n",
       "      <th>13</th>\n",
       "      <td>100</td>\n",
       "      <td>['Constant', 1.0]</td>\n",
       "      <td>0.274110</td>\n",
       "      <td>['Gamma', 1.0, 10.0]</td>\n",
       "      <td>-38.861875</td>\n",
       "      <td>['Normal', -25.0, 5.0]</td>\n",
       "      <td>1</td>\n",
       "    </tr>\n",
       "    <tr>\n",
       "      <th>14</th>\n",
       "      <td>100</td>\n",
       "      <td>['Constant', 1.0]</td>\n",
       "      <td>0.273835</td>\n",
       "      <td>['Gamma', 1.0, 10.0]</td>\n",
       "      <td>-38.858827</td>\n",
       "      <td>['Normal', -25.0, 5.0]</td>\n",
       "      <td>2</td>\n",
       "    </tr>\n",
       "    <tr>\n",
       "      <th>15</th>\n",
       "      <td>100</td>\n",
       "      <td>['Constant', 1.0]</td>\n",
       "      <td>0.273034</td>\n",
       "      <td>['Gamma', 1.0, 10.0]</td>\n",
       "      <td>-38.755195</td>\n",
       "      <td>['Normal', -25.0, 5.0]</td>\n",
       "      <td>3</td>\n",
       "    </tr>\n",
       "    <tr>\n",
       "      <th>16</th>\n",
       "      <td>250</td>\n",
       "      <td>['Constant', 1.0]</td>\n",
       "      <td>0.140932</td>\n",
       "      <td>['Gamma', 1.0, 10.0]</td>\n",
       "      <td>-23.856851</td>\n",
       "      <td>['Normal', -25.0, 5.0]</td>\n",
       "      <td>0</td>\n",
       "    </tr>\n",
       "    <tr>\n",
       "      <th>17</th>\n",
       "      <td>250</td>\n",
       "      <td>['Constant', 1.0]</td>\n",
       "      <td>0.141031</td>\n",
       "      <td>['Gamma', 1.0, 10.0]</td>\n",
       "      <td>-23.871033</td>\n",
       "      <td>['Normal', -25.0, 5.0]</td>\n",
       "      <td>1</td>\n",
       "    </tr>\n",
       "    <tr>\n",
       "      <th>18</th>\n",
       "      <td>250</td>\n",
       "      <td>['Constant', 1.0]</td>\n",
       "      <td>0.141143</td>\n",
       "      <td>['Gamma', 1.0, 10.0]</td>\n",
       "      <td>-23.872003</td>\n",
       "      <td>['Normal', -25.0, 5.0]</td>\n",
       "      <td>2</td>\n",
       "    </tr>\n",
       "    <tr>\n",
       "      <th>19</th>\n",
       "      <td>250</td>\n",
       "      <td>['Constant', 1.0]</td>\n",
       "      <td>0.137090</td>\n",
       "      <td>['Gamma', 1.0, 10.0]</td>\n",
       "      <td>-23.432053</td>\n",
       "      <td>['Normal', -25.0, 5.0]</td>\n",
       "      <td>3</td>\n",
       "    </tr>\n",
       "    <tr>\n",
       "      <th>20</th>\n",
       "      <td>500</td>\n",
       "      <td>['Constant', 1.0]</td>\n",
       "      <td>0.168049</td>\n",
       "      <td>['Gamma', 1.0, 10.0]</td>\n",
       "      <td>-27.496140</td>\n",
       "      <td>['Normal', -25.0, 5.0]</td>\n",
       "      <td>0</td>\n",
       "    </tr>\n",
       "    <tr>\n",
       "      <th>21</th>\n",
       "      <td>500</td>\n",
       "      <td>['Constant', 1.0]</td>\n",
       "      <td>0.169339</td>\n",
       "      <td>['Gamma', 1.0, 10.0]</td>\n",
       "      <td>-27.638784</td>\n",
       "      <td>['Normal', -25.0, 5.0]</td>\n",
       "      <td>1</td>\n",
       "    </tr>\n",
       "    <tr>\n",
       "      <th>22</th>\n",
       "      <td>500</td>\n",
       "      <td>['Constant', 1.0]</td>\n",
       "      <td>0.168060</td>\n",
       "      <td>['Gamma', 1.0, 10.0]</td>\n",
       "      <td>-27.492594</td>\n",
       "      <td>['Normal', -25.0, 5.0]</td>\n",
       "      <td>2</td>\n",
       "    </tr>\n",
       "    <tr>\n",
       "      <th>23</th>\n",
       "      <td>500</td>\n",
       "      <td>['Constant', 1.0]</td>\n",
       "      <td>0.173486</td>\n",
       "      <td>['Gamma', 1.0, 10.0]</td>\n",
       "      <td>-28.105291</td>\n",
       "      <td>['Normal', -25.0, 5.0]</td>\n",
       "      <td>3</td>\n",
       "    </tr>\n",
       "  </tbody>\n",
       "</table>\n",
       "</div>"
      ],
      "text/plain": [
       "      N        alpha_prior  beta0_MQP           beta0_prior  beta1_MQP  \\\n",
       "0     5  ['Constant', 1.0]   0.066519  ['Gamma', 1.0, 10.0] -14.605429   \n",
       "1     5  ['Constant', 1.0]   0.067234  ['Gamma', 1.0, 10.0] -14.665732   \n",
       "2     5  ['Constant', 1.0]   0.055684  ['Gamma', 1.0, 10.0] -13.731628   \n",
       "3     5  ['Constant', 1.0]   0.045670  ['Gamma', 1.0, 10.0] -12.911143   \n",
       "4    25  ['Constant', 1.0]   0.156440  ['Gamma', 1.0, 10.0] -25.907008   \n",
       "5    25  ['Constant', 1.0]   0.153243  ['Gamma', 1.0, 10.0] -25.557501   \n",
       "6    25  ['Constant', 1.0]   0.175793  ['Gamma', 1.0, 10.0] -28.067757   \n",
       "7    25  ['Constant', 1.0]   0.165867  ['Gamma', 1.0, 10.0] -26.951418   \n",
       "8    50  ['Constant', 1.0]   0.203295  ['Gamma', 1.0, 10.0] -29.039346   \n",
       "9    50  ['Constant', 1.0]   0.202887  ['Gamma', 1.0, 10.0] -28.997775   \n",
       "10   50  ['Constant', 1.0]   0.207553  ['Gamma', 1.0, 10.0] -29.445567   \n",
       "11   50  ['Constant', 1.0]   0.208178  ['Gamma', 1.0, 10.0] -29.510420   \n",
       "12  100  ['Constant', 1.0]   0.264669  ['Gamma', 1.0, 10.0] -37.829252   \n",
       "13  100  ['Constant', 1.0]   0.274110  ['Gamma', 1.0, 10.0] -38.861875   \n",
       "14  100  ['Constant', 1.0]   0.273835  ['Gamma', 1.0, 10.0] -38.858827   \n",
       "15  100  ['Constant', 1.0]   0.273034  ['Gamma', 1.0, 10.0] -38.755195   \n",
       "16  250  ['Constant', 1.0]   0.140932  ['Gamma', 1.0, 10.0] -23.856851   \n",
       "17  250  ['Constant', 1.0]   0.141031  ['Gamma', 1.0, 10.0] -23.871033   \n",
       "18  250  ['Constant', 1.0]   0.141143  ['Gamma', 1.0, 10.0] -23.872003   \n",
       "19  250  ['Constant', 1.0]   0.137090  ['Gamma', 1.0, 10.0] -23.432053   \n",
       "20  500  ['Constant', 1.0]   0.168049  ['Gamma', 1.0, 10.0] -27.496140   \n",
       "21  500  ['Constant', 1.0]   0.169339  ['Gamma', 1.0, 10.0] -27.638784   \n",
       "22  500  ['Constant', 1.0]   0.168060  ['Gamma', 1.0, 10.0] -27.492594   \n",
       "23  500  ['Constant', 1.0]   0.173486  ['Gamma', 1.0, 10.0] -28.105291   \n",
       "\n",
       "               beta1_prior  n_iter  \n",
       "0   ['Normal', -25.0, 5.0]       0  \n",
       "1   ['Normal', -25.0, 5.0]       1  \n",
       "2   ['Normal', -25.0, 5.0]       2  \n",
       "3   ['Normal', -25.0, 5.0]       3  \n",
       "4   ['Normal', -25.0, 5.0]       0  \n",
       "5   ['Normal', -25.0, 5.0]       1  \n",
       "6   ['Normal', -25.0, 5.0]       2  \n",
       "7   ['Normal', -25.0, 5.0]       3  \n",
       "8   ['Normal', -25.0, 5.0]       0  \n",
       "9   ['Normal', -25.0, 5.0]       1  \n",
       "10  ['Normal', -25.0, 5.0]       2  \n",
       "11  ['Normal', -25.0, 5.0]       3  \n",
       "12  ['Normal', -25.0, 5.0]       0  \n",
       "13  ['Normal', -25.0, 5.0]       1  \n",
       "14  ['Normal', -25.0, 5.0]       2  \n",
       "15  ['Normal', -25.0, 5.0]       3  \n",
       "16  ['Normal', -25.0, 5.0]       0  \n",
       "17  ['Normal', -25.0, 5.0]       1  \n",
       "18  ['Normal', -25.0, 5.0]       2  \n",
       "19  ['Normal', -25.0, 5.0]       3  \n",
       "20  ['Normal', -25.0, 5.0]       0  \n",
       "21  ['Normal', -25.0, 5.0]       1  \n",
       "22  ['Normal', -25.0, 5.0]       2  \n",
       "23  ['Normal', -25.0, 5.0]       3  "
      ]
     },
     "execution_count": 16,
     "metadata": {},
     "output_type": "execute_result"
    }
   ],
   "source": [
    "params['alpha_prior'] = params['alpha_prior'].astype(str)\n",
    "params['beta0_prior'] = params['beta0_prior'].astype(str)\n",
    "params['beta1_prior'] = params['beta1_prior'].astype(str)\n",
    "\n",
    "params"
   ]
  },
  {
   "cell_type": "code",
   "execution_count": 17,
   "metadata": {},
   "outputs": [
    {
     "data": {
      "text/html": [
       "<div>\n",
       "<style scoped>\n",
       "    .dataframe tbody tr th:only-of-type {\n",
       "        vertical-align: middle;\n",
       "    }\n",
       "\n",
       "    .dataframe tbody tr th {\n",
       "        vertical-align: top;\n",
       "    }\n",
       "\n",
       "    .dataframe thead th {\n",
       "        text-align: right;\n",
       "    }\n",
       "</style>\n",
       "<table border=\"1\" class=\"dataframe\">\n",
       "  <thead>\n",
       "    <tr style=\"text-align: right;\">\n",
       "      <th></th>\n",
       "      <th>N</th>\n",
       "      <th>beta0_MQP</th>\n",
       "      <th>beta1_MQP</th>\n",
       "    </tr>\n",
       "  </thead>\n",
       "  <tbody>\n",
       "    <tr>\n",
       "      <th>0</th>\n",
       "      <td>5</td>\n",
       "      <td>0.058777</td>\n",
       "      <td>-13.978483</td>\n",
       "    </tr>\n",
       "    <tr>\n",
       "      <th>1</th>\n",
       "      <td>25</td>\n",
       "      <td>0.162836</td>\n",
       "      <td>-26.620921</td>\n",
       "    </tr>\n",
       "    <tr>\n",
       "      <th>2</th>\n",
       "      <td>50</td>\n",
       "      <td>0.205478</td>\n",
       "      <td>-29.248277</td>\n",
       "    </tr>\n",
       "    <tr>\n",
       "      <th>3</th>\n",
       "      <td>100</td>\n",
       "      <td>0.271412</td>\n",
       "      <td>-38.576287</td>\n",
       "    </tr>\n",
       "    <tr>\n",
       "      <th>4</th>\n",
       "      <td>250</td>\n",
       "      <td>0.140049</td>\n",
       "      <td>-23.757985</td>\n",
       "    </tr>\n",
       "    <tr>\n",
       "      <th>5</th>\n",
       "      <td>500</td>\n",
       "      <td>0.169733</td>\n",
       "      <td>-27.683202</td>\n",
       "    </tr>\n",
       "  </tbody>\n",
       "</table>\n",
       "</div>"
      ],
      "text/plain": [
       "     N  beta0_MQP  beta1_MQP\n",
       "0    5   0.058777 -13.978483\n",
       "1   25   0.162836 -26.620921\n",
       "2   50   0.205478 -29.248277\n",
       "3  100   0.271412 -38.576287\n",
       "4  250   0.140049 -23.757985\n",
       "5  500   0.169733 -27.683202"
      ]
     },
     "execution_count": 17,
     "metadata": {},
     "output_type": "execute_result"
    }
   ],
   "source": [
    "# Impact taille de la BDD\n",
    "params.groupby(['N'], as_index=False)[['beta0_MQP', 'beta1_MQP']].mean()"
   ]
  },
  {
   "cell_type": "markdown",
   "metadata": {},
   "source": [
    "# Influence de Beta0"
   ]
  },
  {
   "cell_type": "code",
   "execution_count": 3,
   "metadata": {},
   "outputs": [
    {
     "name": "stderr",
     "output_type": "stream",
     "text": [
      "100%|██████████| 20500/20500 [00:04<00:00, 4124.65it/s]\n"
     ]
    },
    {
     "name": "stdout",
     "output_type": "stream",
     "text": [
      "beta0 mean a quasi posteriori :  0.148432048418\n",
      "beta1 mean a quasi posteriori :  -24.8357416741\n"
     ]
    },
    {
     "name": "stderr",
     "output_type": "stream",
     "text": [
      "100%|██████████| 20500/20500 [00:04<00:00, 4465.20it/s]\n"
     ]
    },
    {
     "name": "stdout",
     "output_type": "stream",
     "text": [
      "beta0 mean a quasi posteriori :  0.141002648773\n",
      "beta1 mean a quasi posteriori :  -23.9889627985\n"
     ]
    },
    {
     "name": "stderr",
     "output_type": "stream",
     "text": [
      "100%|██████████| 20500/20500 [00:04<00:00, 4402.07it/s]\n"
     ]
    },
    {
     "name": "stdout",
     "output_type": "stream",
     "text": [
      "beta0 mean a quasi posteriori :  0.142432173745\n",
      "beta1 mean a quasi posteriori :  -24.1493585868\n"
     ]
    },
    {
     "name": "stderr",
     "output_type": "stream",
     "text": [
      "100%|██████████| 20500/20500 [00:04<00:00, 4421.45it/s]\n"
     ]
    },
    {
     "name": "stdout",
     "output_type": "stream",
     "text": [
      "beta0 mean a quasi posteriori :  0.139949377786\n",
      "beta1 mean a quasi posteriori :  -23.8627711325\n"
     ]
    },
    {
     "name": "stderr",
     "output_type": "stream",
     "text": [
      "100%|██████████| 20500/20500 [00:04<00:00, 4474.61it/s]\n"
     ]
    },
    {
     "name": "stdout",
     "output_type": "stream",
     "text": [
      "beta0 mean a quasi posteriori :  0.145651944527\n",
      "beta1 mean a quasi posteriori :  -24.5310920875\n"
     ]
    },
    {
     "name": "stderr",
     "output_type": "stream",
     "text": [
      "100%|██████████| 20500/20500 [00:04<00:00, 4468.26it/s]\n"
     ]
    },
    {
     "name": "stdout",
     "output_type": "stream",
     "text": [
      "beta0 mean a quasi posteriori :  0.145612818633\n",
      "beta1 mean a quasi posteriori :  -24.5203057663\n"
     ]
    },
    {
     "name": "stderr",
     "output_type": "stream",
     "text": [
      "100%|██████████| 20500/20500 [00:04<00:00, 4490.81it/s]\n"
     ]
    },
    {
     "name": "stdout",
     "output_type": "stream",
     "text": [
      "beta0 mean a quasi posteriori :  0.147014518965\n",
      "beta1 mean a quasi posteriori :  -24.6811737407\n"
     ]
    },
    {
     "name": "stderr",
     "output_type": "stream",
     "text": [
      "100%|██████████| 20500/20500 [00:04<00:00, 4450.15it/s]\n"
     ]
    },
    {
     "name": "stdout",
     "output_type": "stream",
     "text": [
      "beta0 mean a quasi posteriori :  0.13554469669\n",
      "beta1 mean a quasi posteriori :  -23.3649078641\n"
     ]
    },
    {
     "name": "stderr",
     "output_type": "stream",
     "text": [
      "100%|██████████| 20500/20500 [00:04<00:00, 4489.78it/s]\n"
     ]
    },
    {
     "name": "stdout",
     "output_type": "stream",
     "text": [
      "beta0 mean a quasi posteriori :  0.142511235982\n",
      "beta1 mean a quasi posteriori :  -24.1654290196\n"
     ]
    },
    {
     "name": "stderr",
     "output_type": "stream",
     "text": [
      "100%|██████████| 20500/20500 [00:04<00:00, 4456.54it/s]\n"
     ]
    },
    {
     "name": "stdout",
     "output_type": "stream",
     "text": [
      "beta0 mean a quasi posteriori :  0.137391202163\n",
      "beta1 mean a quasi posteriori :  -23.57226178\n"
     ]
    },
    {
     "name": "stderr",
     "output_type": "stream",
     "text": [
      "100%|██████████| 20500/20500 [00:04<00:00, 4408.29it/s]\n"
     ]
    },
    {
     "name": "stdout",
     "output_type": "stream",
     "text": [
      "beta0 mean a quasi posteriori :  0.139412593642\n",
      "beta1 mean a quasi posteriori :  -23.8172916305\n"
     ]
    },
    {
     "name": "stderr",
     "output_type": "stream",
     "text": [
      "100%|██████████| 20500/20500 [00:04<00:00, 4434.43it/s]\n"
     ]
    },
    {
     "name": "stdout",
     "output_type": "stream",
     "text": [
      "beta0 mean a quasi posteriori :  0.138694238012\n",
      "beta1 mean a quasi posteriori :  -23.719354109\n"
     ]
    },
    {
     "name": "stderr",
     "output_type": "stream",
     "text": [
      "100%|██████████| 20500/20500 [00:04<00:00, 4585.35it/s]\n"
     ]
    },
    {
     "name": "stdout",
     "output_type": "stream",
     "text": [
      "beta0 mean a quasi posteriori :  0.142727563355\n",
      "beta1 mean a quasi posteriori :  -24.1787088946\n"
     ]
    },
    {
     "name": "stderr",
     "output_type": "stream",
     "text": [
      "100%|██████████| 20500/20500 [00:04<00:00, 4556.10it/s]\n"
     ]
    },
    {
     "name": "stdout",
     "output_type": "stream",
     "text": [
      "beta0 mean a quasi posteriori :  0.155232866546\n",
      "beta1 mean a quasi posteriori :  -25.6191649944\n"
     ]
    }
   ],
   "source": [
    "C = 100\n",
    "beta_true = np.array([0.15, -25])\n",
    "size_data_list = [250]\n",
    "\n",
    "beta0_prior_list = [['Uniform', 0., 1.], ['Uniform', -1., 1.], ['Gamma', 1, 10], ['Gamma', 3, 10], ['Gamma', 1, 4], \n",
    "                    ['Normal', 0.15, 5], ['Normal', 0.1, 5]]\n",
    "beta1_prior_list = [['Normal', -25., 5.]]#[['Uniform', -60., 0.], ['Uniform', -30., -20.], ['Uniform', -40., -20.], ['Gaussian', -25., 10]]\n",
    "alpha_prior_list = [['Constant', 1.]]\n",
    "\n",
    "n_samples = 20000\n",
    "burn = 10000\n",
    "n_iter = 2\n",
    "\n",
    "params = run_several_expo(n_iter, beta_true, size_data_list, C, beta0_prior_list,\n",
    "                     beta1_prior_list, alpha_prior_list, n_samples, burn, plot=True, thin=20)"
   ]
  },
  {
   "cell_type": "code",
   "execution_count": 4,
   "metadata": {},
   "outputs": [
    {
     "data": {
      "text/html": [
       "<div>\n",
       "<style scoped>\n",
       "    .dataframe tbody tr th:only-of-type {\n",
       "        vertical-align: middle;\n",
       "    }\n",
       "\n",
       "    .dataframe tbody tr th {\n",
       "        vertical-align: top;\n",
       "    }\n",
       "\n",
       "    .dataframe thead th {\n",
       "        text-align: right;\n",
       "    }\n",
       "</style>\n",
       "<table border=\"1\" class=\"dataframe\">\n",
       "  <thead>\n",
       "    <tr style=\"text-align: right;\">\n",
       "      <th></th>\n",
       "      <th>N</th>\n",
       "      <th>alpha_prior</th>\n",
       "      <th>beta0_MQP</th>\n",
       "      <th>beta0_prior</th>\n",
       "      <th>beta1_MQP</th>\n",
       "      <th>beta1_prior</th>\n",
       "      <th>n_iter</th>\n",
       "    </tr>\n",
       "  </thead>\n",
       "  <tbody>\n",
       "    <tr>\n",
       "      <th>0</th>\n",
       "      <td>250</td>\n",
       "      <td>['Constant', 1.0]</td>\n",
       "      <td>0.148432</td>\n",
       "      <td>['Uniform', 0.0, 1.0]</td>\n",
       "      <td>-24.835742</td>\n",
       "      <td>['Normal', -25.0, 5.0]</td>\n",
       "      <td>0</td>\n",
       "    </tr>\n",
       "    <tr>\n",
       "      <th>1</th>\n",
       "      <td>250</td>\n",
       "      <td>['Constant', 1.0]</td>\n",
       "      <td>0.141003</td>\n",
       "      <td>['Uniform', 0.0, 1.0]</td>\n",
       "      <td>-23.988963</td>\n",
       "      <td>['Normal', -25.0, 5.0]</td>\n",
       "      <td>1</td>\n",
       "    </tr>\n",
       "    <tr>\n",
       "      <th>2</th>\n",
       "      <td>250</td>\n",
       "      <td>['Constant', 1.0]</td>\n",
       "      <td>0.142432</td>\n",
       "      <td>['Uniform', -1.0, 1.0]</td>\n",
       "      <td>-24.149359</td>\n",
       "      <td>['Normal', -25.0, 5.0]</td>\n",
       "      <td>0</td>\n",
       "    </tr>\n",
       "    <tr>\n",
       "      <th>3</th>\n",
       "      <td>250</td>\n",
       "      <td>['Constant', 1.0]</td>\n",
       "      <td>0.139949</td>\n",
       "      <td>['Uniform', -1.0, 1.0]</td>\n",
       "      <td>-23.862771</td>\n",
       "      <td>['Normal', -25.0, 5.0]</td>\n",
       "      <td>1</td>\n",
       "    </tr>\n",
       "    <tr>\n",
       "      <th>4</th>\n",
       "      <td>250</td>\n",
       "      <td>['Constant', 1.0]</td>\n",
       "      <td>0.145652</td>\n",
       "      <td>['Gamma', 1, 10]</td>\n",
       "      <td>-24.531092</td>\n",
       "      <td>['Normal', -25.0, 5.0]</td>\n",
       "      <td>0</td>\n",
       "    </tr>\n",
       "    <tr>\n",
       "      <th>5</th>\n",
       "      <td>250</td>\n",
       "      <td>['Constant', 1.0]</td>\n",
       "      <td>0.145613</td>\n",
       "      <td>['Gamma', 1, 10]</td>\n",
       "      <td>-24.520306</td>\n",
       "      <td>['Normal', -25.0, 5.0]</td>\n",
       "      <td>1</td>\n",
       "    </tr>\n",
       "    <tr>\n",
       "      <th>6</th>\n",
       "      <td>250</td>\n",
       "      <td>['Constant', 1.0]</td>\n",
       "      <td>0.147015</td>\n",
       "      <td>['Gamma', 3, 10]</td>\n",
       "      <td>-24.681174</td>\n",
       "      <td>['Normal', -25.0, 5.0]</td>\n",
       "      <td>0</td>\n",
       "    </tr>\n",
       "    <tr>\n",
       "      <th>7</th>\n",
       "      <td>250</td>\n",
       "      <td>['Constant', 1.0]</td>\n",
       "      <td>0.135545</td>\n",
       "      <td>['Gamma', 3, 10]</td>\n",
       "      <td>-23.364908</td>\n",
       "      <td>['Normal', -25.0, 5.0]</td>\n",
       "      <td>1</td>\n",
       "    </tr>\n",
       "    <tr>\n",
       "      <th>8</th>\n",
       "      <td>250</td>\n",
       "      <td>['Constant', 1.0]</td>\n",
       "      <td>0.142511</td>\n",
       "      <td>['Gamma', 1, 4]</td>\n",
       "      <td>-24.165429</td>\n",
       "      <td>['Normal', -25.0, 5.0]</td>\n",
       "      <td>0</td>\n",
       "    </tr>\n",
       "    <tr>\n",
       "      <th>9</th>\n",
       "      <td>250</td>\n",
       "      <td>['Constant', 1.0]</td>\n",
       "      <td>0.137391</td>\n",
       "      <td>['Gamma', 1, 4]</td>\n",
       "      <td>-23.572262</td>\n",
       "      <td>['Normal', -25.0, 5.0]</td>\n",
       "      <td>1</td>\n",
       "    </tr>\n",
       "    <tr>\n",
       "      <th>10</th>\n",
       "      <td>250</td>\n",
       "      <td>['Constant', 1.0]</td>\n",
       "      <td>0.139413</td>\n",
       "      <td>['Normal', 0.15, 5]</td>\n",
       "      <td>-23.817292</td>\n",
       "      <td>['Normal', -25.0, 5.0]</td>\n",
       "      <td>0</td>\n",
       "    </tr>\n",
       "    <tr>\n",
       "      <th>11</th>\n",
       "      <td>250</td>\n",
       "      <td>['Constant', 1.0]</td>\n",
       "      <td>0.138694</td>\n",
       "      <td>['Normal', 0.15, 5]</td>\n",
       "      <td>-23.719354</td>\n",
       "      <td>['Normal', -25.0, 5.0]</td>\n",
       "      <td>1</td>\n",
       "    </tr>\n",
       "    <tr>\n",
       "      <th>12</th>\n",
       "      <td>250</td>\n",
       "      <td>['Constant', 1.0]</td>\n",
       "      <td>0.142728</td>\n",
       "      <td>['Normal', 0.1, 5]</td>\n",
       "      <td>-24.178709</td>\n",
       "      <td>['Normal', -25.0, 5.0]</td>\n",
       "      <td>0</td>\n",
       "    </tr>\n",
       "    <tr>\n",
       "      <th>13</th>\n",
       "      <td>250</td>\n",
       "      <td>['Constant', 1.0]</td>\n",
       "      <td>0.155233</td>\n",
       "      <td>['Normal', 0.1, 5]</td>\n",
       "      <td>-25.619165</td>\n",
       "      <td>['Normal', -25.0, 5.0]</td>\n",
       "      <td>1</td>\n",
       "    </tr>\n",
       "  </tbody>\n",
       "</table>\n",
       "</div>"
      ],
      "text/plain": [
       "      N        alpha_prior  beta0_MQP             beta0_prior  beta1_MQP  \\\n",
       "0   250  ['Constant', 1.0]   0.148432   ['Uniform', 0.0, 1.0] -24.835742   \n",
       "1   250  ['Constant', 1.0]   0.141003   ['Uniform', 0.0, 1.0] -23.988963   \n",
       "2   250  ['Constant', 1.0]   0.142432  ['Uniform', -1.0, 1.0] -24.149359   \n",
       "3   250  ['Constant', 1.0]   0.139949  ['Uniform', -1.0, 1.0] -23.862771   \n",
       "4   250  ['Constant', 1.0]   0.145652        ['Gamma', 1, 10] -24.531092   \n",
       "5   250  ['Constant', 1.0]   0.145613        ['Gamma', 1, 10] -24.520306   \n",
       "6   250  ['Constant', 1.0]   0.147015        ['Gamma', 3, 10] -24.681174   \n",
       "7   250  ['Constant', 1.0]   0.135545        ['Gamma', 3, 10] -23.364908   \n",
       "8   250  ['Constant', 1.0]   0.142511         ['Gamma', 1, 4] -24.165429   \n",
       "9   250  ['Constant', 1.0]   0.137391         ['Gamma', 1, 4] -23.572262   \n",
       "10  250  ['Constant', 1.0]   0.139413     ['Normal', 0.15, 5] -23.817292   \n",
       "11  250  ['Constant', 1.0]   0.138694     ['Normal', 0.15, 5] -23.719354   \n",
       "12  250  ['Constant', 1.0]   0.142728      ['Normal', 0.1, 5] -24.178709   \n",
       "13  250  ['Constant', 1.0]   0.155233      ['Normal', 0.1, 5] -25.619165   \n",
       "\n",
       "               beta1_prior  n_iter  \n",
       "0   ['Normal', -25.0, 5.0]       0  \n",
       "1   ['Normal', -25.0, 5.0]       1  \n",
       "2   ['Normal', -25.0, 5.0]       0  \n",
       "3   ['Normal', -25.0, 5.0]       1  \n",
       "4   ['Normal', -25.0, 5.0]       0  \n",
       "5   ['Normal', -25.0, 5.0]       1  \n",
       "6   ['Normal', -25.0, 5.0]       0  \n",
       "7   ['Normal', -25.0, 5.0]       1  \n",
       "8   ['Normal', -25.0, 5.0]       0  \n",
       "9   ['Normal', -25.0, 5.0]       1  \n",
       "10  ['Normal', -25.0, 5.0]       0  \n",
       "11  ['Normal', -25.0, 5.0]       1  \n",
       "12  ['Normal', -25.0, 5.0]       0  \n",
       "13  ['Normal', -25.0, 5.0]       1  "
      ]
     },
     "execution_count": 4,
     "metadata": {},
     "output_type": "execute_result"
    }
   ],
   "source": [
    "params['alpha_prior'] = params['alpha_prior'].astype(str)\n",
    "params['beta0_prior'] = params['beta0_prior'].astype(str)\n",
    "params['beta1_prior'] = params['beta1_prior'].astype(str)\n",
    "\n",
    "params"
   ]
  },
  {
   "cell_type": "code",
   "execution_count": 5,
   "metadata": {},
   "outputs": [
    {
     "data": {
      "text/html": [
       "<div>\n",
       "<style scoped>\n",
       "    .dataframe tbody tr th:only-of-type {\n",
       "        vertical-align: middle;\n",
       "    }\n",
       "\n",
       "    .dataframe tbody tr th {\n",
       "        vertical-align: top;\n",
       "    }\n",
       "\n",
       "    .dataframe thead th {\n",
       "        text-align: right;\n",
       "    }\n",
       "</style>\n",
       "<table border=\"1\" class=\"dataframe\">\n",
       "  <thead>\n",
       "    <tr style=\"text-align: right;\">\n",
       "      <th></th>\n",
       "      <th>beta0_prior</th>\n",
       "      <th>beta1_prior</th>\n",
       "      <th>beta0_MQP</th>\n",
       "      <th>beta1_MQP</th>\n",
       "    </tr>\n",
       "  </thead>\n",
       "  <tbody>\n",
       "    <tr>\n",
       "      <th>0</th>\n",
       "      <td>['Gamma', 1, 10]</td>\n",
       "      <td>['Normal', -25.0, 5.0]</td>\n",
       "      <td>0.145632</td>\n",
       "      <td>-24.525699</td>\n",
       "    </tr>\n",
       "    <tr>\n",
       "      <th>1</th>\n",
       "      <td>['Gamma', 1, 4]</td>\n",
       "      <td>['Normal', -25.0, 5.0]</td>\n",
       "      <td>0.139951</td>\n",
       "      <td>-23.868845</td>\n",
       "    </tr>\n",
       "    <tr>\n",
       "      <th>2</th>\n",
       "      <td>['Gamma', 3, 10]</td>\n",
       "      <td>['Normal', -25.0, 5.0]</td>\n",
       "      <td>0.141280</td>\n",
       "      <td>-24.023041</td>\n",
       "    </tr>\n",
       "    <tr>\n",
       "      <th>3</th>\n",
       "      <td>['Normal', 0.1, 5]</td>\n",
       "      <td>['Normal', -25.0, 5.0]</td>\n",
       "      <td>0.148980</td>\n",
       "      <td>-24.898937</td>\n",
       "    </tr>\n",
       "    <tr>\n",
       "      <th>4</th>\n",
       "      <td>['Normal', 0.15, 5]</td>\n",
       "      <td>['Normal', -25.0, 5.0]</td>\n",
       "      <td>0.139053</td>\n",
       "      <td>-23.768323</td>\n",
       "    </tr>\n",
       "    <tr>\n",
       "      <th>5</th>\n",
       "      <td>['Uniform', -1.0, 1.0]</td>\n",
       "      <td>['Normal', -25.0, 5.0]</td>\n",
       "      <td>0.141191</td>\n",
       "      <td>-24.006065</td>\n",
       "    </tr>\n",
       "    <tr>\n",
       "      <th>6</th>\n",
       "      <td>['Uniform', 0.0, 1.0]</td>\n",
       "      <td>['Normal', -25.0, 5.0]</td>\n",
       "      <td>0.144717</td>\n",
       "      <td>-24.412352</td>\n",
       "    </tr>\n",
       "  </tbody>\n",
       "</table>\n",
       "</div>"
      ],
      "text/plain": [
       "              beta0_prior             beta1_prior  beta0_MQP  beta1_MQP\n",
       "0        ['Gamma', 1, 10]  ['Normal', -25.0, 5.0]   0.145632 -24.525699\n",
       "1         ['Gamma', 1, 4]  ['Normal', -25.0, 5.0]   0.139951 -23.868845\n",
       "2        ['Gamma', 3, 10]  ['Normal', -25.0, 5.0]   0.141280 -24.023041\n",
       "3      ['Normal', 0.1, 5]  ['Normal', -25.0, 5.0]   0.148980 -24.898937\n",
       "4     ['Normal', 0.15, 5]  ['Normal', -25.0, 5.0]   0.139053 -23.768323\n",
       "5  ['Uniform', -1.0, 1.0]  ['Normal', -25.0, 5.0]   0.141191 -24.006065\n",
       "6   ['Uniform', 0.0, 1.0]  ['Normal', -25.0, 5.0]   0.144717 -24.412352"
      ]
     },
     "execution_count": 5,
     "metadata": {},
     "output_type": "execute_result"
    }
   ],
   "source": [
    "# Impact du prior beta0\n",
    "params.groupby(['beta0_prior', 'beta1_prior'], as_index=False)[['beta0_MQP', 'beta1_MQP']].mean()"
   ]
  },
  {
   "cell_type": "markdown",
   "metadata": {},
   "source": [
    "# Influence de Beta1"
   ]
  },
  {
   "cell_type": "code",
   "execution_count": 7,
   "metadata": {},
   "outputs": [
    {
     "name": "stderr",
     "output_type": "stream",
     "text": [
      "100%|██████████| 20500/20500 [00:04<00:00, 4248.44it/s]\n"
     ]
    },
    {
     "name": "stdout",
     "output_type": "stream",
     "text": [
      "beta0 mean a quasi posteriori :  0.139084090904\n",
      "beta1 mean a quasi posteriori :  -24.4447130724\n"
     ]
    },
    {
     "name": "stderr",
     "output_type": "stream",
     "text": [
      "100%|██████████| 20500/20500 [00:04<00:00, 4271.68it/s]\n"
     ]
    },
    {
     "name": "stdout",
     "output_type": "stream",
     "text": [
      "beta0 mean a quasi posteriori :  0.149741524717\n",
      "beta1 mean a quasi posteriori :  -25.6719693258\n"
     ]
    },
    {
     "name": "stderr",
     "output_type": "stream",
     "text": [
      "100%|██████████| 20500/20500 [00:04<00:00, 4337.14it/s]\n"
     ]
    },
    {
     "name": "stdout",
     "output_type": "stream",
     "text": [
      "beta0 mean a quasi posteriori :  0.152455774444\n",
      "beta1 mean a quasi posteriori :  -25.9468681597\n"
     ]
    },
    {
     "name": "stderr",
     "output_type": "stream",
     "text": [
      "100%|██████████| 20500/20500 [00:04<00:00, 4361.77it/s]\n"
     ]
    },
    {
     "name": "stdout",
     "output_type": "stream",
     "text": [
      "beta0 mean a quasi posteriori :  0.138640184113\n",
      "beta1 mean a quasi posteriori :  -24.3822710872\n"
     ]
    },
    {
     "name": "stderr",
     "output_type": "stream",
     "text": [
      "100%|██████████| 20500/20500 [00:04<00:00, 4444.69it/s]\n"
     ]
    },
    {
     "name": "stdout",
     "output_type": "stream",
     "text": [
      "beta0 mean a quasi posteriori :  0.141742172699\n",
      "beta1 mean a quasi posteriori :  -24.7564494186\n"
     ]
    },
    {
     "name": "stderr",
     "output_type": "stream",
     "text": [
      "100%|██████████| 20500/20500 [00:04<00:00, 4472.29it/s]\n"
     ]
    },
    {
     "name": "stdout",
     "output_type": "stream",
     "text": [
      "beta0 mean a quasi posteriori :  0.141561790528\n",
      "beta1 mean a quasi posteriori :  -24.7345650408\n"
     ]
    },
    {
     "name": "stderr",
     "output_type": "stream",
     "text": [
      "100%|██████████| 20500/20500 [00:04<00:00, 4305.25it/s]\n"
     ]
    },
    {
     "name": "stdout",
     "output_type": "stream",
     "text": [
      "beta0 mean a quasi posteriori :  0.142351285026\n",
      "beta1 mean a quasi posteriori :  -24.8297480502\n"
     ]
    },
    {
     "name": "stderr",
     "output_type": "stream",
     "text": [
      "100%|██████████| 20500/20500 [00:04<00:00, 4393.78it/s]\n"
     ]
    },
    {
     "name": "stdout",
     "output_type": "stream",
     "text": [
      "beta0 mean a quasi posteriori :  0.154027034114\n",
      "beta1 mean a quasi posteriori :  -26.1412433202\n"
     ]
    },
    {
     "name": "stderr",
     "output_type": "stream",
     "text": [
      "100%|██████████| 20500/20500 [00:04<00:00, 4295.36it/s]\n"
     ]
    },
    {
     "name": "stdout",
     "output_type": "stream",
     "text": [
      "beta0 mean a quasi posteriori :  0.154023205654\n",
      "beta1 mean a quasi posteriori :  -26.1720663942\n"
     ]
    },
    {
     "name": "stderr",
     "output_type": "stream",
     "text": [
      "100%|██████████| 20500/20500 [00:04<00:00, 4239.50it/s]\n"
     ]
    },
    {
     "name": "stdout",
     "output_type": "stream",
     "text": [
      "beta0 mean a quasi posteriori :  0.138415072265\n",
      "beta1 mean a quasi posteriori :  -24.3661085087\n"
     ]
    },
    {
     "name": "stderr",
     "output_type": "stream",
     "text": [
      "100%|██████████| 20500/20500 [00:04<00:00, 4441.43it/s]\n"
     ]
    },
    {
     "name": "stdout",
     "output_type": "stream",
     "text": [
      "beta0 mean a quasi posteriori :  0.143241555219\n",
      "beta1 mean a quasi posteriori :  -24.9308587698\n"
     ]
    },
    {
     "name": "stderr",
     "output_type": "stream",
     "text": [
      "100%|██████████| 20500/20500 [00:04<00:00, 4524.49it/s]\n"
     ]
    },
    {
     "name": "stdout",
     "output_type": "stream",
     "text": [
      "beta0 mean a quasi posteriori :  0.143269487719\n",
      "beta1 mean a quasi posteriori :  -24.9324477709\n"
     ]
    },
    {
     "name": "stderr",
     "output_type": "stream",
     "text": [
      "100%|██████████| 20500/20500 [00:04<00:00, 4559.08it/s]\n"
     ]
    },
    {
     "name": "stdout",
     "output_type": "stream",
     "text": [
      "beta0 mean a quasi posteriori :  0.149534266782\n",
      "beta1 mean a quasi posteriori :  -25.6466914137\n"
     ]
    },
    {
     "name": "stderr",
     "output_type": "stream",
     "text": [
      "100%|██████████| 20500/20500 [00:04<00:00, 4453.79it/s]\n"
     ]
    },
    {
     "name": "stdout",
     "output_type": "stream",
     "text": [
      "beta0 mean a quasi posteriori :  0.137274402297\n",
      "beta1 mean a quasi posteriori :  -24.2598061261\n"
     ]
    },
    {
     "name": "stderr",
     "output_type": "stream",
     "text": [
      "100%|██████████| 20500/20500 [00:04<00:00, 4479.49it/s]\n"
     ]
    },
    {
     "name": "stdout",
     "output_type": "stream",
     "text": [
      "beta0 mean a quasi posteriori :  0.142016911948\n",
      "beta1 mean a quasi posteriori :  -24.7697198973\n"
     ]
    },
    {
     "name": "stderr",
     "output_type": "stream",
     "text": [
      "100%|██████████| 20500/20500 [00:04<00:00, 4534.84it/s]\n"
     ]
    },
    {
     "name": "stdout",
     "output_type": "stream",
     "text": [
      "beta0 mean a quasi posteriori :  0.141526820949\n",
      "beta1 mean a quasi posteriori :  -24.7169092924\n"
     ]
    },
    {
     "name": "stderr",
     "output_type": "stream",
     "text": [
      "100%|██████████| 20500/20500 [00:04<00:00, 4597.71it/s]\n"
     ]
    },
    {
     "name": "stdout",
     "output_type": "stream",
     "text": [
      "beta0 mean a quasi posteriori :  0.143169701906\n",
      "beta1 mean a quasi posteriori :  -24.9283246485\n"
     ]
    },
    {
     "name": "stderr",
     "output_type": "stream",
     "text": [
      "100%|██████████| 20500/20500 [00:04<00:00, 4581.48it/s]\n"
     ]
    },
    {
     "name": "stdout",
     "output_type": "stream",
     "text": [
      "beta0 mean a quasi posteriori :  0.138541578574\n",
      "beta1 mean a quasi posteriori :  -24.3901116767\n"
     ]
    },
    {
     "name": "stderr",
     "output_type": "stream",
     "text": [
      "100%|██████████| 20500/20500 [00:04<00:00, 4569.20it/s]\n"
     ]
    },
    {
     "name": "stdout",
     "output_type": "stream",
     "text": [
      "beta0 mean a quasi posteriori :  0.145204683374\n",
      "beta1 mean a quasi posteriori :  -25.16709727\n"
     ]
    },
    {
     "name": "stderr",
     "output_type": "stream",
     "text": [
      "100%|██████████| 20500/20500 [00:04<00:00, 4562.94it/s]\n"
     ]
    },
    {
     "name": "stdout",
     "output_type": "stream",
     "text": [
      "beta0 mean a quasi posteriori :  0.139303297458\n",
      "beta1 mean a quasi posteriori :  -24.462817689\n"
     ]
    }
   ],
   "source": [
    "C = 100\n",
    "beta_true = np.array([0.15, -25])\n",
    "size_data_list = [250]\n",
    "\n",
    "beta0_prior_list = [['Normal', 0.1, 5]]\n",
    "beta1_prior_list = [['Uniform', -60., 0.], ['Uniform', -30., -20.], ['Uniform', -40., -20.], ['Normal', -25., 10],\n",
    "                   ['Normal', -25., 20]]\n",
    "alpha_prior_list = [['Constant', .5]]\n",
    "\n",
    "n_samples = 20000\n",
    "burn = 10000\n",
    "n_iter = 4\n",
    "\n",
    "params = run_several_expo(n_iter, beta_true, size_data_list, C, beta0_prior_list,\n",
    "                     beta1_prior_list, alpha_prior_list, n_samples, burn, plot=True, thin=20)"
   ]
  },
  {
   "cell_type": "code",
   "execution_count": 8,
   "metadata": {},
   "outputs": [
    {
     "data": {
      "text/html": [
       "<div>\n",
       "<style scoped>\n",
       "    .dataframe tbody tr th:only-of-type {\n",
       "        vertical-align: middle;\n",
       "    }\n",
       "\n",
       "    .dataframe tbody tr th {\n",
       "        vertical-align: top;\n",
       "    }\n",
       "\n",
       "    .dataframe thead th {\n",
       "        text-align: right;\n",
       "    }\n",
       "</style>\n",
       "<table border=\"1\" class=\"dataframe\">\n",
       "  <thead>\n",
       "    <tr style=\"text-align: right;\">\n",
       "      <th></th>\n",
       "      <th>N</th>\n",
       "      <th>alpha_prior</th>\n",
       "      <th>beta0_MQP</th>\n",
       "      <th>beta0_prior</th>\n",
       "      <th>beta1_MQP</th>\n",
       "      <th>beta1_prior</th>\n",
       "      <th>n_iter</th>\n",
       "    </tr>\n",
       "  </thead>\n",
       "  <tbody>\n",
       "    <tr>\n",
       "      <th>0</th>\n",
       "      <td>250</td>\n",
       "      <td>['Constant', 0.5]</td>\n",
       "      <td>0.139084</td>\n",
       "      <td>['Normal', 0.1, 5]</td>\n",
       "      <td>-24.444713</td>\n",
       "      <td>['Uniform', -60.0, 0.0]</td>\n",
       "      <td>0</td>\n",
       "    </tr>\n",
       "    <tr>\n",
       "      <th>1</th>\n",
       "      <td>250</td>\n",
       "      <td>['Constant', 0.5]</td>\n",
       "      <td>0.149742</td>\n",
       "      <td>['Normal', 0.1, 5]</td>\n",
       "      <td>-25.671969</td>\n",
       "      <td>['Uniform', -60.0, 0.0]</td>\n",
       "      <td>1</td>\n",
       "    </tr>\n",
       "    <tr>\n",
       "      <th>2</th>\n",
       "      <td>250</td>\n",
       "      <td>['Constant', 0.5]</td>\n",
       "      <td>0.152456</td>\n",
       "      <td>['Normal', 0.1, 5]</td>\n",
       "      <td>-25.946868</td>\n",
       "      <td>['Uniform', -60.0, 0.0]</td>\n",
       "      <td>2</td>\n",
       "    </tr>\n",
       "    <tr>\n",
       "      <th>3</th>\n",
       "      <td>250</td>\n",
       "      <td>['Constant', 0.5]</td>\n",
       "      <td>0.138640</td>\n",
       "      <td>['Normal', 0.1, 5]</td>\n",
       "      <td>-24.382271</td>\n",
       "      <td>['Uniform', -60.0, 0.0]</td>\n",
       "      <td>3</td>\n",
       "    </tr>\n",
       "    <tr>\n",
       "      <th>4</th>\n",
       "      <td>250</td>\n",
       "      <td>['Constant', 0.5]</td>\n",
       "      <td>0.141742</td>\n",
       "      <td>['Normal', 0.1, 5]</td>\n",
       "      <td>-24.756449</td>\n",
       "      <td>['Uniform', -30.0, -20.0]</td>\n",
       "      <td>0</td>\n",
       "    </tr>\n",
       "    <tr>\n",
       "      <th>5</th>\n",
       "      <td>250</td>\n",
       "      <td>['Constant', 0.5]</td>\n",
       "      <td>0.141562</td>\n",
       "      <td>['Normal', 0.1, 5]</td>\n",
       "      <td>-24.734565</td>\n",
       "      <td>['Uniform', -30.0, -20.0]</td>\n",
       "      <td>1</td>\n",
       "    </tr>\n",
       "    <tr>\n",
       "      <th>6</th>\n",
       "      <td>250</td>\n",
       "      <td>['Constant', 0.5]</td>\n",
       "      <td>0.142351</td>\n",
       "      <td>['Normal', 0.1, 5]</td>\n",
       "      <td>-24.829748</td>\n",
       "      <td>['Uniform', -30.0, -20.0]</td>\n",
       "      <td>2</td>\n",
       "    </tr>\n",
       "    <tr>\n",
       "      <th>7</th>\n",
       "      <td>250</td>\n",
       "      <td>['Constant', 0.5]</td>\n",
       "      <td>0.154027</td>\n",
       "      <td>['Normal', 0.1, 5]</td>\n",
       "      <td>-26.141243</td>\n",
       "      <td>['Uniform', -30.0, -20.0]</td>\n",
       "      <td>3</td>\n",
       "    </tr>\n",
       "    <tr>\n",
       "      <th>8</th>\n",
       "      <td>250</td>\n",
       "      <td>['Constant', 0.5]</td>\n",
       "      <td>0.154023</td>\n",
       "      <td>['Normal', 0.1, 5]</td>\n",
       "      <td>-26.172066</td>\n",
       "      <td>['Uniform', -40.0, -20.0]</td>\n",
       "      <td>0</td>\n",
       "    </tr>\n",
       "    <tr>\n",
       "      <th>9</th>\n",
       "      <td>250</td>\n",
       "      <td>['Constant', 0.5]</td>\n",
       "      <td>0.138415</td>\n",
       "      <td>['Normal', 0.1, 5]</td>\n",
       "      <td>-24.366109</td>\n",
       "      <td>['Uniform', -40.0, -20.0]</td>\n",
       "      <td>1</td>\n",
       "    </tr>\n",
       "    <tr>\n",
       "      <th>10</th>\n",
       "      <td>250</td>\n",
       "      <td>['Constant', 0.5]</td>\n",
       "      <td>0.143242</td>\n",
       "      <td>['Normal', 0.1, 5]</td>\n",
       "      <td>-24.930859</td>\n",
       "      <td>['Uniform', -40.0, -20.0]</td>\n",
       "      <td>2</td>\n",
       "    </tr>\n",
       "    <tr>\n",
       "      <th>11</th>\n",
       "      <td>250</td>\n",
       "      <td>['Constant', 0.5]</td>\n",
       "      <td>0.143269</td>\n",
       "      <td>['Normal', 0.1, 5]</td>\n",
       "      <td>-24.932448</td>\n",
       "      <td>['Uniform', -40.0, -20.0]</td>\n",
       "      <td>3</td>\n",
       "    </tr>\n",
       "    <tr>\n",
       "      <th>12</th>\n",
       "      <td>250</td>\n",
       "      <td>['Constant', 0.5]</td>\n",
       "      <td>0.149534</td>\n",
       "      <td>['Normal', 0.1, 5]</td>\n",
       "      <td>-25.646691</td>\n",
       "      <td>['Normal', -25.0, 10]</td>\n",
       "      <td>0</td>\n",
       "    </tr>\n",
       "    <tr>\n",
       "      <th>13</th>\n",
       "      <td>250</td>\n",
       "      <td>['Constant', 0.5]</td>\n",
       "      <td>0.137274</td>\n",
       "      <td>['Normal', 0.1, 5]</td>\n",
       "      <td>-24.259806</td>\n",
       "      <td>['Normal', -25.0, 10]</td>\n",
       "      <td>1</td>\n",
       "    </tr>\n",
       "    <tr>\n",
       "      <th>14</th>\n",
       "      <td>250</td>\n",
       "      <td>['Constant', 0.5]</td>\n",
       "      <td>0.142017</td>\n",
       "      <td>['Normal', 0.1, 5]</td>\n",
       "      <td>-24.769720</td>\n",
       "      <td>['Normal', -25.0, 10]</td>\n",
       "      <td>2</td>\n",
       "    </tr>\n",
       "    <tr>\n",
       "      <th>15</th>\n",
       "      <td>250</td>\n",
       "      <td>['Constant', 0.5]</td>\n",
       "      <td>0.141527</td>\n",
       "      <td>['Normal', 0.1, 5]</td>\n",
       "      <td>-24.716909</td>\n",
       "      <td>['Normal', -25.0, 10]</td>\n",
       "      <td>3</td>\n",
       "    </tr>\n",
       "    <tr>\n",
       "      <th>16</th>\n",
       "      <td>250</td>\n",
       "      <td>['Constant', 0.5]</td>\n",
       "      <td>0.143170</td>\n",
       "      <td>['Normal', 0.1, 5]</td>\n",
       "      <td>-24.928325</td>\n",
       "      <td>['Normal', -25.0, 20]</td>\n",
       "      <td>0</td>\n",
       "    </tr>\n",
       "    <tr>\n",
       "      <th>17</th>\n",
       "      <td>250</td>\n",
       "      <td>['Constant', 0.5]</td>\n",
       "      <td>0.138542</td>\n",
       "      <td>['Normal', 0.1, 5]</td>\n",
       "      <td>-24.390112</td>\n",
       "      <td>['Normal', -25.0, 20]</td>\n",
       "      <td>1</td>\n",
       "    </tr>\n",
       "    <tr>\n",
       "      <th>18</th>\n",
       "      <td>250</td>\n",
       "      <td>['Constant', 0.5]</td>\n",
       "      <td>0.145205</td>\n",
       "      <td>['Normal', 0.1, 5]</td>\n",
       "      <td>-25.167097</td>\n",
       "      <td>['Normal', -25.0, 20]</td>\n",
       "      <td>2</td>\n",
       "    </tr>\n",
       "    <tr>\n",
       "      <th>19</th>\n",
       "      <td>250</td>\n",
       "      <td>['Constant', 0.5]</td>\n",
       "      <td>0.139303</td>\n",
       "      <td>['Normal', 0.1, 5]</td>\n",
       "      <td>-24.462818</td>\n",
       "      <td>['Normal', -25.0, 20]</td>\n",
       "      <td>3</td>\n",
       "    </tr>\n",
       "  </tbody>\n",
       "</table>\n",
       "</div>"
      ],
      "text/plain": [
       "      N        alpha_prior  beta0_MQP         beta0_prior  beta1_MQP  \\\n",
       "0   250  ['Constant', 0.5]   0.139084  ['Normal', 0.1, 5] -24.444713   \n",
       "1   250  ['Constant', 0.5]   0.149742  ['Normal', 0.1, 5] -25.671969   \n",
       "2   250  ['Constant', 0.5]   0.152456  ['Normal', 0.1, 5] -25.946868   \n",
       "3   250  ['Constant', 0.5]   0.138640  ['Normal', 0.1, 5] -24.382271   \n",
       "4   250  ['Constant', 0.5]   0.141742  ['Normal', 0.1, 5] -24.756449   \n",
       "5   250  ['Constant', 0.5]   0.141562  ['Normal', 0.1, 5] -24.734565   \n",
       "6   250  ['Constant', 0.5]   0.142351  ['Normal', 0.1, 5] -24.829748   \n",
       "7   250  ['Constant', 0.5]   0.154027  ['Normal', 0.1, 5] -26.141243   \n",
       "8   250  ['Constant', 0.5]   0.154023  ['Normal', 0.1, 5] -26.172066   \n",
       "9   250  ['Constant', 0.5]   0.138415  ['Normal', 0.1, 5] -24.366109   \n",
       "10  250  ['Constant', 0.5]   0.143242  ['Normal', 0.1, 5] -24.930859   \n",
       "11  250  ['Constant', 0.5]   0.143269  ['Normal', 0.1, 5] -24.932448   \n",
       "12  250  ['Constant', 0.5]   0.149534  ['Normal', 0.1, 5] -25.646691   \n",
       "13  250  ['Constant', 0.5]   0.137274  ['Normal', 0.1, 5] -24.259806   \n",
       "14  250  ['Constant', 0.5]   0.142017  ['Normal', 0.1, 5] -24.769720   \n",
       "15  250  ['Constant', 0.5]   0.141527  ['Normal', 0.1, 5] -24.716909   \n",
       "16  250  ['Constant', 0.5]   0.143170  ['Normal', 0.1, 5] -24.928325   \n",
       "17  250  ['Constant', 0.5]   0.138542  ['Normal', 0.1, 5] -24.390112   \n",
       "18  250  ['Constant', 0.5]   0.145205  ['Normal', 0.1, 5] -25.167097   \n",
       "19  250  ['Constant', 0.5]   0.139303  ['Normal', 0.1, 5] -24.462818   \n",
       "\n",
       "                  beta1_prior  n_iter  \n",
       "0     ['Uniform', -60.0, 0.0]       0  \n",
       "1     ['Uniform', -60.0, 0.0]       1  \n",
       "2     ['Uniform', -60.0, 0.0]       2  \n",
       "3     ['Uniform', -60.0, 0.0]       3  \n",
       "4   ['Uniform', -30.0, -20.0]       0  \n",
       "5   ['Uniform', -30.0, -20.0]       1  \n",
       "6   ['Uniform', -30.0, -20.0]       2  \n",
       "7   ['Uniform', -30.0, -20.0]       3  \n",
       "8   ['Uniform', -40.0, -20.0]       0  \n",
       "9   ['Uniform', -40.0, -20.0]       1  \n",
       "10  ['Uniform', -40.0, -20.0]       2  \n",
       "11  ['Uniform', -40.0, -20.0]       3  \n",
       "12      ['Normal', -25.0, 10]       0  \n",
       "13      ['Normal', -25.0, 10]       1  \n",
       "14      ['Normal', -25.0, 10]       2  \n",
       "15      ['Normal', -25.0, 10]       3  \n",
       "16      ['Normal', -25.0, 20]       0  \n",
       "17      ['Normal', -25.0, 20]       1  \n",
       "18      ['Normal', -25.0, 20]       2  \n",
       "19      ['Normal', -25.0, 20]       3  "
      ]
     },
     "execution_count": 8,
     "metadata": {},
     "output_type": "execute_result"
    }
   ],
   "source": [
    "params['alpha_prior'] = params['alpha_prior'].astype(str)\n",
    "params['beta0_prior'] = params['beta0_prior'].astype(str)\n",
    "params['beta1_prior'] = params['beta1_prior'].astype(str)\n",
    "\n",
    "params"
   ]
  },
  {
   "cell_type": "code",
   "execution_count": 10,
   "metadata": {},
   "outputs": [
    {
     "data": {
      "text/html": [
       "<div>\n",
       "<style scoped>\n",
       "    .dataframe tbody tr th:only-of-type {\n",
       "        vertical-align: middle;\n",
       "    }\n",
       "\n",
       "    .dataframe tbody tr th {\n",
       "        vertical-align: top;\n",
       "    }\n",
       "\n",
       "    .dataframe thead th {\n",
       "        text-align: right;\n",
       "    }\n",
       "</style>\n",
       "<table border=\"1\" class=\"dataframe\">\n",
       "  <thead>\n",
       "    <tr style=\"text-align: right;\">\n",
       "      <th></th>\n",
       "      <th>beta0_prior</th>\n",
       "      <th>beta1_prior</th>\n",
       "      <th>beta0_MQP</th>\n",
       "      <th>beta1_MQP</th>\n",
       "    </tr>\n",
       "  </thead>\n",
       "  <tbody>\n",
       "    <tr>\n",
       "      <th>0</th>\n",
       "      <td>['Normal', 0.1, 5]</td>\n",
       "      <td>['Normal', -25.0, 10]</td>\n",
       "      <td>0.142588</td>\n",
       "      <td>-24.848282</td>\n",
       "    </tr>\n",
       "    <tr>\n",
       "      <th>1</th>\n",
       "      <td>['Normal', 0.1, 5]</td>\n",
       "      <td>['Normal', -25.0, 20]</td>\n",
       "      <td>0.141555</td>\n",
       "      <td>-24.737088</td>\n",
       "    </tr>\n",
       "    <tr>\n",
       "      <th>2</th>\n",
       "      <td>['Normal', 0.1, 5]</td>\n",
       "      <td>['Uniform', -30.0, -20.0]</td>\n",
       "      <td>0.144921</td>\n",
       "      <td>-25.115501</td>\n",
       "    </tr>\n",
       "    <tr>\n",
       "      <th>3</th>\n",
       "      <td>['Normal', 0.1, 5]</td>\n",
       "      <td>['Uniform', -40.0, -20.0]</td>\n",
       "      <td>0.144737</td>\n",
       "      <td>-25.100370</td>\n",
       "    </tr>\n",
       "    <tr>\n",
       "      <th>4</th>\n",
       "      <td>['Normal', 0.1, 5]</td>\n",
       "      <td>['Uniform', -60.0, 0.0]</td>\n",
       "      <td>0.144980</td>\n",
       "      <td>-25.111455</td>\n",
       "    </tr>\n",
       "  </tbody>\n",
       "</table>\n",
       "</div>"
      ],
      "text/plain": [
       "          beta0_prior                beta1_prior  beta0_MQP  beta1_MQP\n",
       "0  ['Normal', 0.1, 5]      ['Normal', -25.0, 10]   0.142588 -24.848282\n",
       "1  ['Normal', 0.1, 5]      ['Normal', -25.0, 20]   0.141555 -24.737088\n",
       "2  ['Normal', 0.1, 5]  ['Uniform', -30.0, -20.0]   0.144921 -25.115501\n",
       "3  ['Normal', 0.1, 5]  ['Uniform', -40.0, -20.0]   0.144737 -25.100370\n",
       "4  ['Normal', 0.1, 5]    ['Uniform', -60.0, 0.0]   0.144980 -25.111455"
      ]
     },
     "execution_count": 10,
     "metadata": {},
     "output_type": "execute_result"
    }
   ],
   "source": [
    "# Impact des prior beta1\n",
    "params.groupby(['beta0_prior', 'beta1_prior'], as_index=False)[['beta0_MQP', 'beta1_MQP']].mean()"
   ]
  }
 ],
 "metadata": {
  "kernelspec": {
   "display_name": "Python 3",
   "language": "python",
   "name": "python3"
  },
  "language_info": {
   "codemirror_mode": {
    "name": "ipython",
    "version": 3
   },
   "file_extension": ".py",
   "mimetype": "text/x-python",
   "name": "python",
   "nbconvert_exporter": "python",
   "pygments_lexer": "ipython3",
   "version": "3.5.2"
  }
 },
 "nbformat": 4,
 "nbformat_minor": 2
}
