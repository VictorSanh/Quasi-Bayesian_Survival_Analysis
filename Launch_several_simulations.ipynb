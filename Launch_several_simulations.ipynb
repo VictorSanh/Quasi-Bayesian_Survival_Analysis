{
 "cells": [
  {
   "cell_type": "code",
   "execution_count": 12,
   "metadata": {},
   "outputs": [
    {
     "name": "stdout",
     "output_type": "stream",
     "text": [
      "Once deleted, variables cannot be recovered. Proceed (y/[n])? y\n"
     ]
    }
   ],
   "source": [
    "%reset"
   ]
  },
  {
   "cell_type": "code",
   "execution_count": 13,
   "metadata": {
    "scrolled": true
   },
   "outputs": [],
   "source": [
    "from exponential_model import *"
   ]
  },
  {
   "cell_type": "markdown",
   "metadata": {},
   "source": [
    "# Influence de Alpha"
   ]
  },
  {
   "cell_type": "code",
   "execution_count": 4,
   "metadata": {
    "scrolled": true
   },
   "outputs": [
    {
     "name": "stderr",
     "output_type": "stream",
     "text": [
      "100%|██████████| 20500/20500 [00:09<00:00, 2245.62it/s]\n"
     ]
    },
    {
     "name": "stdout",
     "output_type": "stream",
     "text": [
      "beta0 mean a quasi posteriori :  0.151728703826\n",
      "beta1 mean a quasi posteriori :  -24.7455133562\n"
     ]
    },
    {
     "name": "stderr",
     "output_type": "stream",
     "text": [
      "100%|██████████| 20500/20500 [00:07<00:00, 2613.82it/s]\n"
     ]
    },
    {
     "name": "stdout",
     "output_type": "stream",
     "text": [
      "beta0 mean a quasi posteriori :  0.152055812776\n",
      "beta1 mean a quasi posteriori :  -24.7794438818\n"
     ]
    },
    {
     "name": "stderr",
     "output_type": "stream",
     "text": [
      "100%|██████████| 20500/20500 [00:07<00:00, 2656.75it/s]\n"
     ]
    },
    {
     "name": "stdout",
     "output_type": "stream",
     "text": [
      "beta0 mean a quasi posteriori :  0.151704924098\n",
      "beta1 mean a quasi posteriori :  -24.7452687953\n"
     ]
    },
    {
     "name": "stderr",
     "output_type": "stream",
     "text": [
      "100%|██████████| 20500/20500 [00:07<00:00, 2693.02it/s]\n"
     ]
    },
    {
     "name": "stdout",
     "output_type": "stream",
     "text": [
      "beta0 mean a quasi posteriori :  0.151663207565\n",
      "beta1 mean a quasi posteriori :  -24.7385448138\n"
     ]
    }
   ],
   "source": [
    "C = 100\n",
    "beta_true = np.array([0.15, -25])\n",
    "size_data_list = [1000]\n",
    "\n",
    "beta0_prior_list = [['Gamma', 1., 10.]] #[['Uniform', 0., 1.], ['Uniform', -1., 1.], ['Gamma', 1, 10]]\n",
    "beta1_prior_list = [['Normal', -25., 5.]]#[['Uniform', -60., 0.], ['Uniform', -30., -20.], ['Uniform', -40., -20.], ['Gaussian', -25., 10]]\n",
    "alpha_prior_list = [['Constant', 100.]]#[['Constant', 0.01], ['Uniform', 0., 0.1], ['Constant', 1.], ['Constant', 10.],\n",
    "                    \n",
    "\n",
    "n_samples = 20000\n",
    "burn = 10000\n",
    "n_iter = 4\n",
    "\n",
    "params = run_several_expo(n_iter, beta_true, size_data_list, C, beta0_prior_list,\n",
    "                     beta1_prior_list, alpha_prior_list, n_samples, burn, plot=True, thin=20)"
   ]
  },
  {
   "cell_type": "code",
   "execution_count": 5,
   "metadata": {},
   "outputs": [],
   "source": [
    "params['alpha_prior'] = params['alpha_prior'].astype(str)\n",
    "params['beta0_prior'] = params['beta0_prior'].astype(str)\n",
    "params['beta1_prior'] = params['beta1_prior'].astype(str)"
   ]
  },
  {
   "cell_type": "code",
   "execution_count": 6,
   "metadata": {},
   "outputs": [
    {
     "data": {
      "text/html": [
       "<div>\n",
       "<style scoped>\n",
       "    .dataframe tbody tr th:only-of-type {\n",
       "        vertical-align: middle;\n",
       "    }\n",
       "\n",
       "    .dataframe tbody tr th {\n",
       "        vertical-align: top;\n",
       "    }\n",
       "\n",
       "    .dataframe thead th {\n",
       "        text-align: right;\n",
       "    }\n",
       "</style>\n",
       "<table border=\"1\" class=\"dataframe\">\n",
       "  <thead>\n",
       "    <tr style=\"text-align: right;\">\n",
       "      <th></th>\n",
       "      <th>N</th>\n",
       "      <th>alpha_prior</th>\n",
       "      <th>beta0_MQP</th>\n",
       "      <th>beta0_prior</th>\n",
       "      <th>beta1_MQP</th>\n",
       "      <th>beta1_prior</th>\n",
       "      <th>n_iter</th>\n",
       "    </tr>\n",
       "  </thead>\n",
       "  <tbody>\n",
       "    <tr>\n",
       "      <th>0</th>\n",
       "      <td>1000</td>\n",
       "      <td>['Constant', 100.0]</td>\n",
       "      <td>0.151729</td>\n",
       "      <td>['Gamma', 1.0, 10.0]</td>\n",
       "      <td>-24.745513</td>\n",
       "      <td>['Normal', -25.0, 5.0]</td>\n",
       "      <td>0</td>\n",
       "    </tr>\n",
       "    <tr>\n",
       "      <th>1</th>\n",
       "      <td>1000</td>\n",
       "      <td>['Constant', 100.0]</td>\n",
       "      <td>0.152056</td>\n",
       "      <td>['Gamma', 1.0, 10.0]</td>\n",
       "      <td>-24.779444</td>\n",
       "      <td>['Normal', -25.0, 5.0]</td>\n",
       "      <td>1</td>\n",
       "    </tr>\n",
       "    <tr>\n",
       "      <th>2</th>\n",
       "      <td>1000</td>\n",
       "      <td>['Constant', 100.0]</td>\n",
       "      <td>0.151705</td>\n",
       "      <td>['Gamma', 1.0, 10.0]</td>\n",
       "      <td>-24.745269</td>\n",
       "      <td>['Normal', -25.0, 5.0]</td>\n",
       "      <td>2</td>\n",
       "    </tr>\n",
       "    <tr>\n",
       "      <th>3</th>\n",
       "      <td>1000</td>\n",
       "      <td>['Constant', 100.0]</td>\n",
       "      <td>0.151663</td>\n",
       "      <td>['Gamma', 1.0, 10.0]</td>\n",
       "      <td>-24.738545</td>\n",
       "      <td>['Normal', -25.0, 5.0]</td>\n",
       "      <td>3</td>\n",
       "    </tr>\n",
       "  </tbody>\n",
       "</table>\n",
       "</div>"
      ],
      "text/plain": [
       "      N          alpha_prior  beta0_MQP           beta0_prior  beta1_MQP  \\\n",
       "0  1000  ['Constant', 100.0]   0.151729  ['Gamma', 1.0, 10.0] -24.745513   \n",
       "1  1000  ['Constant', 100.0]   0.152056  ['Gamma', 1.0, 10.0] -24.779444   \n",
       "2  1000  ['Constant', 100.0]   0.151705  ['Gamma', 1.0, 10.0] -24.745269   \n",
       "3  1000  ['Constant', 100.0]   0.151663  ['Gamma', 1.0, 10.0] -24.738545   \n",
       "\n",
       "              beta1_prior  n_iter  \n",
       "0  ['Normal', -25.0, 5.0]       0  \n",
       "1  ['Normal', -25.0, 5.0]       1  \n",
       "2  ['Normal', -25.0, 5.0]       2  \n",
       "3  ['Normal', -25.0, 5.0]       3  "
      ]
     },
     "execution_count": 6,
     "metadata": {},
     "output_type": "execute_result"
    }
   ],
   "source": [
    "params"
   ]
  },
  {
   "cell_type": "code",
   "execution_count": 7,
   "metadata": {},
   "outputs": [
    {
     "data": {
      "text/html": [
       "<div>\n",
       "<style scoped>\n",
       "    .dataframe tbody tr th:only-of-type {\n",
       "        vertical-align: middle;\n",
       "    }\n",
       "\n",
       "    .dataframe tbody tr th {\n",
       "        vertical-align: top;\n",
       "    }\n",
       "\n",
       "    .dataframe thead th {\n",
       "        text-align: right;\n",
       "    }\n",
       "</style>\n",
       "<table border=\"1\" class=\"dataframe\">\n",
       "  <thead>\n",
       "    <tr style=\"text-align: right;\">\n",
       "      <th></th>\n",
       "      <th>N</th>\n",
       "      <th>alpha_prior</th>\n",
       "      <th>beta0_prior</th>\n",
       "      <th>beta1_prior</th>\n",
       "      <th>beta0_MQP</th>\n",
       "      <th>beta1_MQP</th>\n",
       "      <th>n_iter</th>\n",
       "    </tr>\n",
       "  </thead>\n",
       "  <tbody>\n",
       "    <tr>\n",
       "      <th>0</th>\n",
       "      <td>1000</td>\n",
       "      <td>['Constant', 100.0]</td>\n",
       "      <td>['Gamma', 1.0, 10.0]</td>\n",
       "      <td>['Normal', -25.0, 5.0]</td>\n",
       "      <td>0.151788</td>\n",
       "      <td>-24.752193</td>\n",
       "      <td>1.5</td>\n",
       "    </tr>\n",
       "  </tbody>\n",
       "</table>\n",
       "</div>"
      ],
      "text/plain": [
       "      N          alpha_prior           beta0_prior             beta1_prior  \\\n",
       "0  1000  ['Constant', 100.0]  ['Gamma', 1.0, 10.0]  ['Normal', -25.0, 5.0]   \n",
       "\n",
       "   beta0_MQP  beta1_MQP  n_iter  \n",
       "0   0.151788 -24.752193     1.5  "
      ]
     },
     "execution_count": 7,
     "metadata": {},
     "output_type": "execute_result"
    }
   ],
   "source": [
    "params.groupby(['N', 'alpha_prior', 'beta0_prior', 'beta1_prior'], as_index=False).mean()"
   ]
  },
  {
   "cell_type": "code",
   "execution_count": 8,
   "metadata": {},
   "outputs": [
    {
     "data": {
      "text/html": [
       "<div>\n",
       "<style scoped>\n",
       "    .dataframe tbody tr th:only-of-type {\n",
       "        vertical-align: middle;\n",
       "    }\n",
       "\n",
       "    .dataframe tbody tr th {\n",
       "        vertical-align: top;\n",
       "    }\n",
       "\n",
       "    .dataframe thead th {\n",
       "        text-align: right;\n",
       "    }\n",
       "</style>\n",
       "<table border=\"1\" class=\"dataframe\">\n",
       "  <thead>\n",
       "    <tr style=\"text-align: right;\">\n",
       "      <th></th>\n",
       "      <th>alpha_prior</th>\n",
       "      <th>beta0_MQP</th>\n",
       "      <th>beta1_MQP</th>\n",
       "    </tr>\n",
       "  </thead>\n",
       "  <tbody>\n",
       "    <tr>\n",
       "      <th>0</th>\n",
       "      <td>['Constant', 100.0]</td>\n",
       "      <td>0.151788</td>\n",
       "      <td>-24.752193</td>\n",
       "    </tr>\n",
       "  </tbody>\n",
       "</table>\n",
       "</div>"
      ],
      "text/plain": [
       "           alpha_prior  beta0_MQP  beta1_MQP\n",
       "0  ['Constant', 100.0]   0.151788 -24.752193"
      ]
     },
     "execution_count": 8,
     "metadata": {},
     "output_type": "execute_result"
    }
   ],
   "source": [
    "# Impact de alpha\n",
    "params.groupby(['alpha_prior'], as_index=False)[['beta0_MQP', 'beta1_MQP']].mean()"
   ]
  },
  {
   "cell_type": "code",
   "execution_count": 9,
   "metadata": {},
   "outputs": [
    {
     "name": "stderr",
     "output_type": "stream",
     "text": [
      "100%|██████████| 20500/20500 [00:07<00:00, 2608.42it/s]\n"
     ]
    },
    {
     "name": "stdout",
     "output_type": "stream",
     "text": [
      "beta0 mean a quasi posteriori :  0.139126841859\n",
      "beta1 mean a quasi posteriori :  -24.3266353296\n"
     ]
    },
    {
     "name": "stderr",
     "output_type": "stream",
     "text": [
      "100%|██████████| 20500/20500 [00:10<00:00, 1933.23it/s]\n"
     ]
    },
    {
     "name": "stdout",
     "output_type": "stream",
     "text": [
      "beta0 mean a quasi posteriori :  0.12020800783\n",
      "beta1 mean a quasi posteriori :  -24.5215349875\n"
     ]
    },
    {
     "name": "stderr",
     "output_type": "stream",
     "text": [
      "100%|██████████| 20500/20500 [00:07<00:00, 2662.55it/s]\n"
     ]
    },
    {
     "name": "stdout",
     "output_type": "stream",
     "text": [
      "beta0 mean a quasi posteriori :  0.160282478226\n",
      "beta1 mean a quasi posteriori :  -26.3560344308\n"
     ]
    },
    {
     "name": "stderr",
     "output_type": "stream",
     "text": [
      "100%|██████████| 20500/20500 [00:07<00:00, 2665.18it/s]\n"
     ]
    },
    {
     "name": "stdout",
     "output_type": "stream",
     "text": [
      "beta0 mean a quasi posteriori :  0.153865132715\n",
      "beta1 mean a quasi posteriori :  -25.6376076838\n"
     ]
    }
   ],
   "source": [
    "C = 100\n",
    "beta_true = np.array([0.15, -25])\n",
    "size_data_list = [1000]\n",
    "\n",
    "beta0_prior_list = [['Gamma', 1., 10.]] #[['Uniform', 0., 1.], ['Uniform', -1., 1.], ['Gamma', 1, 10]]\n",
    "beta1_prior_list = [['Normal', -25., 5.]]#[['Uniform', -60., 0.], ['Uniform', -30., -20.], ['Uniform', -40., -20.], ['Gaussian', -25., 10]]\n",
    "alpha_prior_list = [['Constant', 0.01], ['Uniform', 0., 0.1], ['Constant', 1.], ['Constant', 10.]]\n",
    "                    \n",
    "\n",
    "n_samples = 20000\n",
    "burn = 10000\n",
    "n_iter = 1\n",
    "\n",
    "params = run_several_expo(n_iter, beta_true, size_data_list, C, beta0_prior_list,\n",
    "                     beta1_prior_list, alpha_prior_list, n_samples, burn, plot=True, thin=20)"
   ]
  },
  {
   "cell_type": "code",
   "execution_count": 10,
   "metadata": {},
   "outputs": [
    {
     "data": {
      "text/html": [
       "<div>\n",
       "<style scoped>\n",
       "    .dataframe tbody tr th:only-of-type {\n",
       "        vertical-align: middle;\n",
       "    }\n",
       "\n",
       "    .dataframe tbody tr th {\n",
       "        vertical-align: top;\n",
       "    }\n",
       "\n",
       "    .dataframe thead th {\n",
       "        text-align: right;\n",
       "    }\n",
       "</style>\n",
       "<table border=\"1\" class=\"dataframe\">\n",
       "  <thead>\n",
       "    <tr style=\"text-align: right;\">\n",
       "      <th></th>\n",
       "      <th>N</th>\n",
       "      <th>alpha_prior</th>\n",
       "      <th>beta0_MQP</th>\n",
       "      <th>beta0_prior</th>\n",
       "      <th>beta1_MQP</th>\n",
       "      <th>beta1_prior</th>\n",
       "      <th>n_iter</th>\n",
       "    </tr>\n",
       "  </thead>\n",
       "  <tbody>\n",
       "    <tr>\n",
       "      <th>0</th>\n",
       "      <td>1000</td>\n",
       "      <td>[Constant, 0.01]</td>\n",
       "      <td>0.139127</td>\n",
       "      <td>[Gamma, 1.0, 10.0]</td>\n",
       "      <td>-24.326635</td>\n",
       "      <td>[Normal, -25.0, 5.0]</td>\n",
       "      <td>0</td>\n",
       "    </tr>\n",
       "    <tr>\n",
       "      <th>1</th>\n",
       "      <td>1000</td>\n",
       "      <td>[Uniform, 0.0, 0.1]</td>\n",
       "      <td>0.120208</td>\n",
       "      <td>[Gamma, 1.0, 10.0]</td>\n",
       "      <td>-24.521535</td>\n",
       "      <td>[Normal, -25.0, 5.0]</td>\n",
       "      <td>0</td>\n",
       "    </tr>\n",
       "    <tr>\n",
       "      <th>2</th>\n",
       "      <td>1000</td>\n",
       "      <td>[Constant, 1.0]</td>\n",
       "      <td>0.160282</td>\n",
       "      <td>[Gamma, 1.0, 10.0]</td>\n",
       "      <td>-26.356034</td>\n",
       "      <td>[Normal, -25.0, 5.0]</td>\n",
       "      <td>0</td>\n",
       "    </tr>\n",
       "    <tr>\n",
       "      <th>3</th>\n",
       "      <td>1000</td>\n",
       "      <td>[Constant, 10.0]</td>\n",
       "      <td>0.153865</td>\n",
       "      <td>[Gamma, 1.0, 10.0]</td>\n",
       "      <td>-25.637608</td>\n",
       "      <td>[Normal, -25.0, 5.0]</td>\n",
       "      <td>0</td>\n",
       "    </tr>\n",
       "  </tbody>\n",
       "</table>\n",
       "</div>"
      ],
      "text/plain": [
       "      N          alpha_prior  beta0_MQP         beta0_prior  beta1_MQP  \\\n",
       "0  1000     [Constant, 0.01]   0.139127  [Gamma, 1.0, 10.0] -24.326635   \n",
       "1  1000  [Uniform, 0.0, 0.1]   0.120208  [Gamma, 1.0, 10.0] -24.521535   \n",
       "2  1000      [Constant, 1.0]   0.160282  [Gamma, 1.0, 10.0] -26.356034   \n",
       "3  1000     [Constant, 10.0]   0.153865  [Gamma, 1.0, 10.0] -25.637608   \n",
       "\n",
       "            beta1_prior  n_iter  \n",
       "0  [Normal, -25.0, 5.0]       0  \n",
       "1  [Normal, -25.0, 5.0]       0  \n",
       "2  [Normal, -25.0, 5.0]       0  \n",
       "3  [Normal, -25.0, 5.0]       0  "
      ]
     },
     "execution_count": 10,
     "metadata": {},
     "output_type": "execute_result"
    }
   ],
   "source": [
    "params"
   ]
  },
  {
   "cell_type": "markdown",
   "metadata": {},
   "source": [
    "# Influence de N"
   ]
  },
  {
   "cell_type": "code",
   "execution_count": 15,
   "metadata": {
    "scrolled": false
   },
   "outputs": [
    {
     "name": "stderr",
     "output_type": "stream",
     "text": [
      "100%|██████████| 20500/20500 [00:06<00:00, 2979.33it/s]\n",
      "/usr/local/lib/python3.5/dist-packages/matplotlib/pyplot.py:523: RuntimeWarning: More than 20 figures have been opened. Figures created through the pyplot interface (`matplotlib.pyplot.figure`) are retained until explicitly closed and may consume too much memory. (To control this warning, see the rcParam `figure.max_open_warning`).\n",
      "  max_open_warning, RuntimeWarning)\n"
     ]
    },
    {
     "name": "stdout",
     "output_type": "stream",
     "text": [
      "beta0 mean a quasi posteriori :  0.0665190647306\n",
      "beta1 mean a quasi posteriori :  -14.6054289237\n"
     ]
    },
    {
     "name": "stderr",
     "output_type": "stream",
     "text": [
      "100%|██████████| 20500/20500 [00:03<00:00, 5766.46it/s]\n"
     ]
    },
    {
     "name": "stdout",
     "output_type": "stream",
     "text": [
      "beta0 mean a quasi posteriori :  0.0672343378279\n",
      "beta1 mean a quasi posteriori :  -14.6657321916\n"
     ]
    },
    {
     "name": "stderr",
     "output_type": "stream",
     "text": [
      "100%|██████████| 20500/20500 [00:03<00:00, 5887.04it/s]\n"
     ]
    },
    {
     "name": "stdout",
     "output_type": "stream",
     "text": [
      "beta0 mean a quasi posteriori :  0.0556842722632\n",
      "beta1 mean a quasi posteriori :  -13.7316282494\n"
     ]
    },
    {
     "name": "stderr",
     "output_type": "stream",
     "text": [
      "100%|██████████| 20500/20500 [00:03<00:00, 5336.33it/s]\n"
     ]
    },
    {
     "name": "stdout",
     "output_type": "stream",
     "text": [
      "beta0 mean a quasi posteriori :  0.0456695523422\n",
      "beta1 mean a quasi posteriori :  -12.9111425708\n"
     ]
    },
    {
     "name": "stderr",
     "output_type": "stream",
     "text": [
      "100%|██████████| 20500/20500 [00:03<00:00, 5293.21it/s]\n"
     ]
    },
    {
     "name": "stdout",
     "output_type": "stream",
     "text": [
      "beta0 mean a quasi posteriori :  0.156440133561\n",
      "beta1 mean a quasi posteriori :  -25.9070075211\n"
     ]
    },
    {
     "name": "stderr",
     "output_type": "stream",
     "text": [
      "100%|██████████| 20500/20500 [00:03<00:00, 5451.37it/s]\n"
     ]
    },
    {
     "name": "stdout",
     "output_type": "stream",
     "text": [
      "beta0 mean a quasi posteriori :  0.153243246781\n",
      "beta1 mean a quasi posteriori :  -25.5575007337\n"
     ]
    },
    {
     "name": "stderr",
     "output_type": "stream",
     "text": [
      "100%|██████████| 20500/20500 [00:03<00:00, 5537.68it/s]\n"
     ]
    },
    {
     "name": "stdout",
     "output_type": "stream",
     "text": [
      "beta0 mean a quasi posteriori :  0.175792998279\n",
      "beta1 mean a quasi posteriori :  -28.0677570972\n"
     ]
    },
    {
     "name": "stderr",
     "output_type": "stream",
     "text": [
      "100%|██████████| 20500/20500 [00:03<00:00, 5629.29it/s]\n"
     ]
    },
    {
     "name": "stdout",
     "output_type": "stream",
     "text": [
      "beta0 mean a quasi posteriori :  0.165867139689\n",
      "beta1 mean a quasi posteriori :  -26.9514182502\n"
     ]
    },
    {
     "name": "stderr",
     "output_type": "stream",
     "text": [
      "100%|██████████| 20500/20500 [00:03<00:00, 5439.41it/s]\n"
     ]
    },
    {
     "name": "stdout",
     "output_type": "stream",
     "text": [
      "beta0 mean a quasi posteriori :  0.203294715682\n",
      "beta1 mean a quasi posteriori :  -29.03934599\n"
     ]
    },
    {
     "name": "stderr",
     "output_type": "stream",
     "text": [
      "100%|██████████| 20500/20500 [00:03<00:00, 5560.05it/s]\n"
     ]
    },
    {
     "name": "stdout",
     "output_type": "stream",
     "text": [
      "beta0 mean a quasi posteriori :  0.20288708124\n",
      "beta1 mean a quasi posteriori :  -28.9977750865\n"
     ]
    },
    {
     "name": "stderr",
     "output_type": "stream",
     "text": [
      "100%|██████████| 20500/20500 [00:03<00:00, 5389.98it/s]\n"
     ]
    },
    {
     "name": "stdout",
     "output_type": "stream",
     "text": [
      "beta0 mean a quasi posteriori :  0.207553404524\n",
      "beta1 mean a quasi posteriori :  -29.4455667161\n"
     ]
    },
    {
     "name": "stderr",
     "output_type": "stream",
     "text": [
      "100%|██████████| 20500/20500 [00:03<00:00, 5288.54it/s]\n"
     ]
    },
    {
     "name": "stdout",
     "output_type": "stream",
     "text": [
      "beta0 mean a quasi posteriori :  0.208178393712\n",
      "beta1 mean a quasi posteriori :  -29.510420069\n"
     ]
    },
    {
     "name": "stderr",
     "output_type": "stream",
     "text": [
      "100%|██████████| 20500/20500 [00:04<00:00, 4958.00it/s]\n"
     ]
    },
    {
     "name": "stdout",
     "output_type": "stream",
     "text": [
      "beta0 mean a quasi posteriori :  0.264669254522\n",
      "beta1 mean a quasi posteriori :  -37.8292522977\n"
     ]
    },
    {
     "name": "stderr",
     "output_type": "stream",
     "text": [
      "100%|██████████| 20500/20500 [00:04<00:00, 5045.67it/s]\n"
     ]
    },
    {
     "name": "stdout",
     "output_type": "stream",
     "text": [
      "beta0 mean a quasi posteriori :  0.274109779039\n",
      "beta1 mean a quasi posteriori :  -38.8618753885\n"
     ]
    },
    {
     "name": "stderr",
     "output_type": "stream",
     "text": [
      "100%|██████████| 20500/20500 [00:04<00:00, 4533.06it/s]\n"
     ]
    },
    {
     "name": "stdout",
     "output_type": "stream",
     "text": [
      "beta0 mean a quasi posteriori :  0.273834803362\n",
      "beta1 mean a quasi posteriori :  -38.8588274266\n"
     ]
    },
    {
     "name": "stderr",
     "output_type": "stream",
     "text": [
      "100%|██████████| 20500/20500 [00:04<00:00, 4820.38it/s]\n"
     ]
    },
    {
     "name": "stdout",
     "output_type": "stream",
     "text": [
      "beta0 mean a quasi posteriori :  0.273034076376\n",
      "beta1 mean a quasi posteriori :  -38.7551948725\n"
     ]
    },
    {
     "name": "stderr",
     "output_type": "stream",
     "text": [
      "100%|██████████| 20500/20500 [00:04<00:00, 4333.34it/s]\n"
     ]
    },
    {
     "name": "stdout",
     "output_type": "stream",
     "text": [
      "beta0 mean a quasi posteriori :  0.140932378937\n",
      "beta1 mean a quasi posteriori :  -23.8568513427\n"
     ]
    },
    {
     "name": "stderr",
     "output_type": "stream",
     "text": [
      "100%|██████████| 20500/20500 [00:04<00:00, 4425.94it/s]\n"
     ]
    },
    {
     "name": "stdout",
     "output_type": "stream",
     "text": [
      "beta0 mean a quasi posteriori :  0.141031331779\n",
      "beta1 mean a quasi posteriori :  -23.8710330632\n"
     ]
    },
    {
     "name": "stderr",
     "output_type": "stream",
     "text": [
      "100%|██████████| 20500/20500 [00:04<00:00, 4506.38it/s]\n"
     ]
    },
    {
     "name": "stdout",
     "output_type": "stream",
     "text": [
      "beta0 mean a quasi posteriori :  0.141143069172\n",
      "beta1 mean a quasi posteriori :  -23.8720027537\n"
     ]
    },
    {
     "name": "stderr",
     "output_type": "stream",
     "text": [
      "100%|██████████| 20500/20500 [00:04<00:00, 4483.77it/s]\n"
     ]
    },
    {
     "name": "stdout",
     "output_type": "stream",
     "text": [
      "beta0 mean a quasi posteriori :  0.137090328603\n",
      "beta1 mean a quasi posteriori :  -23.4320527452\n"
     ]
    },
    {
     "name": "stderr",
     "output_type": "stream",
     "text": [
      "100%|██████████| 20500/20500 [00:05<00:00, 3613.13it/s]\n"
     ]
    },
    {
     "name": "stdout",
     "output_type": "stream",
     "text": [
      "beta0 mean a quasi posteriori :  0.168048745368\n",
      "beta1 mean a quasi posteriori :  -27.4961403224\n"
     ]
    },
    {
     "name": "stderr",
     "output_type": "stream",
     "text": [
      "100%|██████████| 20500/20500 [00:05<00:00, 3615.77it/s]\n"
     ]
    },
    {
     "name": "stdout",
     "output_type": "stream",
     "text": [
      "beta0 mean a quasi posteriori :  0.169338905805\n",
      "beta1 mean a quasi posteriori :  -27.6387838907\n"
     ]
    },
    {
     "name": "stderr",
     "output_type": "stream",
     "text": [
      "100%|██████████| 20500/20500 [00:05<00:00, 3483.48it/s]\n"
     ]
    },
    {
     "name": "stdout",
     "output_type": "stream",
     "text": [
      "beta0 mean a quasi posteriori :  0.168059570779\n",
      "beta1 mean a quasi posteriori :  -27.4925942621\n"
     ]
    },
    {
     "name": "stderr",
     "output_type": "stream",
     "text": [
      "100%|██████████| 20500/20500 [00:05<00:00, 3633.96it/s]\n"
     ]
    },
    {
     "name": "stdout",
     "output_type": "stream",
     "text": [
      "beta0 mean a quasi posteriori :  0.173485546506\n",
      "beta1 mean a quasi posteriori :  -28.1052910331\n"
     ]
    }
   ],
   "source": [
    "C = 100\n",
    "beta_true = np.array([0.15, -25])\n",
    "size_data_list = [5, 25, 50, 100, 250, 500]\n",
    "\n",
    "beta0_prior_list = [['Gamma', 1., 10.]] #[['Uniform', 0., 1.], ['Uniform', -1., 1.], ['Gamma', 1, 10]]\n",
    "beta1_prior_list = [['Normal', -25., 5.]]#[['Uniform', -60., 0.], ['Uniform', -30., -20.], ['Uniform', -40., -20.], ['Gaussian', -25., 10]]\n",
    "alpha_prior_list = [['Constant', 1.]]#[['Constant', 0.01], ['Uniform', 0., 0.1], ['Constant', 1.], ['Constant', 10.],\n",
    "                    \n",
    "\n",
    "n_samples = 20000\n",
    "burn = 10000\n",
    "n_iter = 4\n",
    "\n",
    "params = run_several_expo(n_iter, beta_true, size_data_list, C, beta0_prior_list,\n",
    "                     beta1_prior_list, alpha_prior_list, n_samples, burn, plot=True, thin=20)"
   ]
  },
  {
   "cell_type": "code",
   "execution_count": 16,
   "metadata": {},
   "outputs": [
    {
     "data": {
      "text/html": [
       "<div>\n",
       "<style scoped>\n",
       "    .dataframe tbody tr th:only-of-type {\n",
       "        vertical-align: middle;\n",
       "    }\n",
       "\n",
       "    .dataframe tbody tr th {\n",
       "        vertical-align: top;\n",
       "    }\n",
       "\n",
       "    .dataframe thead th {\n",
       "        text-align: right;\n",
       "    }\n",
       "</style>\n",
       "<table border=\"1\" class=\"dataframe\">\n",
       "  <thead>\n",
       "    <tr style=\"text-align: right;\">\n",
       "      <th></th>\n",
       "      <th>N</th>\n",
       "      <th>alpha_prior</th>\n",
       "      <th>beta0_MQP</th>\n",
       "      <th>beta0_prior</th>\n",
       "      <th>beta1_MQP</th>\n",
       "      <th>beta1_prior</th>\n",
       "      <th>n_iter</th>\n",
       "    </tr>\n",
       "  </thead>\n",
       "  <tbody>\n",
       "    <tr>\n",
       "      <th>0</th>\n",
       "      <td>5</td>\n",
       "      <td>['Constant', 1.0]</td>\n",
       "      <td>0.066519</td>\n",
       "      <td>['Gamma', 1.0, 10.0]</td>\n",
       "      <td>-14.605429</td>\n",
       "      <td>['Normal', -25.0, 5.0]</td>\n",
       "      <td>0</td>\n",
       "    </tr>\n",
       "    <tr>\n",
       "      <th>1</th>\n",
       "      <td>5</td>\n",
       "      <td>['Constant', 1.0]</td>\n",
       "      <td>0.067234</td>\n",
       "      <td>['Gamma', 1.0, 10.0]</td>\n",
       "      <td>-14.665732</td>\n",
       "      <td>['Normal', -25.0, 5.0]</td>\n",
       "      <td>1</td>\n",
       "    </tr>\n",
       "    <tr>\n",
       "      <th>2</th>\n",
       "      <td>5</td>\n",
       "      <td>['Constant', 1.0]</td>\n",
       "      <td>0.055684</td>\n",
       "      <td>['Gamma', 1.0, 10.0]</td>\n",
       "      <td>-13.731628</td>\n",
       "      <td>['Normal', -25.0, 5.0]</td>\n",
       "      <td>2</td>\n",
       "    </tr>\n",
       "    <tr>\n",
       "      <th>3</th>\n",
       "      <td>5</td>\n",
       "      <td>['Constant', 1.0]</td>\n",
       "      <td>0.045670</td>\n",
       "      <td>['Gamma', 1.0, 10.0]</td>\n",
       "      <td>-12.911143</td>\n",
       "      <td>['Normal', -25.0, 5.0]</td>\n",
       "      <td>3</td>\n",
       "    </tr>\n",
       "    <tr>\n",
       "      <th>4</th>\n",
       "      <td>25</td>\n",
       "      <td>['Constant', 1.0]</td>\n",
       "      <td>0.156440</td>\n",
       "      <td>['Gamma', 1.0, 10.0]</td>\n",
       "      <td>-25.907008</td>\n",
       "      <td>['Normal', -25.0, 5.0]</td>\n",
       "      <td>0</td>\n",
       "    </tr>\n",
       "    <tr>\n",
       "      <th>5</th>\n",
       "      <td>25</td>\n",
       "      <td>['Constant', 1.0]</td>\n",
       "      <td>0.153243</td>\n",
       "      <td>['Gamma', 1.0, 10.0]</td>\n",
       "      <td>-25.557501</td>\n",
       "      <td>['Normal', -25.0, 5.0]</td>\n",
       "      <td>1</td>\n",
       "    </tr>\n",
       "    <tr>\n",
       "      <th>6</th>\n",
       "      <td>25</td>\n",
       "      <td>['Constant', 1.0]</td>\n",
       "      <td>0.175793</td>\n",
       "      <td>['Gamma', 1.0, 10.0]</td>\n",
       "      <td>-28.067757</td>\n",
       "      <td>['Normal', -25.0, 5.0]</td>\n",
       "      <td>2</td>\n",
       "    </tr>\n",
       "    <tr>\n",
       "      <th>7</th>\n",
       "      <td>25</td>\n",
       "      <td>['Constant', 1.0]</td>\n",
       "      <td>0.165867</td>\n",
       "      <td>['Gamma', 1.0, 10.0]</td>\n",
       "      <td>-26.951418</td>\n",
       "      <td>['Normal', -25.0, 5.0]</td>\n",
       "      <td>3</td>\n",
       "    </tr>\n",
       "    <tr>\n",
       "      <th>8</th>\n",
       "      <td>50</td>\n",
       "      <td>['Constant', 1.0]</td>\n",
       "      <td>0.203295</td>\n",
       "      <td>['Gamma', 1.0, 10.0]</td>\n",
       "      <td>-29.039346</td>\n",
       "      <td>['Normal', -25.0, 5.0]</td>\n",
       "      <td>0</td>\n",
       "    </tr>\n",
       "    <tr>\n",
       "      <th>9</th>\n",
       "      <td>50</td>\n",
       "      <td>['Constant', 1.0]</td>\n",
       "      <td>0.202887</td>\n",
       "      <td>['Gamma', 1.0, 10.0]</td>\n",
       "      <td>-28.997775</td>\n",
       "      <td>['Normal', -25.0, 5.0]</td>\n",
       "      <td>1</td>\n",
       "    </tr>\n",
       "    <tr>\n",
       "      <th>10</th>\n",
       "      <td>50</td>\n",
       "      <td>['Constant', 1.0]</td>\n",
       "      <td>0.207553</td>\n",
       "      <td>['Gamma', 1.0, 10.0]</td>\n",
       "      <td>-29.445567</td>\n",
       "      <td>['Normal', -25.0, 5.0]</td>\n",
       "      <td>2</td>\n",
       "    </tr>\n",
       "    <tr>\n",
       "      <th>11</th>\n",
       "      <td>50</td>\n",
       "      <td>['Constant', 1.0]</td>\n",
       "      <td>0.208178</td>\n",
       "      <td>['Gamma', 1.0, 10.0]</td>\n",
       "      <td>-29.510420</td>\n",
       "      <td>['Normal', -25.0, 5.0]</td>\n",
       "      <td>3</td>\n",
       "    </tr>\n",
       "    <tr>\n",
       "      <th>12</th>\n",
       "      <td>100</td>\n",
       "      <td>['Constant', 1.0]</td>\n",
       "      <td>0.264669</td>\n",
       "      <td>['Gamma', 1.0, 10.0]</td>\n",
       "      <td>-37.829252</td>\n",
       "      <td>['Normal', -25.0, 5.0]</td>\n",
       "      <td>0</td>\n",
       "    </tr>\n",
       "    <tr>\n",
       "      <th>13</th>\n",
       "      <td>100</td>\n",
       "      <td>['Constant', 1.0]</td>\n",
       "      <td>0.274110</td>\n",
       "      <td>['Gamma', 1.0, 10.0]</td>\n",
       "      <td>-38.861875</td>\n",
       "      <td>['Normal', -25.0, 5.0]</td>\n",
       "      <td>1</td>\n",
       "    </tr>\n",
       "    <tr>\n",
       "      <th>14</th>\n",
       "      <td>100</td>\n",
       "      <td>['Constant', 1.0]</td>\n",
       "      <td>0.273835</td>\n",
       "      <td>['Gamma', 1.0, 10.0]</td>\n",
       "      <td>-38.858827</td>\n",
       "      <td>['Normal', -25.0, 5.0]</td>\n",
       "      <td>2</td>\n",
       "    </tr>\n",
       "    <tr>\n",
       "      <th>15</th>\n",
       "      <td>100</td>\n",
       "      <td>['Constant', 1.0]</td>\n",
       "      <td>0.273034</td>\n",
       "      <td>['Gamma', 1.0, 10.0]</td>\n",
       "      <td>-38.755195</td>\n",
       "      <td>['Normal', -25.0, 5.0]</td>\n",
       "      <td>3</td>\n",
       "    </tr>\n",
       "    <tr>\n",
       "      <th>16</th>\n",
       "      <td>250</td>\n",
       "      <td>['Constant', 1.0]</td>\n",
       "      <td>0.140932</td>\n",
       "      <td>['Gamma', 1.0, 10.0]</td>\n",
       "      <td>-23.856851</td>\n",
       "      <td>['Normal', -25.0, 5.0]</td>\n",
       "      <td>0</td>\n",
       "    </tr>\n",
       "    <tr>\n",
       "      <th>17</th>\n",
       "      <td>250</td>\n",
       "      <td>['Constant', 1.0]</td>\n",
       "      <td>0.141031</td>\n",
       "      <td>['Gamma', 1.0, 10.0]</td>\n",
       "      <td>-23.871033</td>\n",
       "      <td>['Normal', -25.0, 5.0]</td>\n",
       "      <td>1</td>\n",
       "    </tr>\n",
       "    <tr>\n",
       "      <th>18</th>\n",
       "      <td>250</td>\n",
       "      <td>['Constant', 1.0]</td>\n",
       "      <td>0.141143</td>\n",
       "      <td>['Gamma', 1.0, 10.0]</td>\n",
       "      <td>-23.872003</td>\n",
       "      <td>['Normal', -25.0, 5.0]</td>\n",
       "      <td>2</td>\n",
       "    </tr>\n",
       "    <tr>\n",
       "      <th>19</th>\n",
       "      <td>250</td>\n",
       "      <td>['Constant', 1.0]</td>\n",
       "      <td>0.137090</td>\n",
       "      <td>['Gamma', 1.0, 10.0]</td>\n",
       "      <td>-23.432053</td>\n",
       "      <td>['Normal', -25.0, 5.0]</td>\n",
       "      <td>3</td>\n",
       "    </tr>\n",
       "    <tr>\n",
       "      <th>20</th>\n",
       "      <td>500</td>\n",
       "      <td>['Constant', 1.0]</td>\n",
       "      <td>0.168049</td>\n",
       "      <td>['Gamma', 1.0, 10.0]</td>\n",
       "      <td>-27.496140</td>\n",
       "      <td>['Normal', -25.0, 5.0]</td>\n",
       "      <td>0</td>\n",
       "    </tr>\n",
       "    <tr>\n",
       "      <th>21</th>\n",
       "      <td>500</td>\n",
       "      <td>['Constant', 1.0]</td>\n",
       "      <td>0.169339</td>\n",
       "      <td>['Gamma', 1.0, 10.0]</td>\n",
       "      <td>-27.638784</td>\n",
       "      <td>['Normal', -25.0, 5.0]</td>\n",
       "      <td>1</td>\n",
       "    </tr>\n",
       "    <tr>\n",
       "      <th>22</th>\n",
       "      <td>500</td>\n",
       "      <td>['Constant', 1.0]</td>\n",
       "      <td>0.168060</td>\n",
       "      <td>['Gamma', 1.0, 10.0]</td>\n",
       "      <td>-27.492594</td>\n",
       "      <td>['Normal', -25.0, 5.0]</td>\n",
       "      <td>2</td>\n",
       "    </tr>\n",
       "    <tr>\n",
       "      <th>23</th>\n",
       "      <td>500</td>\n",
       "      <td>['Constant', 1.0]</td>\n",
       "      <td>0.173486</td>\n",
       "      <td>['Gamma', 1.0, 10.0]</td>\n",
       "      <td>-28.105291</td>\n",
       "      <td>['Normal', -25.0, 5.0]</td>\n",
       "      <td>3</td>\n",
       "    </tr>\n",
       "  </tbody>\n",
       "</table>\n",
       "</div>"
      ],
      "text/plain": [
       "      N        alpha_prior  beta0_MQP           beta0_prior  beta1_MQP  \\\n",
       "0     5  ['Constant', 1.0]   0.066519  ['Gamma', 1.0, 10.0] -14.605429   \n",
       "1     5  ['Constant', 1.0]   0.067234  ['Gamma', 1.0, 10.0] -14.665732   \n",
       "2     5  ['Constant', 1.0]   0.055684  ['Gamma', 1.0, 10.0] -13.731628   \n",
       "3     5  ['Constant', 1.0]   0.045670  ['Gamma', 1.0, 10.0] -12.911143   \n",
       "4    25  ['Constant', 1.0]   0.156440  ['Gamma', 1.0, 10.0] -25.907008   \n",
       "5    25  ['Constant', 1.0]   0.153243  ['Gamma', 1.0, 10.0] -25.557501   \n",
       "6    25  ['Constant', 1.0]   0.175793  ['Gamma', 1.0, 10.0] -28.067757   \n",
       "7    25  ['Constant', 1.0]   0.165867  ['Gamma', 1.0, 10.0] -26.951418   \n",
       "8    50  ['Constant', 1.0]   0.203295  ['Gamma', 1.0, 10.0] -29.039346   \n",
       "9    50  ['Constant', 1.0]   0.202887  ['Gamma', 1.0, 10.0] -28.997775   \n",
       "10   50  ['Constant', 1.0]   0.207553  ['Gamma', 1.0, 10.0] -29.445567   \n",
       "11   50  ['Constant', 1.0]   0.208178  ['Gamma', 1.0, 10.0] -29.510420   \n",
       "12  100  ['Constant', 1.0]   0.264669  ['Gamma', 1.0, 10.0] -37.829252   \n",
       "13  100  ['Constant', 1.0]   0.274110  ['Gamma', 1.0, 10.0] -38.861875   \n",
       "14  100  ['Constant', 1.0]   0.273835  ['Gamma', 1.0, 10.0] -38.858827   \n",
       "15  100  ['Constant', 1.0]   0.273034  ['Gamma', 1.0, 10.0] -38.755195   \n",
       "16  250  ['Constant', 1.0]   0.140932  ['Gamma', 1.0, 10.0] -23.856851   \n",
       "17  250  ['Constant', 1.0]   0.141031  ['Gamma', 1.0, 10.0] -23.871033   \n",
       "18  250  ['Constant', 1.0]   0.141143  ['Gamma', 1.0, 10.0] -23.872003   \n",
       "19  250  ['Constant', 1.0]   0.137090  ['Gamma', 1.0, 10.0] -23.432053   \n",
       "20  500  ['Constant', 1.0]   0.168049  ['Gamma', 1.0, 10.0] -27.496140   \n",
       "21  500  ['Constant', 1.0]   0.169339  ['Gamma', 1.0, 10.0] -27.638784   \n",
       "22  500  ['Constant', 1.0]   0.168060  ['Gamma', 1.0, 10.0] -27.492594   \n",
       "23  500  ['Constant', 1.0]   0.173486  ['Gamma', 1.0, 10.0] -28.105291   \n",
       "\n",
       "               beta1_prior  n_iter  \n",
       "0   ['Normal', -25.0, 5.0]       0  \n",
       "1   ['Normal', -25.0, 5.0]       1  \n",
       "2   ['Normal', -25.0, 5.0]       2  \n",
       "3   ['Normal', -25.0, 5.0]       3  \n",
       "4   ['Normal', -25.0, 5.0]       0  \n",
       "5   ['Normal', -25.0, 5.0]       1  \n",
       "6   ['Normal', -25.0, 5.0]       2  \n",
       "7   ['Normal', -25.0, 5.0]       3  \n",
       "8   ['Normal', -25.0, 5.0]       0  \n",
       "9   ['Normal', -25.0, 5.0]       1  \n",
       "10  ['Normal', -25.0, 5.0]       2  \n",
       "11  ['Normal', -25.0, 5.0]       3  \n",
       "12  ['Normal', -25.0, 5.0]       0  \n",
       "13  ['Normal', -25.0, 5.0]       1  \n",
       "14  ['Normal', -25.0, 5.0]       2  \n",
       "15  ['Normal', -25.0, 5.0]       3  \n",
       "16  ['Normal', -25.0, 5.0]       0  \n",
       "17  ['Normal', -25.0, 5.0]       1  \n",
       "18  ['Normal', -25.0, 5.0]       2  \n",
       "19  ['Normal', -25.0, 5.0]       3  \n",
       "20  ['Normal', -25.0, 5.0]       0  \n",
       "21  ['Normal', -25.0, 5.0]       1  \n",
       "22  ['Normal', -25.0, 5.0]       2  \n",
       "23  ['Normal', -25.0, 5.0]       3  "
      ]
     },
     "execution_count": 16,
     "metadata": {},
     "output_type": "execute_result"
    }
   ],
   "source": [
    "params['alpha_prior'] = params['alpha_prior'].astype(str)\n",
    "params['beta0_prior'] = params['beta0_prior'].astype(str)\n",
    "params['beta1_prior'] = params['beta1_prior'].astype(str)\n",
    "\n",
    "params"
   ]
  },
  {
   "cell_type": "code",
   "execution_count": 17,
   "metadata": {},
   "outputs": [
    {
     "data": {
      "text/html": [
       "<div>\n",
       "<style scoped>\n",
       "    .dataframe tbody tr th:only-of-type {\n",
       "        vertical-align: middle;\n",
       "    }\n",
       "\n",
       "    .dataframe tbody tr th {\n",
       "        vertical-align: top;\n",
       "    }\n",
       "\n",
       "    .dataframe thead th {\n",
       "        text-align: right;\n",
       "    }\n",
       "</style>\n",
       "<table border=\"1\" class=\"dataframe\">\n",
       "  <thead>\n",
       "    <tr style=\"text-align: right;\">\n",
       "      <th></th>\n",
       "      <th>N</th>\n",
       "      <th>beta0_MQP</th>\n",
       "      <th>beta1_MQP</th>\n",
       "    </tr>\n",
       "  </thead>\n",
       "  <tbody>\n",
       "    <tr>\n",
       "      <th>0</th>\n",
       "      <td>5</td>\n",
       "      <td>0.058777</td>\n",
       "      <td>-13.978483</td>\n",
       "    </tr>\n",
       "    <tr>\n",
       "      <th>1</th>\n",
       "      <td>25</td>\n",
       "      <td>0.162836</td>\n",
       "      <td>-26.620921</td>\n",
       "    </tr>\n",
       "    <tr>\n",
       "      <th>2</th>\n",
       "      <td>50</td>\n",
       "      <td>0.205478</td>\n",
       "      <td>-29.248277</td>\n",
       "    </tr>\n",
       "    <tr>\n",
       "      <th>3</th>\n",
       "      <td>100</td>\n",
       "      <td>0.271412</td>\n",
       "      <td>-38.576287</td>\n",
       "    </tr>\n",
       "    <tr>\n",
       "      <th>4</th>\n",
       "      <td>250</td>\n",
       "      <td>0.140049</td>\n",
       "      <td>-23.757985</td>\n",
       "    </tr>\n",
       "    <tr>\n",
       "      <th>5</th>\n",
       "      <td>500</td>\n",
       "      <td>0.169733</td>\n",
       "      <td>-27.683202</td>\n",
       "    </tr>\n",
       "  </tbody>\n",
       "</table>\n",
       "</div>"
      ],
      "text/plain": [
       "     N  beta0_MQP  beta1_MQP\n",
       "0    5   0.058777 -13.978483\n",
       "1   25   0.162836 -26.620921\n",
       "2   50   0.205478 -29.248277\n",
       "3  100   0.271412 -38.576287\n",
       "4  250   0.140049 -23.757985\n",
       "5  500   0.169733 -27.683202"
      ]
     },
     "execution_count": 17,
     "metadata": {},
     "output_type": "execute_result"
    }
   ],
   "source": [
    "# Impact taille de la BDD\n",
    "params.groupby(['N'], as_index=False)[['beta0_MQP', 'beta1_MQP']].mean()"
   ]
  },
  {
   "cell_type": "markdown",
   "metadata": {},
   "source": [
    "# Influence de Beta0"
   ]
  },
  {
   "cell_type": "code",
   "execution_count": 11,
   "metadata": {},
   "outputs": [
    {
     "name": "stderr",
     "output_type": "stream",
     "text": [
      "100%|██████████| 40500/40500 [00:15<00:00, 2613.99it/s]\n"
     ]
    },
    {
     "name": "stdout",
     "output_type": "stream",
     "text": [
      "beta0 mean a quasi posteriori :  0.145065273603\n",
      "beta1 mean a quasi posteriori :  -24.6486216869\n"
     ]
    },
    {
     "name": "stderr",
     "output_type": "stream",
     "text": [
      "100%|██████████| 40500/40500 [00:15<00:00, 2645.40it/s]\n"
     ]
    },
    {
     "name": "stdout",
     "output_type": "stream",
     "text": [
      "beta0 mean a quasi posteriori :  0.143305175823\n",
      "beta1 mean a quasi posteriori :  -24.4635616777\n"
     ]
    },
    {
     "name": "stderr",
     "output_type": "stream",
     "text": [
      "100%|██████████| 40500/40500 [00:15<00:00, 2657.62it/s]\n"
     ]
    },
    {
     "name": "stdout",
     "output_type": "stream",
     "text": [
      "beta0 mean a quasi posteriori :  0.145055454257\n",
      "beta1 mean a quasi posteriori :  -24.652518224\n"
     ]
    },
    {
     "name": "stderr",
     "output_type": "stream",
     "text": [
      "  3%|▎         | 1339/40500 [00:01<00:29, 1325.14it/s]\n",
      "/home/victor/Documents/Graphs/Quasi-Bayesian_Survival_Analysis/exponential_model.py:102: RuntimeWarning: Mean of empty slice.\n",
      "  print(\"beta0 mean a quasi posteriori : \", trace['beta0'].mean())\n",
      "/home/victor/Documents/Graphs/Quasi-Bayesian_Survival_Analysis/exponential_model.py:103: RuntimeWarning: Mean of empty slice.\n",
      "  print(\"beta1 mean a quasi posteriori : \", trace['beta1'].mean())\n",
      "/home/victor/Documents/Graphs/Quasi-Bayesian_Survival_Analysis/exponential_model.py:110: RuntimeWarning: Mean of empty slice.\n",
      "  param_results['beta0_MQP'].append(trace['beta0'].mean())\n",
      "/home/victor/Documents/Graphs/Quasi-Bayesian_Survival_Analysis/exponential_model.py:111: RuntimeWarning: Mean of empty slice.\n",
      "  param_results['beta1_MQP'].append(trace['beta1'].mean())\n"
     ]
    },
    {
     "name": "stdout",
     "output_type": "stream",
     "text": [
      "beta0 mean a quasi posteriori :  nan\n",
      "beta1 mean a quasi posteriori :  nan\n"
     ]
    },
    {
     "ename": "KeyboardInterrupt",
     "evalue": "",
     "output_type": "error",
     "traceback": [
      "\u001b[0;31m---------------------------------------------------------------------------\u001b[0m",
      "\u001b[0;31mFileNotFoundError\u001b[0m                         Traceback (most recent call last)",
      "\u001b[0;32m/usr/lib/python3.5/importlib/_bootstrap_external.py\u001b[0m in \u001b[0;36m_path_is_mode_type\u001b[0;34m(path, mode)\u001b[0m\n",
      "\u001b[0;32m/usr/lib/python3.5/importlib/_bootstrap_external.py\u001b[0m in \u001b[0;36m_path_stat\u001b[0;34m(path)\u001b[0m\n",
      "\u001b[0;31mFileNotFoundError\u001b[0m: [Errno 2] No such file or directory: '/home/victor/.theano/compiledir_Linux-4.10--generic-x86_64-with-Ubuntu-16.04-xenial-x86_64-3.5.2-64/tmpwof6sz8t/__init__.cpython-35m-x86_64-linux-gnu.so'",
      "\nDuring handling of the above exception, another exception occurred:\n",
      "\u001b[0;31mKeyboardInterrupt\u001b[0m                         Traceback (most recent call last)",
      "\u001b[0;32m<ipython-input-11-d4df6bf0f1c6>\u001b[0m in \u001b[0;36m<module>\u001b[0;34m()\u001b[0m\n\u001b[1;32m     13\u001b[0m \u001b[0;34m\u001b[0m\u001b[0m\n\u001b[1;32m     14\u001b[0m params = run_several_expo(n_iter, beta_true, size_data_list, C, beta0_prior_list,\n\u001b[0;32m---> 15\u001b[0;31m                      beta1_prior_list, alpha_prior_list, n_samples, burn, plot=True, thin=20)\n\u001b[0m",
      "\u001b[0;32m~/Documents/Graphs/Quasi-Bayesian_Survival_Analysis/exponential_model.py\u001b[0m in \u001b[0;36mrun_several_expo\u001b[0;34m(n_iter, beta_true, size_data_list, C, beta0_prior_list, beta1_prior_list, alpha_prior_list, n_samples, burn, plot, thin)\u001b[0m\n\u001b[1;32m     92\u001b[0m             \u001b[0;32mfor\u001b[0m \u001b[0mi\u001b[0m \u001b[0;32min\u001b[0m \u001b[0mrange\u001b[0m\u001b[0;34m(\u001b[0m\u001b[0mn_iter\u001b[0m\u001b[0;34m)\u001b[0m\u001b[0;34m:\u001b[0m\u001b[0;34m\u001b[0m\u001b[0m\n\u001b[1;32m     93\u001b[0m                 trace = sample_quasi_posterior(data, Y, C, beta0_prior, beta1_prior, alpha_prior,\n\u001b[0;32m---> 94\u001b[0;31m                                n_samples, burn, thin)\n\u001b[0m\u001b[1;32m     95\u001b[0m \u001b[0;34m\u001b[0m\u001b[0m\n\u001b[1;32m     96\u001b[0m                 \u001b[0mpm\u001b[0m\u001b[0;34m.\u001b[0m\u001b[0mtraceplot\u001b[0m\u001b[0;34m(\u001b[0m\u001b[0mtrace\u001b[0m\u001b[0;34m)\u001b[0m\u001b[0;34m;\u001b[0m\u001b[0;34m\u001b[0m\u001b[0m\n",
      "\u001b[0;32m~/Documents/Graphs/Quasi-Bayesian_Survival_Analysis/exponential_model.py\u001b[0m in \u001b[0;36msample_quasi_posterior\u001b[0;34m(data, Y, C, beta0_prior, beta1_prior, alpha_prior, n_samples, burn, thin)\u001b[0m\n\u001b[1;32m     22\u001b[0m             \u001b[0mbeta0\u001b[0m \u001b[0;34m=\u001b[0m \u001b[0mpm\u001b[0m\u001b[0;34m.\u001b[0m\u001b[0mUniform\u001b[0m\u001b[0;34m(\u001b[0m\u001b[0;34m'beta0'\u001b[0m\u001b[0;34m,\u001b[0m \u001b[0mbeta0_prior\u001b[0m\u001b[0;34m[\u001b[0m\u001b[0;36m1\u001b[0m\u001b[0;34m]\u001b[0m\u001b[0;34m,\u001b[0m \u001b[0mbeta0_prior\u001b[0m\u001b[0;34m[\u001b[0m\u001b[0;36m2\u001b[0m\u001b[0;34m]\u001b[0m\u001b[0;34m)\u001b[0m\u001b[0;34m\u001b[0m\u001b[0m\n\u001b[1;32m     23\u001b[0m         \u001b[0;32melif\u001b[0m \u001b[0mbeta0_prior\u001b[0m\u001b[0;34m[\u001b[0m\u001b[0;36m0\u001b[0m\u001b[0;34m]\u001b[0m \u001b[0;34m==\u001b[0m \u001b[0;34m'Gamma'\u001b[0m\u001b[0;34m:\u001b[0m\u001b[0;34m\u001b[0m\u001b[0m\n\u001b[0;32m---> 24\u001b[0;31m             \u001b[0mbeta0\u001b[0m \u001b[0;34m=\u001b[0m \u001b[0mpm\u001b[0m\u001b[0;34m.\u001b[0m\u001b[0mGamma\u001b[0m\u001b[0;34m(\u001b[0m\u001b[0;34m'beta0'\u001b[0m\u001b[0;34m,\u001b[0m \u001b[0malpha\u001b[0m \u001b[0;34m=\u001b[0m \u001b[0mbeta0_prior\u001b[0m\u001b[0;34m[\u001b[0m\u001b[0;36m1\u001b[0m\u001b[0;34m]\u001b[0m\u001b[0;34m,\u001b[0m \u001b[0mbeta\u001b[0m \u001b[0;34m=\u001b[0m \u001b[0mbeta0_prior\u001b[0m\u001b[0;34m[\u001b[0m\u001b[0;36m2\u001b[0m\u001b[0;34m]\u001b[0m\u001b[0;34m)\u001b[0m\u001b[0;34m\u001b[0m\u001b[0m\n\u001b[0m\u001b[1;32m     25\u001b[0m         \u001b[0;32melif\u001b[0m \u001b[0mbeta0_prior\u001b[0m\u001b[0;34m[\u001b[0m\u001b[0;36m0\u001b[0m\u001b[0;34m]\u001b[0m \u001b[0;34m==\u001b[0m \u001b[0;34m'Normal'\u001b[0m\u001b[0;34m:\u001b[0m\u001b[0;34m\u001b[0m\u001b[0m\n\u001b[1;32m     26\u001b[0m             \u001b[0mbeta0\u001b[0m \u001b[0;34m=\u001b[0m \u001b[0mpm\u001b[0m\u001b[0;34m.\u001b[0m\u001b[0mNormal\u001b[0m\u001b[0;34m(\u001b[0m\u001b[0;34m'beta0'\u001b[0m\u001b[0;34m,\u001b[0m \u001b[0mbeta0_prior\u001b[0m\u001b[0;34m[\u001b[0m\u001b[0;36m1\u001b[0m\u001b[0;34m]\u001b[0m\u001b[0;34m,\u001b[0m \u001b[0mbeta0_prior\u001b[0m\u001b[0;34m[\u001b[0m\u001b[0;36m2\u001b[0m\u001b[0;34m]\u001b[0m\u001b[0;34m)\u001b[0m\u001b[0;34m\u001b[0m\u001b[0m\n",
      "\u001b[0;32m/usr/local/lib/python3.5/dist-packages/pymc3/distributions/distribution.py\u001b[0m in \u001b[0;36m__new__\u001b[0;34m(cls, name, *args, **kwargs)\u001b[0m\n\u001b[1;32m     35\u001b[0m             \u001b[0mtotal_size\u001b[0m \u001b[0;34m=\u001b[0m \u001b[0mkwargs\u001b[0m\u001b[0;34m.\u001b[0m\u001b[0mpop\u001b[0m\u001b[0;34m(\u001b[0m\u001b[0;34m'total_size'\u001b[0m\u001b[0;34m,\u001b[0m \u001b[0;32mNone\u001b[0m\u001b[0;34m)\u001b[0m\u001b[0;34m\u001b[0m\u001b[0m\n\u001b[1;32m     36\u001b[0m             \u001b[0mdist\u001b[0m \u001b[0;34m=\u001b[0m \u001b[0mcls\u001b[0m\u001b[0;34m.\u001b[0m\u001b[0mdist\u001b[0m\u001b[0;34m(\u001b[0m\u001b[0;34m*\u001b[0m\u001b[0margs\u001b[0m\u001b[0;34m,\u001b[0m \u001b[0;34m**\u001b[0m\u001b[0mkwargs\u001b[0m\u001b[0;34m)\u001b[0m\u001b[0;34m\u001b[0m\u001b[0m\n\u001b[0;32m---> 37\u001b[0;31m             \u001b[0;32mreturn\u001b[0m \u001b[0mmodel\u001b[0m\u001b[0;34m.\u001b[0m\u001b[0mVar\u001b[0m\u001b[0;34m(\u001b[0m\u001b[0mname\u001b[0m\u001b[0;34m,\u001b[0m \u001b[0mdist\u001b[0m\u001b[0;34m,\u001b[0m \u001b[0mdata\u001b[0m\u001b[0;34m,\u001b[0m \u001b[0mtotal_size\u001b[0m\u001b[0;34m)\u001b[0m\u001b[0;34m\u001b[0m\u001b[0m\n\u001b[0m\u001b[1;32m     38\u001b[0m         \u001b[0;32melse\u001b[0m\u001b[0;34m:\u001b[0m\u001b[0;34m\u001b[0m\u001b[0m\n\u001b[1;32m     39\u001b[0m             \u001b[0;32mraise\u001b[0m \u001b[0mTypeError\u001b[0m\u001b[0;34m(\u001b[0m\u001b[0;34m\"Name needs to be a string but got: {}\"\u001b[0m\u001b[0;34m.\u001b[0m\u001b[0mformat\u001b[0m\u001b[0;34m(\u001b[0m\u001b[0mname\u001b[0m\u001b[0;34m)\u001b[0m\u001b[0;34m)\u001b[0m\u001b[0;34m\u001b[0m\u001b[0m\n",
      "\u001b[0;32m/usr/local/lib/python3.5/dist-packages/pymc3/model.py\u001b[0m in \u001b[0;36mVar\u001b[0;34m(self, name, dist, data, total_size)\u001b[0m\n\u001b[1;32m    757\u001b[0m                                         \u001b[0mtransform\u001b[0m\u001b[0;34m=\u001b[0m\u001b[0mdist\u001b[0m\u001b[0;34m.\u001b[0m\u001b[0mtransform\u001b[0m\u001b[0;34m,\u001b[0m\u001b[0;34m\u001b[0m\u001b[0m\n\u001b[1;32m    758\u001b[0m                                         \u001b[0mtotal_size\u001b[0m\u001b[0;34m=\u001b[0m\u001b[0mtotal_size\u001b[0m\u001b[0;34m,\u001b[0m\u001b[0;34m\u001b[0m\u001b[0m\n\u001b[0;32m--> 759\u001b[0;31m                                         model=self)\n\u001b[0m\u001b[1;32m    760\u001b[0m                 pm._log.debug('Applied {transform}-transform to {name}'\n\u001b[1;32m    761\u001b[0m                               ' and added transformed {orig_name} to model.'.format(\n",
      "\u001b[0;32m/usr/local/lib/python3.5/dist-packages/pymc3/model.py\u001b[0m in \u001b[0;36m__init__\u001b[0;34m(self, type, owner, index, name, distribution, model, transform, total_size)\u001b[0m\n\u001b[1;32m   1384\u001b[0m \u001b[0;34m\u001b[0m\u001b[0m\n\u001b[1;32m   1385\u001b[0m             self.transformed = model.Var(\n\u001b[0;32m-> 1386\u001b[0;31m                 transformed_name, transform.apply(distribution), total_size=total_size)\n\u001b[0m\u001b[1;32m   1387\u001b[0m \u001b[0;34m\u001b[0m\u001b[0m\n\u001b[1;32m   1388\u001b[0m             \u001b[0mnormalRV\u001b[0m \u001b[0;34m=\u001b[0m \u001b[0mtransform\u001b[0m\u001b[0;34m.\u001b[0m\u001b[0mbackward\u001b[0m\u001b[0;34m(\u001b[0m\u001b[0mself\u001b[0m\u001b[0;34m.\u001b[0m\u001b[0mtransformed\u001b[0m\u001b[0;34m)\u001b[0m\u001b[0;34m\u001b[0m\u001b[0m\n",
      "\u001b[0;32m/usr/local/lib/python3.5/dist-packages/pymc3/distributions/transforms.py\u001b[0m in \u001b[0;36mapply\u001b[0;34m(self, dist)\u001b[0m\n\u001b[1;32m     36\u001b[0m     \u001b[0;32mdef\u001b[0m \u001b[0mapply\u001b[0m\u001b[0;34m(\u001b[0m\u001b[0mself\u001b[0m\u001b[0;34m,\u001b[0m \u001b[0mdist\u001b[0m\u001b[0;34m)\u001b[0m\u001b[0;34m:\u001b[0m\u001b[0;34m\u001b[0m\u001b[0m\n\u001b[1;32m     37\u001b[0m         \u001b[0;31m# avoid circular import\u001b[0m\u001b[0;34m\u001b[0m\u001b[0;34m\u001b[0m\u001b[0m\n\u001b[0;32m---> 38\u001b[0;31m         \u001b[0;32mreturn\u001b[0m \u001b[0mTransformedDistribution\u001b[0m\u001b[0;34m.\u001b[0m\u001b[0mdist\u001b[0m\u001b[0;34m(\u001b[0m\u001b[0mdist\u001b[0m\u001b[0;34m,\u001b[0m \u001b[0mself\u001b[0m\u001b[0;34m)\u001b[0m\u001b[0;34m\u001b[0m\u001b[0m\n\u001b[0m\u001b[1;32m     39\u001b[0m \u001b[0;34m\u001b[0m\u001b[0m\n\u001b[1;32m     40\u001b[0m     \u001b[0;32mdef\u001b[0m \u001b[0m__str__\u001b[0m\u001b[0;34m(\u001b[0m\u001b[0mself\u001b[0m\u001b[0;34m)\u001b[0m\u001b[0;34m:\u001b[0m\u001b[0;34m\u001b[0m\u001b[0m\n",
      "\u001b[0;32m/usr/local/lib/python3.5/dist-packages/pymc3/distributions/distribution.py\u001b[0m in \u001b[0;36mdist\u001b[0;34m(cls, *args, **kwargs)\u001b[0m\n\u001b[1;32m     45\u001b[0m     \u001b[0;32mdef\u001b[0m \u001b[0mdist\u001b[0m\u001b[0;34m(\u001b[0m\u001b[0mcls\u001b[0m\u001b[0;34m,\u001b[0m \u001b[0;34m*\u001b[0m\u001b[0margs\u001b[0m\u001b[0;34m,\u001b[0m \u001b[0;34m**\u001b[0m\u001b[0mkwargs\u001b[0m\u001b[0;34m)\u001b[0m\u001b[0;34m:\u001b[0m\u001b[0;34m\u001b[0m\u001b[0m\n\u001b[1;32m     46\u001b[0m         \u001b[0mdist\u001b[0m \u001b[0;34m=\u001b[0m \u001b[0mobject\u001b[0m\u001b[0;34m.\u001b[0m\u001b[0m__new__\u001b[0m\u001b[0;34m(\u001b[0m\u001b[0mcls\u001b[0m\u001b[0;34m)\u001b[0m\u001b[0;34m\u001b[0m\u001b[0m\n\u001b[0;32m---> 47\u001b[0;31m         \u001b[0mdist\u001b[0m\u001b[0;34m.\u001b[0m\u001b[0m__init__\u001b[0m\u001b[0;34m(\u001b[0m\u001b[0;34m*\u001b[0m\u001b[0margs\u001b[0m\u001b[0;34m,\u001b[0m \u001b[0;34m**\u001b[0m\u001b[0mkwargs\u001b[0m\u001b[0;34m)\u001b[0m\u001b[0;34m\u001b[0m\u001b[0m\n\u001b[0m\u001b[1;32m     48\u001b[0m         \u001b[0;32mreturn\u001b[0m \u001b[0mdist\u001b[0m\u001b[0;34m\u001b[0m\u001b[0m\n\u001b[1;32m     49\u001b[0m \u001b[0;34m\u001b[0m\u001b[0m\n",
      "\u001b[0;32m/usr/local/lib/python3.5/dist-packages/pymc3/distributions/transforms.py\u001b[0m in \u001b[0;36m__init__\u001b[0;34m(self, dist, transform, *args, **kwargs)\u001b[0m\n\u001b[1;32m     66\u001b[0m         \u001b[0mself\u001b[0m\u001b[0;34m.\u001b[0m\u001b[0mdist\u001b[0m \u001b[0;34m=\u001b[0m \u001b[0mdist\u001b[0m\u001b[0;34m\u001b[0m\u001b[0m\n\u001b[1;32m     67\u001b[0m         \u001b[0mself\u001b[0m\u001b[0;34m.\u001b[0m\u001b[0mtransform_used\u001b[0m \u001b[0;34m=\u001b[0m \u001b[0mtransform\u001b[0m\u001b[0;34m\u001b[0m\u001b[0m\n\u001b[0;32m---> 68\u001b[0;31m         \u001b[0mv\u001b[0m \u001b[0;34m=\u001b[0m \u001b[0mforward\u001b[0m\u001b[0;34m(\u001b[0m\u001b[0mFreeRV\u001b[0m\u001b[0;34m(\u001b[0m\u001b[0mname\u001b[0m\u001b[0;34m=\u001b[0m\u001b[0;34m'v'\u001b[0m\u001b[0;34m,\u001b[0m \u001b[0mdistribution\u001b[0m\u001b[0;34m=\u001b[0m\u001b[0mdist\u001b[0m\u001b[0;34m)\u001b[0m\u001b[0;34m)\u001b[0m\u001b[0;34m\u001b[0m\u001b[0m\n\u001b[0m\u001b[1;32m     69\u001b[0m         \u001b[0mself\u001b[0m\u001b[0;34m.\u001b[0m\u001b[0mtype\u001b[0m \u001b[0;34m=\u001b[0m \u001b[0mv\u001b[0m\u001b[0;34m.\u001b[0m\u001b[0mtype\u001b[0m\u001b[0;34m\u001b[0m\u001b[0m\n\u001b[1;32m     70\u001b[0m \u001b[0;34m\u001b[0m\u001b[0m\n",
      "\u001b[0;32m/usr/local/lib/python3.5/dist-packages/pymc3/model.py\u001b[0m in \u001b[0;36m__init__\u001b[0;34m(self, type, owner, index, name, distribution, total_size, model)\u001b[0m\n\u001b[1;32m   1121\u001b[0m             self.tag.test_value = np.ones(\n\u001b[1;32m   1122\u001b[0m                 distribution.shape, distribution.dtype) * distribution.default()\n\u001b[0;32m-> 1123\u001b[0;31m             \u001b[0mself\u001b[0m\u001b[0;34m.\u001b[0m\u001b[0mlogp_elemwiset\u001b[0m \u001b[0;34m=\u001b[0m \u001b[0mdistribution\u001b[0m\u001b[0;34m.\u001b[0m\u001b[0mlogp\u001b[0m\u001b[0;34m(\u001b[0m\u001b[0mself\u001b[0m\u001b[0;34m)\u001b[0m\u001b[0;34m\u001b[0m\u001b[0m\n\u001b[0m\u001b[1;32m   1124\u001b[0m             \u001b[0;31m# The logp might need scaling in minibatches.\u001b[0m\u001b[0;34m\u001b[0m\u001b[0;34m\u001b[0m\u001b[0m\n\u001b[1;32m   1125\u001b[0m             \u001b[0;31m# This is done in `Factor`.\u001b[0m\u001b[0;34m\u001b[0m\u001b[0;34m\u001b[0m\u001b[0m\n",
      "\u001b[0;32m/usr/local/lib/python3.5/dist-packages/pymc3/distributions/continuous.py\u001b[0m in \u001b[0;36mlogp\u001b[0;34m(self, value)\u001b[0m\n\u001b[1;32m   1299\u001b[0m         return bound(\n\u001b[1;32m   1300\u001b[0m             -gammaln(alpha) + logpow(\n\u001b[0;32m-> 1301\u001b[0;31m                 beta, alpha) - beta * value + logpow(value, alpha - 1),\n\u001b[0m\u001b[1;32m   1302\u001b[0m             \u001b[0mvalue\u001b[0m \u001b[0;34m>=\u001b[0m \u001b[0;36m0\u001b[0m\u001b[0;34m,\u001b[0m\u001b[0;34m\u001b[0m\u001b[0m\n\u001b[1;32m   1303\u001b[0m             \u001b[0malpha\u001b[0m \u001b[0;34m>\u001b[0m \u001b[0;36m0\u001b[0m\u001b[0;34m,\u001b[0m\u001b[0;34m\u001b[0m\u001b[0m\n",
      "\u001b[0;32m/usr/local/lib/python3.5/dist-packages/pymc3/distributions/dist_math.py\u001b[0m in \u001b[0;36mlogpow\u001b[0;34m(x, m)\u001b[0m\n\u001b[1;32m     63\u001b[0m     \"\"\"\n\u001b[1;32m     64\u001b[0m     \u001b[0;31m# return m * log(x)\u001b[0m\u001b[0;34m\u001b[0m\u001b[0;34m\u001b[0m\u001b[0m\n\u001b[0;32m---> 65\u001b[0;31m     \u001b[0;32mreturn\u001b[0m \u001b[0mtt\u001b[0m\u001b[0;34m.\u001b[0m\u001b[0mswitch\u001b[0m\u001b[0;34m(\u001b[0m\u001b[0mtt\u001b[0m\u001b[0;34m.\u001b[0m\u001b[0meq\u001b[0m\u001b[0;34m(\u001b[0m\u001b[0mx\u001b[0m\u001b[0;34m,\u001b[0m \u001b[0;36m0\u001b[0m\u001b[0;34m)\u001b[0m\u001b[0;34m,\u001b[0m \u001b[0;34m-\u001b[0m\u001b[0mnp\u001b[0m\u001b[0;34m.\u001b[0m\u001b[0minf\u001b[0m\u001b[0;34m,\u001b[0m \u001b[0mm\u001b[0m \u001b[0;34m*\u001b[0m \u001b[0mtt\u001b[0m\u001b[0;34m.\u001b[0m\u001b[0mlog\u001b[0m\u001b[0;34m(\u001b[0m\u001b[0mx\u001b[0m\u001b[0;34m)\u001b[0m\u001b[0;34m)\u001b[0m\u001b[0;34m\u001b[0m\u001b[0m\n\u001b[0m\u001b[1;32m     66\u001b[0m \u001b[0;34m\u001b[0m\u001b[0m\n\u001b[1;32m     67\u001b[0m \u001b[0;34m\u001b[0m\u001b[0m\n",
      "\u001b[0;32m/usr/local/lib/python3.5/dist-packages/theano/tensor/var.py\u001b[0m in \u001b[0;36m__mul__\u001b[0;34m(self, other)\u001b[0m\n\u001b[1;32m    153\u001b[0m         \u001b[0;31m# and the return value in that case\u001b[0m\u001b[0;34m\u001b[0m\u001b[0;34m\u001b[0m\u001b[0m\n\u001b[1;32m    154\u001b[0m         \u001b[0;32mtry\u001b[0m\u001b[0;34m:\u001b[0m\u001b[0;34m\u001b[0m\u001b[0m\n\u001b[0;32m--> 155\u001b[0;31m             \u001b[0;32mreturn\u001b[0m \u001b[0mtheano\u001b[0m\u001b[0;34m.\u001b[0m\u001b[0mtensor\u001b[0m\u001b[0;34m.\u001b[0m\u001b[0mmul\u001b[0m\u001b[0;34m(\u001b[0m\u001b[0mself\u001b[0m\u001b[0;34m,\u001b[0m \u001b[0mother\u001b[0m\u001b[0;34m)\u001b[0m\u001b[0;34m\u001b[0m\u001b[0m\n\u001b[0m\u001b[1;32m    156\u001b[0m         \u001b[0;32mexcept\u001b[0m \u001b[0;34m(\u001b[0m\u001b[0mNotImplementedError\u001b[0m\u001b[0;34m,\u001b[0m \u001b[0mAsTensorError\u001b[0m\u001b[0;34m)\u001b[0m\u001b[0;34m:\u001b[0m\u001b[0;34m\u001b[0m\u001b[0m\n\u001b[1;32m    157\u001b[0m             \u001b[0;32mreturn\u001b[0m \u001b[0mNotImplemented\u001b[0m\u001b[0;34m\u001b[0m\u001b[0m\n",
      "\u001b[0;32m/usr/local/lib/python3.5/dist-packages/theano/gof/op.py\u001b[0m in \u001b[0;36m__call__\u001b[0;34m(self, *inputs, **kwargs)\u001b[0m\n\u001b[1;32m    668\u001b[0m                 \u001b[0;31m# compute output value once with test inputs to validate graph\u001b[0m\u001b[0;34m\u001b[0m\u001b[0;34m\u001b[0m\u001b[0m\n\u001b[1;32m    669\u001b[0m                 thunk = node.op.make_thunk(node, storage_map, compute_map,\n\u001b[0;32m--> 670\u001b[0;31m                                            no_recycling=[])\n\u001b[0m\u001b[1;32m    671\u001b[0m                 \u001b[0mthunk\u001b[0m\u001b[0;34m.\u001b[0m\u001b[0minputs\u001b[0m \u001b[0;34m=\u001b[0m \u001b[0;34m[\u001b[0m\u001b[0mstorage_map\u001b[0m\u001b[0;34m[\u001b[0m\u001b[0mv\u001b[0m\u001b[0;34m]\u001b[0m \u001b[0;32mfor\u001b[0m \u001b[0mv\u001b[0m \u001b[0;32min\u001b[0m \u001b[0mnode\u001b[0m\u001b[0;34m.\u001b[0m\u001b[0minputs\u001b[0m\u001b[0;34m]\u001b[0m\u001b[0;34m\u001b[0m\u001b[0m\n\u001b[1;32m    672\u001b[0m                 \u001b[0mthunk\u001b[0m\u001b[0;34m.\u001b[0m\u001b[0moutputs\u001b[0m \u001b[0;34m=\u001b[0m \u001b[0;34m[\u001b[0m\u001b[0mstorage_map\u001b[0m\u001b[0;34m[\u001b[0m\u001b[0mv\u001b[0m\u001b[0;34m]\u001b[0m \u001b[0;32mfor\u001b[0m \u001b[0mv\u001b[0m \u001b[0;32min\u001b[0m \u001b[0mnode\u001b[0m\u001b[0;34m.\u001b[0m\u001b[0moutputs\u001b[0m\u001b[0;34m]\u001b[0m\u001b[0;34m\u001b[0m\u001b[0m\n",
      "\u001b[0;32m/usr/local/lib/python3.5/dist-packages/theano/gof/op.py\u001b[0m in \u001b[0;36mmake_thunk\u001b[0;34m(self, node, storage_map, compute_map, no_recycling, impl)\u001b[0m\n\u001b[1;32m    953\u001b[0m             \u001b[0;32mtry\u001b[0m\u001b[0;34m:\u001b[0m\u001b[0;34m\u001b[0m\u001b[0m\n\u001b[1;32m    954\u001b[0m                 return self.make_c_thunk(node, storage_map, compute_map,\n\u001b[0;32m--> 955\u001b[0;31m                                          no_recycling)\n\u001b[0m\u001b[1;32m    956\u001b[0m             \u001b[0;32mexcept\u001b[0m \u001b[0;34m(\u001b[0m\u001b[0mNotImplementedError\u001b[0m\u001b[0;34m,\u001b[0m \u001b[0mutils\u001b[0m\u001b[0;34m.\u001b[0m\u001b[0mMethodNotDefined\u001b[0m\u001b[0;34m)\u001b[0m\u001b[0;34m:\u001b[0m\u001b[0;34m\u001b[0m\u001b[0m\n\u001b[1;32m    957\u001b[0m                 \u001b[0;31m# We requested the c code, so don't catch the error.\u001b[0m\u001b[0;34m\u001b[0m\u001b[0;34m\u001b[0m\u001b[0m\n",
      "\u001b[0;32m/usr/local/lib/python3.5/dist-packages/theano/gof/op.py\u001b[0m in \u001b[0;36mmake_c_thunk\u001b[0;34m(self, node, storage_map, compute_map, no_recycling)\u001b[0m\n\u001b[1;32m    856\u001b[0m         \u001b[0m_logger\u001b[0m\u001b[0;34m.\u001b[0m\u001b[0mdebug\u001b[0m\u001b[0;34m(\u001b[0m\u001b[0;34m'Trying CLinker.make_thunk'\u001b[0m\u001b[0;34m)\u001b[0m\u001b[0;34m\u001b[0m\u001b[0m\n\u001b[1;32m    857\u001b[0m         outputs = cl.make_thunk(input_storage=node_input_storage,\n\u001b[0;32m--> 858\u001b[0;31m                                 output_storage=node_output_storage)\n\u001b[0m\u001b[1;32m    859\u001b[0m         \u001b[0mthunk\u001b[0m\u001b[0;34m,\u001b[0m \u001b[0mnode_input_filters\u001b[0m\u001b[0;34m,\u001b[0m \u001b[0mnode_output_filters\u001b[0m \u001b[0;34m=\u001b[0m \u001b[0moutputs\u001b[0m\u001b[0;34m\u001b[0m\u001b[0m\n\u001b[1;32m    860\u001b[0m \u001b[0;34m\u001b[0m\u001b[0m\n",
      "\u001b[0;32m/usr/local/lib/python3.5/dist-packages/theano/gof/cc.py\u001b[0m in \u001b[0;36mmake_thunk\u001b[0;34m(self, input_storage, output_storage, storage_map, keep_lock)\u001b[0m\n\u001b[1;32m   1215\u001b[0m         cthunk, module, in_storage, out_storage, error_storage = self.__compile__(\n\u001b[1;32m   1216\u001b[0m             \u001b[0minput_storage\u001b[0m\u001b[0;34m,\u001b[0m \u001b[0moutput_storage\u001b[0m\u001b[0;34m,\u001b[0m \u001b[0mstorage_map\u001b[0m\u001b[0;34m,\u001b[0m\u001b[0;34m\u001b[0m\u001b[0m\n\u001b[0;32m-> 1217\u001b[0;31m             keep_lock=keep_lock)\n\u001b[0m\u001b[1;32m   1218\u001b[0m \u001b[0;34m\u001b[0m\u001b[0m\n\u001b[1;32m   1219\u001b[0m         \u001b[0mres\u001b[0m \u001b[0;34m=\u001b[0m \u001b[0m_CThunk\u001b[0m\u001b[0;34m(\u001b[0m\u001b[0mcthunk\u001b[0m\u001b[0;34m,\u001b[0m \u001b[0minit_tasks\u001b[0m\u001b[0;34m,\u001b[0m \u001b[0mtasks\u001b[0m\u001b[0;34m,\u001b[0m \u001b[0merror_storage\u001b[0m\u001b[0;34m,\u001b[0m \u001b[0mmodule\u001b[0m\u001b[0;34m)\u001b[0m\u001b[0;34m\u001b[0m\u001b[0m\n",
      "\u001b[0;32m/usr/local/lib/python3.5/dist-packages/theano/gof/cc.py\u001b[0m in \u001b[0;36m__compile__\u001b[0;34m(self, input_storage, output_storage, storage_map, keep_lock)\u001b[0m\n\u001b[1;32m   1155\u001b[0m                                             \u001b[0moutput_storage\u001b[0m\u001b[0;34m,\u001b[0m\u001b[0;34m\u001b[0m\u001b[0m\n\u001b[1;32m   1156\u001b[0m                                             \u001b[0mstorage_map\u001b[0m\u001b[0;34m,\u001b[0m\u001b[0;34m\u001b[0m\u001b[0m\n\u001b[0;32m-> 1157\u001b[0;31m                                             keep_lock=keep_lock)\n\u001b[0m\u001b[1;32m   1158\u001b[0m         return (thunk,\n\u001b[1;32m   1159\u001b[0m                 \u001b[0mmodule\u001b[0m\u001b[0;34m,\u001b[0m\u001b[0;34m\u001b[0m\u001b[0m\n",
      "\u001b[0;32m/usr/local/lib/python3.5/dist-packages/theano/gof/cc.py\u001b[0m in \u001b[0;36mcthunk_factory\u001b[0;34m(self, error_storage, in_storage, out_storage, storage_map, keep_lock)\u001b[0m\n\u001b[1;32m   1618\u001b[0m                 \u001b[0mnode\u001b[0m\u001b[0;34m.\u001b[0m\u001b[0mop\u001b[0m\u001b[0;34m.\u001b[0m\u001b[0mprepare_node\u001b[0m\u001b[0;34m(\u001b[0m\u001b[0mnode\u001b[0m\u001b[0;34m,\u001b[0m \u001b[0mstorage_map\u001b[0m\u001b[0;34m,\u001b[0m \u001b[0;32mNone\u001b[0m\u001b[0;34m,\u001b[0m \u001b[0;34m'c'\u001b[0m\u001b[0;34m)\u001b[0m\u001b[0;34m\u001b[0m\u001b[0m\n\u001b[1;32m   1619\u001b[0m             module = get_module_cache().module_from_key(\n\u001b[0;32m-> 1620\u001b[0;31m                 key=key, lnk=self, keep_lock=keep_lock)\n\u001b[0m\u001b[1;32m   1621\u001b[0m \u001b[0;34m\u001b[0m\u001b[0m\n\u001b[1;32m   1622\u001b[0m         \u001b[0mvars\u001b[0m \u001b[0;34m=\u001b[0m \u001b[0mself\u001b[0m\u001b[0;34m.\u001b[0m\u001b[0minputs\u001b[0m \u001b[0;34m+\u001b[0m \u001b[0mself\u001b[0m\u001b[0;34m.\u001b[0m\u001b[0moutputs\u001b[0m \u001b[0;34m+\u001b[0m \u001b[0mself\u001b[0m\u001b[0;34m.\u001b[0m\u001b[0morphans\u001b[0m\u001b[0;34m\u001b[0m\u001b[0m\n",
      "\u001b[0;32m/usr/local/lib/python3.5/dist-packages/theano/gof/cmodule.py\u001b[0m in \u001b[0;36mmodule_from_key\u001b[0;34m(self, key, lnk, keep_lock)\u001b[0m\n\u001b[1;32m   1131\u001b[0m         \"\"\"\n\u001b[1;32m   1132\u001b[0m         \u001b[0;31m# Is the module in the cache?\u001b[0m\u001b[0;34m\u001b[0m\u001b[0;34m\u001b[0m\u001b[0m\n\u001b[0;32m-> 1133\u001b[0;31m         \u001b[0mmodule\u001b[0m \u001b[0;34m=\u001b[0m \u001b[0mself\u001b[0m\u001b[0;34m.\u001b[0m\u001b[0m_get_from_key\u001b[0m\u001b[0;34m(\u001b[0m\u001b[0mkey\u001b[0m\u001b[0;34m)\u001b[0m\u001b[0;34m\u001b[0m\u001b[0m\n\u001b[0m\u001b[1;32m   1134\u001b[0m         \u001b[0;32mif\u001b[0m \u001b[0mmodule\u001b[0m \u001b[0;32mis\u001b[0m \u001b[0;32mnot\u001b[0m \u001b[0;32mNone\u001b[0m\u001b[0;34m:\u001b[0m\u001b[0;34m\u001b[0m\u001b[0m\n\u001b[1;32m   1135\u001b[0m             \u001b[0;32mreturn\u001b[0m \u001b[0mmodule\u001b[0m\u001b[0;34m\u001b[0m\u001b[0m\n",
      "\u001b[0;32m/usr/local/lib/python3.5/dist-packages/theano/gof/cmodule.py\u001b[0m in \u001b[0;36m_get_from_key\u001b[0;34m(self, key, key_data)\u001b[0m\n\u001b[1;32m   1030\u001b[0m         \u001b[0;32mif\u001b[0m \u001b[0mname\u001b[0m \u001b[0;32mis\u001b[0m \u001b[0;32mNone\u001b[0m\u001b[0;34m:\u001b[0m\u001b[0;34m\u001b[0m\u001b[0m\n\u001b[1;32m   1031\u001b[0m             \u001b[0;32mreturn\u001b[0m \u001b[0;32mNone\u001b[0m\u001b[0;34m\u001b[0m\u001b[0m\n\u001b[0;32m-> 1032\u001b[0;31m         \u001b[0;32mreturn\u001b[0m \u001b[0mself\u001b[0m\u001b[0;34m.\u001b[0m\u001b[0m_get_module\u001b[0m\u001b[0;34m(\u001b[0m\u001b[0mname\u001b[0m\u001b[0;34m)\u001b[0m\u001b[0;34m\u001b[0m\u001b[0m\n\u001b[0m\u001b[1;32m   1033\u001b[0m \u001b[0;34m\u001b[0m\u001b[0m\n\u001b[1;32m   1034\u001b[0m     \u001b[0;32mdef\u001b[0m \u001b[0m_get_from_hash\u001b[0m\u001b[0;34m(\u001b[0m\u001b[0mself\u001b[0m\u001b[0;34m,\u001b[0m \u001b[0mmodule_hash\u001b[0m\u001b[0;34m,\u001b[0m \u001b[0mkey\u001b[0m\u001b[0;34m,\u001b[0m \u001b[0mkeep_lock\u001b[0m\u001b[0;34m=\u001b[0m\u001b[0;32mFalse\u001b[0m\u001b[0;34m)\u001b[0m\u001b[0;34m:\u001b[0m\u001b[0;34m\u001b[0m\u001b[0m\n",
      "\u001b[0;32m/usr/local/lib/python3.5/dist-packages/theano/gof/cmodule.py\u001b[0m in \u001b[0;36m_get_module\u001b[0;34m(self, name)\u001b[0m\n\u001b[1;32m    703\u001b[0m         \u001b[0;32mif\u001b[0m \u001b[0mname\u001b[0m \u001b[0;32mnot\u001b[0m \u001b[0;32min\u001b[0m \u001b[0mself\u001b[0m\u001b[0;34m.\u001b[0m\u001b[0mmodule_from_name\u001b[0m\u001b[0;34m:\u001b[0m\u001b[0;34m\u001b[0m\u001b[0m\n\u001b[1;32m    704\u001b[0m             \u001b[0m_logger\u001b[0m\u001b[0;34m.\u001b[0m\u001b[0mdebug\u001b[0m\u001b[0;34m(\u001b[0m\u001b[0;34m'loading name %s'\u001b[0m\u001b[0;34m,\u001b[0m \u001b[0mname\u001b[0m\u001b[0;34m)\u001b[0m\u001b[0;34m\u001b[0m\u001b[0m\n\u001b[0;32m--> 705\u001b[0;31m             \u001b[0mself\u001b[0m\u001b[0;34m.\u001b[0m\u001b[0mmodule_from_name\u001b[0m\u001b[0;34m[\u001b[0m\u001b[0mname\u001b[0m\u001b[0;34m]\u001b[0m \u001b[0;34m=\u001b[0m \u001b[0mdlimport\u001b[0m\u001b[0;34m(\u001b[0m\u001b[0mname\u001b[0m\u001b[0;34m)\u001b[0m\u001b[0;34m\u001b[0m\u001b[0m\n\u001b[0m\u001b[1;32m    706\u001b[0m             \u001b[0mself\u001b[0m\u001b[0;34m.\u001b[0m\u001b[0mstats\u001b[0m\u001b[0;34m[\u001b[0m\u001b[0;36m1\u001b[0m\u001b[0;34m]\u001b[0m \u001b[0;34m+=\u001b[0m \u001b[0;36m1\u001b[0m\u001b[0;34m\u001b[0m\u001b[0m\n\u001b[1;32m    707\u001b[0m         \u001b[0;32melse\u001b[0m\u001b[0;34m:\u001b[0m\u001b[0;34m\u001b[0m\u001b[0m\n",
      "\u001b[0;32m/usr/local/lib/python3.5/dist-packages/theano/gof/cmodule.py\u001b[0m in \u001b[0;36mdlimport\u001b[0;34m(fullpath, suffix)\u001b[0m\n\u001b[1;32m    300\u001b[0m             warnings.filterwarnings(\"ignore\",\n\u001b[1;32m    301\u001b[0m                                     message=\"numpy.ndarray size changed\")\n\u001b[0;32m--> 302\u001b[0;31m             \u001b[0mrval\u001b[0m \u001b[0;34m=\u001b[0m \u001b[0m__import__\u001b[0m\u001b[0;34m(\u001b[0m\u001b[0mmodule_name\u001b[0m\u001b[0;34m,\u001b[0m \u001b[0;34m{\u001b[0m\u001b[0;34m}\u001b[0m\u001b[0;34m,\u001b[0m \u001b[0;34m{\u001b[0m\u001b[0;34m}\u001b[0m\u001b[0;34m,\u001b[0m \u001b[0;34m[\u001b[0m\u001b[0mmodule_name\u001b[0m\u001b[0;34m]\u001b[0m\u001b[0;34m)\u001b[0m\u001b[0;34m\u001b[0m\u001b[0m\n\u001b[0m\u001b[1;32m    303\u001b[0m         \u001b[0mt1\u001b[0m \u001b[0;34m=\u001b[0m \u001b[0mtime\u001b[0m\u001b[0;34m.\u001b[0m\u001b[0mtime\u001b[0m\u001b[0;34m(\u001b[0m\u001b[0;34m)\u001b[0m\u001b[0;34m\u001b[0m\u001b[0m\n\u001b[1;32m    304\u001b[0m         \u001b[0mimport_time\u001b[0m \u001b[0;34m+=\u001b[0m \u001b[0mt1\u001b[0m \u001b[0;34m-\u001b[0m \u001b[0mt0\u001b[0m\u001b[0;34m\u001b[0m\u001b[0m\n",
      "\u001b[0;32m/usr/lib/python3.5/importlib/_bootstrap.py\u001b[0m in \u001b[0;36m_find_and_load\u001b[0;34m(name, import_)\u001b[0m\n",
      "\u001b[0;32m/usr/lib/python3.5/importlib/_bootstrap.py\u001b[0m in \u001b[0;36m_find_and_load_unlocked\u001b[0;34m(name, import_)\u001b[0m\n",
      "\u001b[0;32m/usr/lib/python3.5/importlib/_bootstrap.py\u001b[0m in \u001b[0;36m_find_spec\u001b[0;34m(name, path, target)\u001b[0m\n",
      "\u001b[0;32m/usr/lib/python3.5/importlib/_bootstrap_external.py\u001b[0m in \u001b[0;36mfind_spec\u001b[0;34m(cls, fullname, path, target)\u001b[0m\n",
      "\u001b[0;32m/usr/lib/python3.5/importlib/_bootstrap_external.py\u001b[0m in \u001b[0;36m_get_spec\u001b[0;34m(cls, fullname, path, target)\u001b[0m\n",
      "\u001b[0;32m/usr/lib/python3.5/importlib/_bootstrap_external.py\u001b[0m in \u001b[0;36mfind_spec\u001b[0;34m(self, fullname, target)\u001b[0m\n",
      "\u001b[0;32m/usr/lib/python3.5/importlib/_bootstrap_external.py\u001b[0m in \u001b[0;36m_path_isfile\u001b[0;34m(path)\u001b[0m\n",
      "\u001b[0;32m/usr/lib/python3.5/importlib/_bootstrap_external.py\u001b[0m in \u001b[0;36m_path_is_mode_type\u001b[0;34m(path, mode)\u001b[0m\n",
      "\u001b[0;31mKeyboardInterrupt\u001b[0m: "
     ]
    }
   ],
   "source": [
    "C = 100\n",
    "beta_true = np.array([0.15, -25])\n",
    "size_data_list = [1000]\n",
    "\n",
    "beta0_prior_list = [['Uniform', 0., 1.], ['Uniform', -1., 1.], ['Gamma', 1, 10], ['Gamma', 3, 10], ['Gamma', 1, 4], \n",
    "                    ['Normal', 0.15, 5], ['Normal', 0.1, 5]]\n",
    "beta1_prior_list = [['Normal', -25., 5.]]#[['Uniform', -60., 0.], ['Uniform', -30., -20.], ['Uniform', -40., -20.], ['Gaussian', -25., 10]]\n",
    "alpha_prior_list = [['Constant', 1.]]\n",
    "\n",
    "n_samples = 40000\n",
    "burn = 10000\n",
    "n_iter = 2\n",
    "\n",
    "params = run_several_expo(n_iter, beta_true, size_data_list, C, beta0_prior_list,\n",
    "                     beta1_prior_list, alpha_prior_list, n_samples, burn, plot=True, thin=20)"
   ]
  },
  {
   "cell_type": "code",
   "execution_count": null,
   "metadata": {},
   "outputs": [],
   "source": []
  },
  {
   "cell_type": "code",
   "execution_count": null,
   "metadata": {},
   "outputs": [],
   "source": [
    "params['alpha_prior'] = params['alpha_prior'].astype(str)\n",
    "params['beta0_prior'] = params['beta0_prior'].astype(str)\n",
    "params['beta1_prior'] = params['beta1_prior'].astype(str)"
   ]
  },
  {
   "cell_type": "code",
   "execution_count": null,
   "metadata": {},
   "outputs": [],
   "source": [
    "# Impact taille de la BDD\n",
    "params.groupby(['N'], as_index=False)[['beta0_MQP', 'beta1_MQP']].mean()"
   ]
  },
  {
   "cell_type": "code",
   "execution_count": null,
   "metadata": {},
   "outputs": [],
   "source": []
  },
  {
   "cell_type": "code",
   "execution_count": null,
   "metadata": {},
   "outputs": [],
   "source": [
    "# Impact des prior beta\n",
    "params.groupby(['beta0_prior', 'beta1_prior'], as_index=False)[['beta0_MQP', 'beta1_MQP']].mean()"
   ]
  },
  {
   "cell_type": "code",
   "execution_count": null,
   "metadata": {},
   "outputs": [],
   "source": []
  }
 ],
 "metadata": {
  "kernelspec": {
   "display_name": "Python 3",
   "language": "python",
   "name": "python3"
  },
  "language_info": {
   "codemirror_mode": {
    "name": "ipython",
    "version": 3
   },
   "file_extension": ".py",
   "mimetype": "text/x-python",
   "name": "python",
   "nbconvert_exporter": "python",
   "pygments_lexer": "ipython3",
   "version": "3.5.2"
  }
 },
 "nbformat": 4,
 "nbformat_minor": 2
}
