{
 "cells": [
  {
   "cell_type": "code",
   "execution_count": 1,
   "metadata": {},
   "outputs": [
    {
     "name": "stdout",
     "output_type": "stream",
     "text": [
      "Once deleted, variables cannot be recovered. Proceed (y/[n])? y\n"
     ]
    }
   ],
   "source": [
    "%reset"
   ]
  },
  {
   "cell_type": "code",
   "execution_count": 2,
   "metadata": {
    "scrolled": true
   },
   "outputs": [],
   "source": [
    "from exponential_model import *"
   ]
  },
  {
   "cell_type": "markdown",
   "metadata": {},
   "source": [
    "# Influence de Alpha"
   ]
  },
  {
   "cell_type": "code",
   "execution_count": 4,
   "metadata": {
    "scrolled": true
   },
   "outputs": [
    {
     "name": "stderr",
     "output_type": "stream",
     "text": [
      "100%|██████████| 20500/20500 [00:09<00:00, 2245.62it/s]\n"
     ]
    },
    {
     "name": "stdout",
     "output_type": "stream",
     "text": [
      "beta0 mean a quasi posteriori :  0.151728703826\n",
      "beta1 mean a quasi posteriori :  -24.7455133562\n"
     ]
    },
    {
     "name": "stderr",
     "output_type": "stream",
     "text": [
      "100%|██████████| 20500/20500 [00:07<00:00, 2613.82it/s]\n"
     ]
    },
    {
     "name": "stdout",
     "output_type": "stream",
     "text": [
      "beta0 mean a quasi posteriori :  0.152055812776\n",
      "beta1 mean a quasi posteriori :  -24.7794438818\n"
     ]
    },
    {
     "name": "stderr",
     "output_type": "stream",
     "text": [
      "100%|██████████| 20500/20500 [00:07<00:00, 2656.75it/s]\n"
     ]
    },
    {
     "name": "stdout",
     "output_type": "stream",
     "text": [
      "beta0 mean a quasi posteriori :  0.151704924098\n",
      "beta1 mean a quasi posteriori :  -24.7452687953\n"
     ]
    },
    {
     "name": "stderr",
     "output_type": "stream",
     "text": [
      "100%|██████████| 20500/20500 [00:07<00:00, 2693.02it/s]\n"
     ]
    },
    {
     "name": "stdout",
     "output_type": "stream",
     "text": [
      "beta0 mean a quasi posteriori :  0.151663207565\n",
      "beta1 mean a quasi posteriori :  -24.7385448138\n"
     ]
    }
   ],
   "source": [
    "C = 100\n",
    "beta_true = np.array([0.15, -25])\n",
    "size_data_list = [1000]\n",
    "\n",
    "beta0_prior_list = [['Gamma', 1., 10.]] #[['Uniform', 0., 1.], ['Uniform', -1., 1.], ['Gamma', 1, 10]]\n",
    "beta1_prior_list = [['Normal', -25., 5.]]#[['Uniform', -60., 0.], ['Uniform', -30., -20.], ['Uniform', -40., -20.], ['Gaussian', -25., 10]]\n",
    "alpha_prior_list = [['Constant', 100.]]#[['Constant', 0.01], ['Uniform', 0., 0.1], ['Constant', 1.], ['Constant', 10.],\n",
    "                    \n",
    "\n",
    "n_samples = 20000\n",
    "burn = 10000\n",
    "n_iter = 4\n",
    "\n",
    "params = run_several_expo(n_iter, beta_true, size_data_list, C, beta0_prior_list,\n",
    "                     beta1_prior_list, alpha_prior_list, n_samples, burn, plot=True, thin=20)"
   ]
  },
  {
   "cell_type": "code",
   "execution_count": 5,
   "metadata": {},
   "outputs": [],
   "source": [
    "params['alpha_prior'] = params['alpha_prior'].astype(str)\n",
    "params['beta0_prior'] = params['beta0_prior'].astype(str)\n",
    "params['beta1_prior'] = params['beta1_prior'].astype(str)"
   ]
  },
  {
   "cell_type": "code",
   "execution_count": 6,
   "metadata": {},
   "outputs": [
    {
     "data": {
      "text/html": [
       "<div>\n",
       "<style scoped>\n",
       "    .dataframe tbody tr th:only-of-type {\n",
       "        vertical-align: middle;\n",
       "    }\n",
       "\n",
       "    .dataframe tbody tr th {\n",
       "        vertical-align: top;\n",
       "    }\n",
       "\n",
       "    .dataframe thead th {\n",
       "        text-align: right;\n",
       "    }\n",
       "</style>\n",
       "<table border=\"1\" class=\"dataframe\">\n",
       "  <thead>\n",
       "    <tr style=\"text-align: right;\">\n",
       "      <th></th>\n",
       "      <th>N</th>\n",
       "      <th>alpha_prior</th>\n",
       "      <th>beta0_MQP</th>\n",
       "      <th>beta0_prior</th>\n",
       "      <th>beta1_MQP</th>\n",
       "      <th>beta1_prior</th>\n",
       "      <th>n_iter</th>\n",
       "    </tr>\n",
       "  </thead>\n",
       "  <tbody>\n",
       "    <tr>\n",
       "      <th>0</th>\n",
       "      <td>1000</td>\n",
       "      <td>['Constant', 100.0]</td>\n",
       "      <td>0.151729</td>\n",
       "      <td>['Gamma', 1.0, 10.0]</td>\n",
       "      <td>-24.745513</td>\n",
       "      <td>['Normal', -25.0, 5.0]</td>\n",
       "      <td>0</td>\n",
       "    </tr>\n",
       "    <tr>\n",
       "      <th>1</th>\n",
       "      <td>1000</td>\n",
       "      <td>['Constant', 100.0]</td>\n",
       "      <td>0.152056</td>\n",
       "      <td>['Gamma', 1.0, 10.0]</td>\n",
       "      <td>-24.779444</td>\n",
       "      <td>['Normal', -25.0, 5.0]</td>\n",
       "      <td>1</td>\n",
       "    </tr>\n",
       "    <tr>\n",
       "      <th>2</th>\n",
       "      <td>1000</td>\n",
       "      <td>['Constant', 100.0]</td>\n",
       "      <td>0.151705</td>\n",
       "      <td>['Gamma', 1.0, 10.0]</td>\n",
       "      <td>-24.745269</td>\n",
       "      <td>['Normal', -25.0, 5.0]</td>\n",
       "      <td>2</td>\n",
       "    </tr>\n",
       "    <tr>\n",
       "      <th>3</th>\n",
       "      <td>1000</td>\n",
       "      <td>['Constant', 100.0]</td>\n",
       "      <td>0.151663</td>\n",
       "      <td>['Gamma', 1.0, 10.0]</td>\n",
       "      <td>-24.738545</td>\n",
       "      <td>['Normal', -25.0, 5.0]</td>\n",
       "      <td>3</td>\n",
       "    </tr>\n",
       "  </tbody>\n",
       "</table>\n",
       "</div>"
      ],
      "text/plain": [
       "      N          alpha_prior  beta0_MQP           beta0_prior  beta1_MQP  \\\n",
       "0  1000  ['Constant', 100.0]   0.151729  ['Gamma', 1.0, 10.0] -24.745513   \n",
       "1  1000  ['Constant', 100.0]   0.152056  ['Gamma', 1.0, 10.0] -24.779444   \n",
       "2  1000  ['Constant', 100.0]   0.151705  ['Gamma', 1.0, 10.0] -24.745269   \n",
       "3  1000  ['Constant', 100.0]   0.151663  ['Gamma', 1.0, 10.0] -24.738545   \n",
       "\n",
       "              beta1_prior  n_iter  \n",
       "0  ['Normal', -25.0, 5.0]       0  \n",
       "1  ['Normal', -25.0, 5.0]       1  \n",
       "2  ['Normal', -25.0, 5.0]       2  \n",
       "3  ['Normal', -25.0, 5.0]       3  "
      ]
     },
     "execution_count": 6,
     "metadata": {},
     "output_type": "execute_result"
    }
   ],
   "source": [
    "params"
   ]
  },
  {
   "cell_type": "code",
   "execution_count": 7,
   "metadata": {},
   "outputs": [
    {
     "data": {
      "text/html": [
       "<div>\n",
       "<style scoped>\n",
       "    .dataframe tbody tr th:only-of-type {\n",
       "        vertical-align: middle;\n",
       "    }\n",
       "\n",
       "    .dataframe tbody tr th {\n",
       "        vertical-align: top;\n",
       "    }\n",
       "\n",
       "    .dataframe thead th {\n",
       "        text-align: right;\n",
       "    }\n",
       "</style>\n",
       "<table border=\"1\" class=\"dataframe\">\n",
       "  <thead>\n",
       "    <tr style=\"text-align: right;\">\n",
       "      <th></th>\n",
       "      <th>N</th>\n",
       "      <th>alpha_prior</th>\n",
       "      <th>beta0_prior</th>\n",
       "      <th>beta1_prior</th>\n",
       "      <th>beta0_MQP</th>\n",
       "      <th>beta1_MQP</th>\n",
       "      <th>n_iter</th>\n",
       "    </tr>\n",
       "  </thead>\n",
       "  <tbody>\n",
       "    <tr>\n",
       "      <th>0</th>\n",
       "      <td>1000</td>\n",
       "      <td>['Constant', 100.0]</td>\n",
       "      <td>['Gamma', 1.0, 10.0]</td>\n",
       "      <td>['Normal', -25.0, 5.0]</td>\n",
       "      <td>0.151788</td>\n",
       "      <td>-24.752193</td>\n",
       "      <td>1.5</td>\n",
       "    </tr>\n",
       "  </tbody>\n",
       "</table>\n",
       "</div>"
      ],
      "text/plain": [
       "      N          alpha_prior           beta0_prior             beta1_prior  \\\n",
       "0  1000  ['Constant', 100.0]  ['Gamma', 1.0, 10.0]  ['Normal', -25.0, 5.0]   \n",
       "\n",
       "   beta0_MQP  beta1_MQP  n_iter  \n",
       "0   0.151788 -24.752193     1.5  "
      ]
     },
     "execution_count": 7,
     "metadata": {},
     "output_type": "execute_result"
    }
   ],
   "source": [
    "params.groupby(['N', 'alpha_prior', 'beta0_prior', 'beta1_prior'], as_index=False).mean()"
   ]
  },
  {
   "cell_type": "code",
   "execution_count": 8,
   "metadata": {},
   "outputs": [
    {
     "data": {
      "text/html": [
       "<div>\n",
       "<style scoped>\n",
       "    .dataframe tbody tr th:only-of-type {\n",
       "        vertical-align: middle;\n",
       "    }\n",
       "\n",
       "    .dataframe tbody tr th {\n",
       "        vertical-align: top;\n",
       "    }\n",
       "\n",
       "    .dataframe thead th {\n",
       "        text-align: right;\n",
       "    }\n",
       "</style>\n",
       "<table border=\"1\" class=\"dataframe\">\n",
       "  <thead>\n",
       "    <tr style=\"text-align: right;\">\n",
       "      <th></th>\n",
       "      <th>alpha_prior</th>\n",
       "      <th>beta0_MQP</th>\n",
       "      <th>beta1_MQP</th>\n",
       "    </tr>\n",
       "  </thead>\n",
       "  <tbody>\n",
       "    <tr>\n",
       "      <th>0</th>\n",
       "      <td>['Constant', 100.0]</td>\n",
       "      <td>0.151788</td>\n",
       "      <td>-24.752193</td>\n",
       "    </tr>\n",
       "  </tbody>\n",
       "</table>\n",
       "</div>"
      ],
      "text/plain": [
       "           alpha_prior  beta0_MQP  beta1_MQP\n",
       "0  ['Constant', 100.0]   0.151788 -24.752193"
      ]
     },
     "execution_count": 8,
     "metadata": {},
     "output_type": "execute_result"
    }
   ],
   "source": [
    "# Impact de alpha\n",
    "params.groupby(['alpha_prior'], as_index=False)[['beta0_MQP', 'beta1_MQP']].mean()"
   ]
  },
  {
   "cell_type": "code",
   "execution_count": null,
   "metadata": {},
   "outputs": [],
   "source": [
    "C = 100\n",
    "beta_true = np.array([0.15, -25])\n",
    "size_data_list = [1000]\n",
    "\n",
    "beta0_prior_list = [['Gamma', 1., 10.]] #[['Uniform', 0., 1.], ['Uniform', -1., 1.], ['Gamma', 1, 10]]\n",
    "beta1_prior_list = [['Normal', -25., 5.]]#[['Uniform', -60., 0.], ['Uniform', -30., -20.], ['Uniform', -40., -20.], ['Gaussian', -25., 10]]\n",
    "alpha_prior_list = [['Constant', 0.01], ['Uniform', 0., 0.1], ['Constant', 1.], ['Constant', 10.]]\n",
    "                    \n",
    "\n",
    "n_samples = 20000\n",
    "burn = 10000\n",
    "n_iter = 4\n",
    "\n",
    "params = run_several_expo(n_iter, beta_true, size_data_list, C, beta0_prior_list,\n",
    "                     beta1_prior_list, alpha_prior_list, n_samples, burn, plot=True, thin=20)"
   ]
  },
  {
   "cell_type": "code",
   "execution_count": null,
   "metadata": {},
   "outputs": [],
   "source": [
    "params"
   ]
  },
  {
   "cell_type": "markdown",
   "metadata": {},
   "source": [
    "# Influence de N"
   ]
  },
  {
   "cell_type": "code",
   "execution_count": null,
   "metadata": {
    "scrolled": false
   },
   "outputs": [],
   "source": [
    "C = 100\n",
    "beta_true = np.array([0.15, -25])\n",
    "size_data_list = [5, 25, 50, 100, 250, 500]\n",
    "\n",
    "beta0_prior_list = [['Gamma', 1., 10.]] #[['Uniform', 0., 1.], ['Uniform', -1., 1.], ['Gamma', 1, 10]]\n",
    "beta1_prior_list = [['Normal', -25., 5.]]#[['Uniform', -60., 0.], ['Uniform', -30., -20.], ['Uniform', -40., -20.], ['Gaussian', -25., 10]]\n",
    "alpha_prior_list = [['Constant', 1.]]#[['Constant', 0.01], ['Uniform', 0., 0.1], ['Constant', 1.], ['Constant', 10.],\n",
    "                    \n",
    "\n",
    "n_samples = 20000\n",
    "burn = 10000\n",
    "n_iter = 4\n",
    "\n",
    "params = run_several_expo(n_iter, beta_true, size_data_list, C, beta0_prior_list,\n",
    "                     beta1_prior_list, alpha_prior_list, n_samples, burn, plot=True, thin=20)"
   ]
  },
  {
   "cell_type": "code",
   "execution_count": null,
   "metadata": {},
   "outputs": [],
   "source": [
    "params['alpha_prior'] = params['alpha_prior'].astype(str)\n",
    "params['beta0_prior'] = params['beta0_prior'].astype(str)\n",
    "params['beta1_prior'] = params['beta1_prior'].astype(str)\n",
    "\n",
    "params"
   ]
  },
  {
   "cell_type": "code",
   "execution_count": null,
   "metadata": {},
   "outputs": [],
   "source": [
    "# Impact taille de la BDD\n",
    "params.groupby(['N'], as_index=False)[['beta0_MQP', 'beta1_MQP']].mean()"
   ]
  },
  {
   "cell_type": "markdown",
   "metadata": {},
   "source": [
    "# Influence de Beta0"
   ]
  },
  {
   "cell_type": "code",
   "execution_count": null,
   "metadata": {},
   "outputs": [],
   "source": [
    "C = 100\n",
    "beta_true = np.array([0.15, -25])\n",
    "size_data_list = [250]\n",
    "\n",
    "beta0_prior_list = [['Uniform', 0., 1.], ['Uniform', -1., 1.], ['Gamma', 1, 10], ['Gamma', 3, 10], ['Gamma', 1, 4], \n",
    "                    ['Normal', 0.15, 5], ['Normal', 0.1, 5]]\n",
    "beta1_prior_list = [['Normal', -25., 5.]]#[['Uniform', -60., 0.], ['Uniform', -30., -20.], ['Uniform', -40., -20.], ['Gaussian', -25., 10]]\n",
    "alpha_prior_list = [['Constant', 1.]]\n",
    "\n",
    "n_samples = 20000\n",
    "burn = 10000\n",
    "n_iter = 2\n",
    "\n",
    "params = run_several_expo(n_iter, beta_true, size_data_list, C, beta0_prior_list,\n",
    "                     beta1_prior_list, alpha_prior_list, n_samples, burn, plot=True, thin=20)"
   ]
  },
  {
   "cell_type": "code",
   "execution_count": null,
   "metadata": {},
   "outputs": [],
   "source": [
    "params['alpha_prior'] = params['alpha_prior'].astype(str)\n",
    "params['beta0_prior'] = params['beta0_prior'].astype(str)\n",
    "params['beta1_prior'] = params['beta1_prior'].astype(str)\n",
    "\n",
    "params"
   ]
  },
  {
   "cell_type": "code",
   "execution_count": null,
   "metadata": {},
   "outputs": [],
   "source": [
    "# Impact du prior beta0\n",
    "params.groupby(['beta0_prior', 'beta1_prior'], as_index=False)[['beta0_MQP', 'beta1_MQP']].mean()"
   ]
  },
  {
   "cell_type": "markdown",
   "metadata": {},
   "source": [
    "# Influence de Beta1"
   ]
  },
  {
   "cell_type": "code",
   "execution_count": null,
   "metadata": {},
   "outputs": [],
   "source": [
    "C = 100\n",
    "beta_true = np.array([0.15, -25])\n",
    "size_data_list = [250]\n",
    "\n",
    "beta0_prior_list = [['Normal', 0.1, 5]]\n",
    "beta1_prior_list = [['Uniform', -60., 0.], ['Uniform', -30., -20.], ['Uniform', -40., -20.], ['Normal', -25., 10],\n",
    "                   ['Normal', -25., 20]]\n",
    "alpha_prior_list = [['Constant', .5]]\n",
    "\n",
    "n_samples = 20000\n",
    "burn = 10000\n",
    "n_iter = 4\n",
    "\n",
    "params = run_several_expo(n_iter, beta_true, size_data_list, C, beta0_prior_list,\n",
    "                     beta1_prior_list, alpha_prior_list, n_samples, burn, plot=True, thin=20)"
   ]
  },
  {
   "cell_type": "code",
   "execution_count": null,
   "metadata": {},
   "outputs": [],
   "source": [
    "params['alpha_prior'] = params['alpha_prior'].astype(str)\n",
    "params['beta0_prior'] = params['beta0_prior'].astype(str)\n",
    "params['beta1_prior'] = params['beta1_prior'].astype(str)\n",
    "\n",
    "params"
   ]
  },
  {
   "cell_type": "code",
   "execution_count": null,
   "metadata": {},
   "outputs": [],
   "source": [
    "# Impact des prior beta1\n",
    "params.groupby(['beta0_prior', 'beta1_prior'], as_index=False)[['beta0_MQP', 'beta1_MQP']].mean()"
   ]
  }
 ],
 "metadata": {
  "kernelspec": {
   "display_name": "Python 3",
   "language": "python",
   "name": "python3"
  },
  "language_info": {
   "codemirror_mode": {
    "name": "ipython",
    "version": 3
   },
   "file_extension": ".py",
   "mimetype": "text/x-python",
   "name": "python",
   "nbconvert_exporter": "python",
   "pygments_lexer": "ipython3",
   "version": "3.5.2"
  }
 },
 "nbformat": 4,
 "nbformat_minor": 2
}
